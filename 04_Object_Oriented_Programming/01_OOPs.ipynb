{
 "cells": [
  {
   "cell_type": "code",
   "execution_count": 1,
   "id": "a1392455",
   "metadata": {},
   "outputs": [],
   "source": [
    "lst = [1,2,3]\n",
    "lst.append(4)"
   ]
  },
  {
   "cell_type": "code",
   "execution_count": 2,
   "id": "96bd853c",
   "metadata": {},
   "outputs": [
    {
     "data": {
      "text/plain": [
       "[1, 2, 3, 4]"
      ]
     },
     "execution_count": 2,
     "metadata": {},
     "output_type": "execute_result"
    }
   ],
   "source": [
    "lst"
   ]
  },
  {
   "cell_type": "markdown",
   "id": "ff5c0fc0",
   "metadata": {},
   "source": [
    "* Class.object -- >> Attribute (characteristic of object)\n",
    "* Class.method(param) -->> Method (Operation that we perform with the object)\n",
    "\n",
    "\n",
    "##### Attributes"
   ]
  },
  {
   "cell_type": "code",
   "execution_count": 8,
   "id": "c53c9871",
   "metadata": {},
   "outputs": [],
   "source": [
    "class Dog:\n",
    "    def __init__(self, breed, color):\n",
    "        self.breed = breed\n",
    "        self.color = color\n",
    "    "
   ]
  },
  {
   "cell_type": "code",
   "execution_count": 9,
   "id": "1bf3a8d2",
   "metadata": {},
   "outputs": [],
   "source": [
    "sammy = Dog(breed= 'Huskie',color = 'Brown')"
   ]
  },
  {
   "cell_type": "code",
   "execution_count": 10,
   "id": "67b98f59",
   "metadata": {},
   "outputs": [
    {
     "data": {
      "text/plain": [
       "'Huskie'"
      ]
     },
     "execution_count": 10,
     "metadata": {},
     "output_type": "execute_result"
    }
   ],
   "source": [
    "sammy.breed"
   ]
  },
  {
   "cell_type": "code",
   "execution_count": 11,
   "id": "b6470401",
   "metadata": {},
   "outputs": [
    {
     "data": {
      "text/plain": [
       "'Brown'"
      ]
     },
     "execution_count": 11,
     "metadata": {},
     "output_type": "execute_result"
    }
   ],
   "source": [
    "sammy.color"
   ]
  },
  {
   "cell_type": "code",
   "execution_count": 12,
   "id": "b6ab1388",
   "metadata": {},
   "outputs": [],
   "source": [
    "frankie = Dog(breed= 'Lab',color = 'Black')"
   ]
  },
  {
   "cell_type": "code",
   "execution_count": 14,
   "id": "f9722eaf",
   "metadata": {},
   "outputs": [
    {
     "data": {
      "text/plain": [
       "'Black'"
      ]
     },
     "execution_count": 14,
     "metadata": {},
     "output_type": "execute_result"
    }
   ],
   "source": [
    "frankie.color #attribute"
   ]
  },
  {
   "cell_type": "code",
   "execution_count": 15,
   "id": "95e4f8aa",
   "metadata": {},
   "outputs": [],
   "source": [
    "class Dog:\n",
    "    language = 'bark' #class object attribute\n",
    "    def __init__(self, breed, color):\n",
    "        self.breed = breed\n",
    "        self.color = color"
   ]
  },
  {
   "cell_type": "code",
   "execution_count": 16,
   "id": "9d28bc86",
   "metadata": {},
   "outputs": [],
   "source": [
    "sam = Dog(breed= 'shitzu',color = 'white')"
   ]
  },
  {
   "cell_type": "code",
   "execution_count": 17,
   "id": "1e75fdf2",
   "metadata": {},
   "outputs": [
    {
     "data": {
      "text/plain": [
       "'bark'"
      ]
     },
     "execution_count": 17,
     "metadata": {},
     "output_type": "execute_result"
    }
   ],
   "source": [
    "sam.language"
   ]
  },
  {
   "cell_type": "markdown",
   "id": "d11195ea",
   "metadata": {},
   "source": [
    "##### Methods"
   ]
  },
  {
   "cell_type": "code",
   "execution_count": 40,
   "id": "368bb007",
   "metadata": {},
   "outputs": [],
   "source": [
    "class Sphere:\n",
    "    pi = 22/7\n",
    "    \n",
    "    \n",
    "    #class object attribute\n",
    "    def __init__(self, radius=1):\n",
    "        self.radius = radius\n",
    "        self.area = 4*Sphere.pi*radius*radius\n",
    "        \n",
    "    #method\n",
    "    \n",
    "    def resetRadius(self, new_radius):\n",
    "        self.radius = new_radius\n",
    "        self.area = 4*Sphere.pi*new_radius*new_radius\n",
    "        \n",
    "    #method\n",
    "    \n",
    "    def Volume(self):\n",
    "        return 4*self.pi*(self.radius**3)/3"
   ]
  },
  {
   "cell_type": "code",
   "execution_count": 41,
   "id": "428486f8",
   "metadata": {},
   "outputs": [],
   "source": [
    "s1 = Sphere(radius=3)"
   ]
  },
  {
   "cell_type": "code",
   "execution_count": 42,
   "id": "61658b56",
   "metadata": {},
   "outputs": [
    {
     "data": {
      "text/plain": [
       "113.14285714285714"
      ]
     },
     "execution_count": 42,
     "metadata": {},
     "output_type": "execute_result"
    }
   ],
   "source": [
    "s1.area"
   ]
  },
  {
   "cell_type": "code",
   "execution_count": 43,
   "id": "95c96ceb",
   "metadata": {},
   "outputs": [
    {
     "data": {
      "text/plain": [
       "3.142857142857143"
      ]
     },
     "execution_count": 43,
     "metadata": {},
     "output_type": "execute_result"
    }
   ],
   "source": [
    "s1.pi"
   ]
  },
  {
   "cell_type": "code",
   "execution_count": 44,
   "id": "26894c07",
   "metadata": {},
   "outputs": [
    {
     "data": {
      "text/plain": [
       "3"
      ]
     },
     "execution_count": 44,
     "metadata": {},
     "output_type": "execute_result"
    }
   ],
   "source": [
    "s1.radius"
   ]
  },
  {
   "cell_type": "code",
   "execution_count": 45,
   "id": "5e5f5347",
   "metadata": {},
   "outputs": [],
   "source": [
    "s2 = Sphere()"
   ]
  },
  {
   "cell_type": "code",
   "execution_count": 46,
   "id": "00569ca4",
   "metadata": {},
   "outputs": [
    {
     "data": {
      "text/plain": [
       "12.571428571428571"
      ]
     },
     "execution_count": 46,
     "metadata": {},
     "output_type": "execute_result"
    }
   ],
   "source": [
    "s2.area"
   ]
  },
  {
   "cell_type": "code",
   "execution_count": 47,
   "id": "3430ad7c",
   "metadata": {},
   "outputs": [],
   "source": [
    "s = Sphere()"
   ]
  },
  {
   "cell_type": "code",
   "execution_count": 48,
   "id": "5fefdb26",
   "metadata": {},
   "outputs": [
    {
     "data": {
      "text/plain": [
       "1"
      ]
     },
     "execution_count": 48,
     "metadata": {},
     "output_type": "execute_result"
    }
   ],
   "source": [
    "s.radius"
   ]
  },
  {
   "cell_type": "code",
   "execution_count": 49,
   "id": "434d5706",
   "metadata": {},
   "outputs": [
    {
     "data": {
      "text/plain": [
       "12.571428571428571"
      ]
     },
     "execution_count": 49,
     "metadata": {},
     "output_type": "execute_result"
    }
   ],
   "source": [
    "s.area"
   ]
  },
  {
   "cell_type": "code",
   "execution_count": 50,
   "id": "53ab25f0",
   "metadata": {},
   "outputs": [
    {
     "data": {
      "text/plain": [
       "4.190476190476191"
      ]
     },
     "execution_count": 50,
     "metadata": {},
     "output_type": "execute_result"
    }
   ],
   "source": [
    "s.Volume()"
   ]
  },
  {
   "cell_type": "code",
   "execution_count": 51,
   "id": "6ea8aa15",
   "metadata": {},
   "outputs": [],
   "source": [
    "s.resetRadius(8)"
   ]
  },
  {
   "cell_type": "code",
   "execution_count": 52,
   "id": "0898253b",
   "metadata": {},
   "outputs": [
    {
     "data": {
      "text/plain": [
       "8"
      ]
     },
     "execution_count": 52,
     "metadata": {},
     "output_type": "execute_result"
    }
   ],
   "source": [
    "s.radius"
   ]
  },
  {
   "cell_type": "code",
   "execution_count": 53,
   "id": "c35589d0",
   "metadata": {},
   "outputs": [
    {
     "data": {
      "text/plain": [
       "804.5714285714286"
      ]
     },
     "execution_count": 53,
     "metadata": {},
     "output_type": "execute_result"
    }
   ],
   "source": [
    "s.area"
   ]
  },
  {
   "cell_type": "code",
   "execution_count": 60,
   "id": "342b9280",
   "metadata": {},
   "outputs": [],
   "source": [
    "class Line(object):\n",
    "    \n",
    "    def __init__(self,coor1,coor2):\n",
    "        self.coor1 = coor1\n",
    "        self.coor2 = coor2\n",
    "        \n",
    "    def distance(self):\n",
    "        x1,y1 = self.coor1\n",
    "        x2,y2 = self.coor2\n",
    "        return ((x2-x1)**2 + (y2-y1)**2)**0.5"
   ]
  },
  {
   "cell_type": "code",
   "execution_count": 61,
   "id": "29eaca9b",
   "metadata": {},
   "outputs": [],
   "source": [
    "c1 = (3,2)\n",
    "c2 = (8,10)\n",
    "\n",
    "l1 = Line(c1,c2)"
   ]
  },
  {
   "cell_type": "code",
   "execution_count": 62,
   "id": "96a71b5e",
   "metadata": {},
   "outputs": [
    {
     "data": {
      "text/plain": [
       "9.433981132056603"
      ]
     },
     "execution_count": 62,
     "metadata": {},
     "output_type": "execute_result"
    }
   ],
   "source": [
    "l1.distance()"
   ]
  },
  {
   "cell_type": "code",
   "execution_count": 63,
   "id": "28f591f8",
   "metadata": {},
   "outputs": [
    {
     "data": {
      "text/plain": [
       "(3, 2)"
      ]
     },
     "execution_count": 63,
     "metadata": {},
     "output_type": "execute_result"
    }
   ],
   "source": [
    "l1.coor1"
   ]
  },
  {
   "cell_type": "markdown",
   "id": "f36ace82",
   "metadata": {},
   "source": [
    "* Owner\n",
    "* Balance\n",
    "\n",
    "* Deposit\n",
    "* Withdraw"
   ]
  },
  {
   "cell_type": "code",
   "execution_count": 77,
   "id": "89a311b1",
   "metadata": {},
   "outputs": [],
   "source": [
    "class BankAccount:\n",
    "    def __init__(self,owner,balance=0):\n",
    "        self.owner = owner\n",
    "        self.balance = balance\n",
    "        \n",
    "    def __str__(self):\n",
    "        return f'Account owner: {self.owner}\\nAvailable Balance: ${self.balance}'\n",
    "    \n",
    "    def credit(self,dep_amount):\n",
    "        self.balance = self.balance + dep_amount\n",
    "        print(f'Amount Credited. New Balance is {self.balance}')\n",
    "        \n",
    "    def debit(self,wd_amount):\n",
    "        if self.balance >= wd_amount:\n",
    "            self.balance = self.balance - wd_amount\n",
    "            print(f'Amount Debited. New Balance is {self.balance}')\n",
    "        else:\n",
    "            print('Insufficient Funds')"
   ]
  },
  {
   "cell_type": "code",
   "execution_count": 78,
   "id": "a9138e37",
   "metadata": {},
   "outputs": [],
   "source": [
    "ac1 = BankAccount('Shreyas',100)"
   ]
  },
  {
   "cell_type": "code",
   "execution_count": 79,
   "id": "fce0f61b",
   "metadata": {},
   "outputs": [
    {
     "data": {
      "text/plain": [
       "'Shreyas'"
      ]
     },
     "execution_count": 79,
     "metadata": {},
     "output_type": "execute_result"
    }
   ],
   "source": [
    "ac1.owner"
   ]
  },
  {
   "cell_type": "code",
   "execution_count": 80,
   "id": "e3183771",
   "metadata": {},
   "outputs": [
    {
     "name": "stdout",
     "output_type": "stream",
     "text": [
      "Account owner: Shreyas\n",
      "Available Balance: $100\n"
     ]
    }
   ],
   "source": [
    "print(ac1)"
   ]
  },
  {
   "cell_type": "code",
   "execution_count": 81,
   "id": "80c65434",
   "metadata": {},
   "outputs": [
    {
     "name": "stdout",
     "output_type": "stream",
     "text": [
      "Account owner: Shreyas\n",
      "Available Balance: $100\n"
     ]
    }
   ],
   "source": [
    "print(f'Account owner: {ac1.owner}\\nAvailable Balance: ${ac1.balance}')"
   ]
  },
  {
   "cell_type": "code",
   "execution_count": 82,
   "id": "19490710",
   "metadata": {},
   "outputs": [
    {
     "name": "stdout",
     "output_type": "stream",
     "text": [
      "Amount Credited. New Balance is 1100\n"
     ]
    }
   ],
   "source": [
    "ac1.credit(1000)"
   ]
  },
  {
   "cell_type": "code",
   "execution_count": 83,
   "id": "7041be63",
   "metadata": {},
   "outputs": [
    {
     "name": "stdout",
     "output_type": "stream",
     "text": [
      "Amount Debited. New Balance is 50\n"
     ]
    }
   ],
   "source": [
    "ac1.debit(1050)"
   ]
  },
  {
   "cell_type": "code",
   "execution_count": 84,
   "id": "ee5a8ef8",
   "metadata": {},
   "outputs": [
    {
     "name": "stdout",
     "output_type": "stream",
     "text": [
      "Account owner: Shreyas\n",
      "Available Balance: $50\n"
     ]
    }
   ],
   "source": [
    "print(ac1)"
   ]
  },
  {
   "cell_type": "code",
   "execution_count": 85,
   "id": "7f96ba10",
   "metadata": {},
   "outputs": [
    {
     "name": "stdout",
     "output_type": "stream",
     "text": [
      "Insufficient Funds\n"
     ]
    }
   ],
   "source": [
    "ac1.debit(100)"
   ]
  },
  {
   "cell_type": "markdown",
   "id": "f0489191",
   "metadata": {},
   "source": [
    "Cylinder -->> volume and surface area"
   ]
  },
  {
   "cell_type": "code",
   "execution_count": 89,
   "id": "051fa5f8",
   "metadata": {},
   "outputs": [],
   "source": [
    "class Cylinder:\n",
    "    pi = 22/7\n",
    "    def __init__(self,height=1,radius=3):\n",
    "        self.height = height\n",
    "        self.radius = radius\n",
    "        \n",
    "    def volume(self):\n",
    "        return self.height*Cylinder.pi*self.radius*self.radius\n",
    "    def surface_area(self):\n",
    "        top_bottom = Cylinder.pi*self.radius*2*2\n",
    "        return top_bottom + (2*Cylinder.pi*self.radius*self.height)"
   ]
  },
  {
   "cell_type": "code",
   "execution_count": 90,
   "id": "199c6a90",
   "metadata": {},
   "outputs": [],
   "source": [
    "c = Cylinder(height=3,radius=5)"
   ]
  },
  {
   "cell_type": "code",
   "execution_count": 91,
   "id": "7700026e",
   "metadata": {},
   "outputs": [
    {
     "data": {
      "text/plain": [
       "235.71428571428572"
      ]
     },
     "execution_count": 91,
     "metadata": {},
     "output_type": "execute_result"
    }
   ],
   "source": [
    "c.volume()"
   ]
  },
  {
   "cell_type": "code",
   "execution_count": 92,
   "id": "63bff8f9",
   "metadata": {},
   "outputs": [
    {
     "data": {
      "text/plain": [
       "157.14285714285714"
      ]
     },
     "execution_count": 92,
     "metadata": {},
     "output_type": "execute_result"
    }
   ],
   "source": [
    "c.surface_area()"
   ]
  },
  {
   "cell_type": "markdown",
   "id": "02878588",
   "metadata": {},
   "source": [
    "#### Inheritance\n",
    "\n",
    "* Inheritance: a class inheriting properties and methods of another class\n",
    "* Base/Parent Class : Class being inherited from\n",
    "* Derived/Child Class : Class that inherits from base class"
   ]
  },
  {
   "cell_type": "code",
   "execution_count": 93,
   "id": "d1d9b083",
   "metadata": {},
   "outputs": [],
   "source": [
    "class Animal:\n",
    "    def sound(self):\n",
    "        return 'some sound'"
   ]
  },
  {
   "cell_type": "code",
   "execution_count": 94,
   "id": "a8aa181c",
   "metadata": {},
   "outputs": [],
   "source": [
    "class Dog(Animal): #Dog class inherits from Animal class\n",
    "    def bark(self):\n",
    "        return 'Woof !!'"
   ]
  },
  {
   "cell_type": "code",
   "execution_count": 95,
   "id": "248d3a17",
   "metadata": {},
   "outputs": [],
   "source": [
    "ani = Animal()"
   ]
  },
  {
   "cell_type": "code",
   "execution_count": 97,
   "id": "24d09bc3",
   "metadata": {},
   "outputs": [
    {
     "data": {
      "text/plain": [
       "'some sound'"
      ]
     },
     "execution_count": 97,
     "metadata": {},
     "output_type": "execute_result"
    }
   ],
   "source": [
    "ani.sound()"
   ]
  },
  {
   "cell_type": "code",
   "execution_count": 98,
   "id": "c9e75504",
   "metadata": {},
   "outputs": [],
   "source": [
    "jackie = Dog()"
   ]
  },
  {
   "cell_type": "code",
   "execution_count": 100,
   "id": "a11d2fb2",
   "metadata": {},
   "outputs": [
    {
     "data": {
      "text/plain": [
       "'some sound'"
      ]
     },
     "execution_count": 100,
     "metadata": {},
     "output_type": "execute_result"
    }
   ],
   "source": [
    "jackie.sound()"
   ]
  },
  {
   "cell_type": "code",
   "execution_count": 101,
   "id": "07a2d9ff",
   "metadata": {},
   "outputs": [
    {
     "data": {
      "text/plain": [
       "'Woof !!'"
      ]
     },
     "execution_count": 101,
     "metadata": {},
     "output_type": "execute_result"
    }
   ],
   "source": [
    "jackie.bark()"
   ]
  },
  {
   "cell_type": "markdown",
   "id": "78959443",
   "metadata": {},
   "source": [
    "###### Super()"
   ]
  },
  {
   "cell_type": "code",
   "execution_count": 115,
   "id": "f36d2217",
   "metadata": {},
   "outputs": [],
   "source": [
    "class Human:\n",
    "    def __init__(self,name,age):\n",
    "        self.name = name\n",
    "        self.age = age"
   ]
  },
  {
   "cell_type": "code",
   "execution_count": 116,
   "id": "abcd3756",
   "metadata": {},
   "outputs": [],
   "source": [
    "class Employee(Human):\n",
    "    def __init__(self,name,age,employee_id):\n",
    "        super().__init__(name,age) #call the init of Human\n",
    "        self.employee_id = employee_id"
   ]
  },
  {
   "cell_type": "code",
   "execution_count": 127,
   "id": "8f78f888",
   "metadata": {},
   "outputs": [],
   "source": [
    "ra = Human('Rahul',30)"
   ]
  },
  {
   "cell_type": "code",
   "execution_count": 128,
   "id": "61145396",
   "metadata": {},
   "outputs": [
    {
     "data": {
      "text/plain": [
       "30"
      ]
     },
     "execution_count": 128,
     "metadata": {},
     "output_type": "execute_result"
    }
   ],
   "source": [
    "ra.age"
   ]
  },
  {
   "cell_type": "code",
   "execution_count": 129,
   "id": "ab9246b0",
   "metadata": {},
   "outputs": [],
   "source": [
    "emp_ri = Employee('Rishab',34,304)"
   ]
  },
  {
   "cell_type": "code",
   "execution_count": 130,
   "id": "4fcae019",
   "metadata": {},
   "outputs": [
    {
     "data": {
      "text/plain": [
       "304"
      ]
     },
     "execution_count": 130,
     "metadata": {},
     "output_type": "execute_result"
    }
   ],
   "source": [
    "emp_ri.employee_id"
   ]
  },
  {
   "cell_type": "code",
   "execution_count": 124,
   "id": "e8484442",
   "metadata": {},
   "outputs": [],
   "source": [
    "#Method Over-riding in Inheritance\n",
    "\n",
    "class Bird:\n",
    "    def fly(self):\n",
    "        return 'Flying'\n",
    "    \n",
    "class Penguin(Bird):\n",
    "    def fly(self):\n",
    "        return 'cannot fly'"
   ]
  },
  {
   "cell_type": "code",
   "execution_count": 125,
   "id": "ca1a14e1",
   "metadata": {},
   "outputs": [],
   "source": [
    "p1 = Penguin()"
   ]
  },
  {
   "cell_type": "code",
   "execution_count": 126,
   "id": "c7551fae",
   "metadata": {},
   "outputs": [
    {
     "data": {
      "text/plain": [
       "'cannot fly'"
      ]
     },
     "execution_count": 126,
     "metadata": {},
     "output_type": "execute_result"
    }
   ],
   "source": [
    "p1.fly()"
   ]
  },
  {
   "cell_type": "code",
   "execution_count": 131,
   "id": "af262a19",
   "metadata": {},
   "outputs": [],
   "source": [
    "class Vehicle:\n",
    "    def fuel_efficiency(self):\n",
    "        print('Which vehicle?')\n",
    "        \n",
    "    def emission_norms(self):\n",
    "        print('All Vehicles are BS-6 compliant')"
   ]
  },
  {
   "cell_type": "code",
   "execution_count": 132,
   "id": "629addba",
   "metadata": {},
   "outputs": [],
   "source": [
    "class Car(Vehicle):\n",
    "    def __init__(self,fuel_consumed,distance):\n",
    "        self.fuel_consumed = fuel_consumed\n",
    "        self.distance = distance\n",
    "        \n",
    "    def fuel_efficiency(self):\n",
    "        return self.distance/self.fuel_consumed"
   ]
  },
  {
   "cell_type": "code",
   "execution_count": 133,
   "id": "2190f948",
   "metadata": {},
   "outputs": [],
   "source": [
    "maruti = Car(fuel_consumed=16,distance=300)"
   ]
  },
  {
   "cell_type": "code",
   "execution_count": 135,
   "id": "6ddd876c",
   "metadata": {},
   "outputs": [
    {
     "data": {
      "text/plain": [
       "18.75"
      ]
     },
     "execution_count": 135,
     "metadata": {},
     "output_type": "execute_result"
    }
   ],
   "source": [
    "maruti.fuel_efficiency()"
   ]
  },
  {
   "cell_type": "code",
   "execution_count": 137,
   "id": "7720abc9",
   "metadata": {},
   "outputs": [
    {
     "name": "stdout",
     "output_type": "stream",
     "text": [
      "All Vehicles are BS-6 compliant\n"
     ]
    }
   ],
   "source": [
    "maruti.emission_norms()"
   ]
  },
  {
   "cell_type": "code",
   "execution_count": 138,
   "id": "3b5eb5cc",
   "metadata": {},
   "outputs": [
    {
     "data": {
      "text/plain": [
       "16"
      ]
     },
     "execution_count": 138,
     "metadata": {},
     "output_type": "execute_result"
    }
   ],
   "source": [
    "maruti.fuel_consumed"
   ]
  },
  {
   "cell_type": "code",
   "execution_count": 139,
   "id": "e3488386",
   "metadata": {},
   "outputs": [
    {
     "data": {
      "text/plain": [
       "300"
      ]
     },
     "execution_count": 139,
     "metadata": {},
     "output_type": "execute_result"
    }
   ],
   "source": [
    "maruti.distance"
   ]
  },
  {
   "cell_type": "code",
   "execution_count": null,
   "id": "94e6ab99",
   "metadata": {},
   "outputs": [],
   "source": []
  }
 ],
 "metadata": {
  "kernelspec": {
   "display_name": "Python 3 (ipykernel)",
   "language": "python",
   "name": "python3"
  },
  "language_info": {
   "codemirror_mode": {
    "name": "ipython",
    "version": 3
   },
   "file_extension": ".py",
   "mimetype": "text/x-python",
   "name": "python",
   "nbconvert_exporter": "python",
   "pygments_lexer": "ipython3",
   "version": "3.11.5"
  }
 },
 "nbformat": 4,
 "nbformat_minor": 5
}
