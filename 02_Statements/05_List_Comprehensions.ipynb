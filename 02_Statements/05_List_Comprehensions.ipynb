{
 "cells": [
  {
   "cell_type": "markdown",
   "id": "b7a6c029",
   "metadata": {},
   "source": [
    "###### one line for loop built inside of brackets to output list"
   ]
  },
  {
   "cell_type": "code",
   "execution_count": 1,
   "id": "682fc6ae",
   "metadata": {},
   "outputs": [
    {
     "data": {
      "text/plain": [
       "['W', 'O', 'R', 'D']"
      ]
     },
     "execution_count": 1,
     "metadata": {},
     "output_type": "execute_result"
    }
   ],
   "source": [
    "[l.upper() for l in 'word']"
   ]
  },
  {
   "cell_type": "code",
   "execution_count": 16,
   "id": "fe6eeccf",
   "metadata": {},
   "outputs": [
    {
     "data": {
      "text/plain": [
       "[21.333333333333332,\n",
       " 41.666666666666664,\n",
       " 72.0,\n",
       " 114.33333333333333,\n",
       " 170.66666666666666,\n",
       " 243.0,\n",
       " 333.3333333333333]"
      ]
     },
     "execution_count": 16,
     "metadata": {},
     "output_type": "execute_result"
    }
   ],
   "source": [
    "[num/3 for num in [n**3 for n in range(1,11)] if num/3 > 20]"
   ]
  },
  {
   "cell_type": "code",
   "execution_count": 4,
   "id": "3c228d8b",
   "metadata": {},
   "outputs": [
    {
     "data": {
      "text/plain": [
       "[4, 16, 36, 64, 100, 144, 196, 256, 324, 400, 484, 576, 676, 784, 900]"
      ]
     },
     "execution_count": 4,
     "metadata": {},
     "output_type": "execute_result"
    }
   ],
   "source": [
    "#add if statements\n",
    "\n",
    "[n**2 for n in range(1,31) if n%2 == 0]"
   ]
  },
  {
   "cell_type": "markdown",
   "id": "f6849b2b",
   "metadata": {},
   "source": [
    "* first letter each word of this string s = 'This is MLDAP course which is the comprehensive course on Data Analtyics and Machine Learning'\n",
    "* Filter out all the vowels from this string and store the remaining characters in a list\n",
    "* length of each word of this string\n",
    "* create a list of numbers from 1 to 30 where each number is replaced with 'even' if it is even and 'odd' if it is odd.\n",
    "* All the numbers between 50 and 250 which are divisible by both 3 and 5\n"
   ]
  },
  {
   "cell_type": "code",
   "execution_count": 1,
   "id": "a6bf79d2",
   "metadata": {},
   "outputs": [],
   "source": [
    "s = 'This is MLDAP course which is the comprehensive course on Data Analtyics and Machine Learning'"
   ]
  },
  {
   "cell_type": "code",
   "execution_count": 3,
   "id": "791befed",
   "metadata": {},
   "outputs": [
    {
     "data": {
      "text/plain": [
       "['T', 'i', 'M', 'c', 'w', 'i', 't', 'c', 'c', 'o', 'D', 'A', 'a', 'M', 'L']"
      ]
     },
     "execution_count": 3,
     "metadata": {},
     "output_type": "execute_result"
    }
   ],
   "source": [
    "#1\n",
    "[w[0] for w in s.split()]"
   ]
  },
  {
   "cell_type": "code",
   "execution_count": 5,
   "id": "3458a21f",
   "metadata": {},
   "outputs": [
    {
     "data": {
      "text/plain": [
       "['t',\n",
       " 'h',\n",
       " 's',\n",
       " ' ',\n",
       " 's',\n",
       " ' ',\n",
       " 'm',\n",
       " 'l',\n",
       " 'd',\n",
       " 'p',\n",
       " ' ',\n",
       " 'c',\n",
       " 'r',\n",
       " 's',\n",
       " ' ',\n",
       " 'w',\n",
       " 'h',\n",
       " 'c',\n",
       " 'h',\n",
       " ' ',\n",
       " 's',\n",
       " ' ',\n",
       " 't',\n",
       " 'h',\n",
       " ' ',\n",
       " 'c',\n",
       " 'm',\n",
       " 'p',\n",
       " 'r',\n",
       " 'h',\n",
       " 'n',\n",
       " 's',\n",
       " 'v',\n",
       " ' ',\n",
       " 'c',\n",
       " 'r',\n",
       " 's',\n",
       " ' ',\n",
       " 'n',\n",
       " ' ',\n",
       " 'd',\n",
       " 't',\n",
       " ' ',\n",
       " 'n',\n",
       " 'l',\n",
       " 't',\n",
       " 'y',\n",
       " 'c',\n",
       " 's',\n",
       " ' ',\n",
       " 'n',\n",
       " 'd',\n",
       " ' ',\n",
       " 'm',\n",
       " 'c',\n",
       " 'h',\n",
       " 'n',\n",
       " ' ',\n",
       " 'l',\n",
       " 'r',\n",
       " 'n',\n",
       " 'n',\n",
       " 'g']"
      ]
     },
     "execution_count": 5,
     "metadata": {},
     "output_type": "execute_result"
    }
   ],
   "source": [
    "#2\n",
    "[l for l in s.lower() if l not in 'aeiou']"
   ]
  },
  {
   "cell_type": "code",
   "execution_count": 6,
   "id": "15391d5e",
   "metadata": {},
   "outputs": [
    {
     "data": {
      "text/plain": [
       "[4, 2, 5, 6, 5, 2, 3, 13, 6, 2, 4, 9, 3, 7, 8]"
      ]
     },
     "execution_count": 6,
     "metadata": {},
     "output_type": "execute_result"
    }
   ],
   "source": [
    "#3\n",
    "[len(w) for w in s.split()]"
   ]
  },
  {
   "cell_type": "code",
   "execution_count": 7,
   "id": "ec938f03",
   "metadata": {},
   "outputs": [
    {
     "data": {
      "text/plain": [
       "['odd',\n",
       " 'even',\n",
       " 'odd',\n",
       " 'even',\n",
       " 'odd',\n",
       " 'even',\n",
       " 'odd',\n",
       " 'even',\n",
       " 'odd',\n",
       " 'even',\n",
       " 'odd',\n",
       " 'even',\n",
       " 'odd',\n",
       " 'even',\n",
       " 'odd',\n",
       " 'even',\n",
       " 'odd',\n",
       " 'even',\n",
       " 'odd',\n",
       " 'even',\n",
       " 'odd',\n",
       " 'even',\n",
       " 'odd',\n",
       " 'even',\n",
       " 'odd',\n",
       " 'even',\n",
       " 'odd',\n",
       " 'even',\n",
       " 'odd',\n",
       " 'even']"
      ]
     },
     "execution_count": 7,
     "metadata": {},
     "output_type": "execute_result"
    }
   ],
   "source": [
    "#4\n",
    "['even' if num%2 == 0 else 'odd' for num in range(1,31)]"
   ]
  },
  {
   "cell_type": "code",
   "execution_count": 8,
   "id": "3b36c349",
   "metadata": {},
   "outputs": [
    {
     "data": {
      "text/plain": [
       "[60, 75, 90, 105, 120, 135, 150, 165, 180, 195, 210, 225, 240]"
      ]
     },
     "execution_count": 8,
     "metadata": {},
     "output_type": "execute_result"
    }
   ],
   "source": [
    "[num for num in range(50,250) if num%3 ==0 and num%5 == 0]"
   ]
  },
  {
   "cell_type": "code",
   "execution_count": 10,
   "id": "ea0204b1",
   "metadata": {},
   "outputs": [
    {
     "data": {
      "text/plain": [
       "[1, 2, 3, 4, 5, 6, 7, 8]"
      ]
     },
     "execution_count": 10,
     "metadata": {},
     "output_type": "execute_result"
    }
   ],
   "source": [
    "lst = [[1,2,3],[4,5],[6,7,8]]\n",
    "[item for sublist in lst for item in sublist]"
   ]
  },
  {
   "cell_type": "code",
   "execution_count": 12,
   "id": "4fb8c5d5",
   "metadata": {},
   "outputs": [
    {
     "data": {
      "text/plain": [
       "[32.0, 50.0, 86.612, 113.0, 101.966]"
      ]
     },
     "execution_count": 12,
     "metadata": {},
     "output_type": "execute_result"
    }
   ],
   "source": [
    "celsius = [0,10,30.34,45,38.87]\n",
    "\n",
    "#F = (9/5)*C + 32\n",
    "\n",
    "[((9/5)*i+32)for i in celsius]"
   ]
  },
  {
   "cell_type": "code",
   "execution_count": 13,
   "id": "94d8643d",
   "metadata": {},
   "outputs": [
    {
     "data": {
      "text/plain": [
       "['hi', 'hi', 'hi', 'hi', 'hi']"
      ]
     },
     "execution_count": 13,
     "metadata": {},
     "output_type": "execute_result"
    }
   ],
   "source": [
    "['hi' for i in celsius]"
   ]
  },
  {
   "cell_type": "code",
   "execution_count": null,
   "id": "f82bbc08",
   "metadata": {},
   "outputs": [],
   "source": []
  }
 ],
 "metadata": {
  "kernelspec": {
   "display_name": "Python 3 (ipykernel)",
   "language": "python",
   "name": "python3"
  },
  "language_info": {
   "codemirror_mode": {
    "name": "ipython",
    "version": 3
   },
   "file_extension": ".py",
   "mimetype": "text/x-python",
   "name": "python",
   "nbconvert_exporter": "python",
   "pygments_lexer": "ipython3",
   "version": "3.11.5"
  }
 },
 "nbformat": 4,
 "nbformat_minor": 5
}
