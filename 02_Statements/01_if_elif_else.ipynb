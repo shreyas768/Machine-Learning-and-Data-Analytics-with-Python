{
 "cells": [
  {
   "cell_type": "code",
   "execution_count": 1,
   "id": "90f4991f",
   "metadata": {},
   "outputs": [
    {
     "name": "stdout",
     "output_type": "stream",
     "text": [
      "It is True\n"
     ]
    }
   ],
   "source": [
    "if 3 > 2:\n",
    "    print('It is True')"
   ]
  },
  {
   "cell_type": "code",
   "execution_count": 2,
   "id": "ae70bcdb",
   "metadata": {},
   "outputs": [],
   "source": [
    "if 3 < 2:\n",
    "    print('It is True')"
   ]
  },
  {
   "cell_type": "code",
   "execution_count": 6,
   "id": "aabdd38d",
   "metadata": {},
   "outputs": [
    {
     "name": "stdout",
     "output_type": "stream",
     "text": [
      "It is False\n"
     ]
    }
   ],
   "source": [
    "if 3<2:\n",
    "    print('It is True')\n",
    "else:\n",
    "    print('It is False')"
   ]
  },
  {
   "cell_type": "code",
   "execution_count": 12,
   "id": "0b836f24",
   "metadata": {},
   "outputs": [
    {
     "name": "stdout",
     "output_type": "stream",
     "text": [
      "This is Garden\n"
     ]
    }
   ],
   "source": [
    "venue = 'Garden'\n",
    "\n",
    "\n",
    "if venue == 'Workshop':\n",
    "    print('Welcome to the workshop')\n",
    "elif venue == 'Multiplex':\n",
    "    print('Movie name is RRR')\n",
    "elif venue == 'Garden':\n",
    "    print('This is Garden')\n",
    "else:\n",
    "    print('Where are you?')"
   ]
  },
  {
   "cell_type": "code",
   "execution_count": 16,
   "id": "404717cd",
   "metadata": {},
   "outputs": [
    {
     "name": "stdout",
     "output_type": "stream",
     "text": [
      "Enter your Venue: Workshop\n"
     ]
    }
   ],
   "source": [
    "venue = input('Enter your Venue: ')"
   ]
  },
  {
   "cell_type": "code",
   "execution_count": 17,
   "id": "00612013",
   "metadata": {},
   "outputs": [
    {
     "data": {
      "text/plain": [
       "'Workshop'"
      ]
     },
     "execution_count": 17,
     "metadata": {},
     "output_type": "execute_result"
    }
   ],
   "source": [
    "venue"
   ]
  },
  {
   "cell_type": "code",
   "execution_count": 18,
   "id": "87cd81c9",
   "metadata": {},
   "outputs": [
    {
     "name": "stdout",
     "output_type": "stream",
     "text": [
      "Welcome to the workshop\n"
     ]
    }
   ],
   "source": [
    "if venue == 'Workshop':\n",
    "    print('Welcome to the workshop')\n",
    "elif venue == 'Multiplex':\n",
    "    print('Movie name is RRR')\n",
    "elif venue == 'Garden':\n",
    "    print('This is Garden')\n",
    "else:\n",
    "    print('Where are you?')"
   ]
  },
  {
   "cell_type": "code",
   "execution_count": 22,
   "id": "8826fd9b",
   "metadata": {},
   "outputs": [
    {
     "name": "stdout",
     "output_type": "stream",
     "text": [
      "Enter your number:87\n"
     ]
    }
   ],
   "source": [
    "num = int(input('Enter your number:'))"
   ]
  },
  {
   "cell_type": "code",
   "execution_count": 23,
   "id": "981239fd",
   "metadata": {},
   "outputs": [
    {
     "data": {
      "text/plain": [
       "87"
      ]
     },
     "execution_count": 23,
     "metadata": {},
     "output_type": "execute_result"
    }
   ],
   "source": [
    "num"
   ]
  },
  {
   "cell_type": "code",
   "execution_count": 24,
   "id": "5f5d4550",
   "metadata": {},
   "outputs": [
    {
     "data": {
      "text/plain": [
       "int"
      ]
     },
     "execution_count": 24,
     "metadata": {},
     "output_type": "execute_result"
    }
   ],
   "source": [
    "type(num)"
   ]
  },
  {
   "cell_type": "code",
   "execution_count": 26,
   "id": "d8b7fa97",
   "metadata": {},
   "outputs": [
    {
     "name": "stdout",
     "output_type": "stream",
     "text": [
      "Enter your x:34\n"
     ]
    }
   ],
   "source": [
    "x = int(input('Enter your x:'))"
   ]
  },
  {
   "cell_type": "code",
   "execution_count": 28,
   "id": "d6303218",
   "metadata": {},
   "outputs": [
    {
     "name": "stdout",
     "output_type": "stream",
     "text": [
      "Enter your y:89\n"
     ]
    }
   ],
   "source": [
    "y = int(input('Enter your y:'))"
   ]
  },
  {
   "cell_type": "code",
   "execution_count": 29,
   "id": "0c902d61",
   "metadata": {},
   "outputs": [
    {
     "data": {
      "text/plain": [
       "34"
      ]
     },
     "execution_count": 29,
     "metadata": {},
     "output_type": "execute_result"
    }
   ],
   "source": [
    "x"
   ]
  },
  {
   "cell_type": "code",
   "execution_count": 30,
   "id": "752afbb1",
   "metadata": {},
   "outputs": [
    {
     "data": {
      "text/plain": [
       "89"
      ]
     },
     "execution_count": 30,
     "metadata": {},
     "output_type": "execute_result"
    }
   ],
   "source": [
    "y"
   ]
  },
  {
   "cell_type": "code",
   "execution_count": 31,
   "id": "1ad3dbd6",
   "metadata": {},
   "outputs": [
    {
     "name": "stdout",
     "output_type": "stream",
     "text": [
      "It is True\n"
     ]
    }
   ],
   "source": [
    "if x<y:\n",
    "    print('It is True')\n",
    "else:\n",
    "    print('It is False')"
   ]
  },
  {
   "cell_type": "code",
   "execution_count": null,
   "id": "07164e05",
   "metadata": {},
   "outputs": [],
   "source": []
  }
 ],
 "metadata": {
  "kernelspec": {
   "display_name": "Python 3 (ipykernel)",
   "language": "python",
   "name": "python3"
  },
  "language_info": {
   "codemirror_mode": {
    "name": "ipython",
    "version": 3
   },
   "file_extension": ".py",
   "mimetype": "text/x-python",
   "name": "python",
   "nbconvert_exporter": "python",
   "pygments_lexer": "ipython3",
   "version": "3.11.5"
  }
 },
 "nbformat": 4,
 "nbformat_minor": 5
}
