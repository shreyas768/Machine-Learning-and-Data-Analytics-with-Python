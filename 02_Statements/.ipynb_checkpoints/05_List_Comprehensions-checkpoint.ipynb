{
 "cells": [
  {
   "cell_type": "markdown",
   "id": "b7a6c029",
   "metadata": {},
   "source": [
    "###### one line for loop built inside of brackets to output list"
   ]
  },
  {
   "cell_type": "code",
   "execution_count": 1,
   "id": "682fc6ae",
   "metadata": {},
   "outputs": [
    {
     "data": {
      "text/plain": [
       "['W', 'O', 'R', 'D']"
      ]
     },
     "execution_count": 1,
     "metadata": {},
     "output_type": "execute_result"
    }
   ],
   "source": [
    "[l.upper() for l in 'word']"
   ]
  },
  {
   "cell_type": "code",
   "execution_count": 2,
   "id": "fe6eeccf",
   "metadata": {},
   "outputs": [
    {
     "data": {
      "text/plain": [
       "[1, 8, 27, 64, 125, 216, 343, 512, 729, 1000]"
      ]
     },
     "execution_count": 2,
     "metadata": {},
     "output_type": "execute_result"
    }
   ],
   "source": [
    "[n**3 for n in range(1,11)]"
   ]
  },
  {
   "cell_type": "code",
   "execution_count": 4,
   "id": "3c228d8b",
   "metadata": {},
   "outputs": [
    {
     "data": {
      "text/plain": [
       "[4, 16, 36, 64, 100, 144, 196, 256, 324, 400, 484, 576, 676, 784, 900]"
      ]
     },
     "execution_count": 4,
     "metadata": {},
     "output_type": "execute_result"
    }
   ],
   "source": [
    "#add if statements\n",
    "\n",
    "[n**2 for n in range(1,31) if n%2 == 0]"
   ]
  },
  {
   "cell_type": "markdown",
   "id": "f6849b2b",
   "metadata": {},
   "source": [
    "* first letter each word of this string s = 'This is MLDAP course which is the comprehensive course on Data Analtyics and Machine Learning'\n",
    "* Filter out all the vowels from this string and store the remaining characters in a list\n",
    "* length of each word of this string\n",
    "* create a list of numbers from 1 to 30 where each number is replaced with 'even' if it is even and 'odd' if it is odd.\n",
    "* All the numbers between 50 and 250 which are divisible by both 3 and 5\n"
   ]
  },
  {
   "cell_type": "code",
   "execution_count": null,
   "id": "a6bf79d2",
   "metadata": {},
   "outputs": [],
   "source": []
  }
 ],
 "metadata": {
  "kernelspec": {
   "display_name": "Python 3 (ipykernel)",
   "language": "python",
   "name": "python3"
  },
  "language_info": {
   "codemirror_mode": {
    "name": "ipython",
    "version": 3
   },
   "file_extension": ".py",
   "mimetype": "text/x-python",
   "name": "python",
   "nbconvert_exporter": "python",
   "pygments_lexer": "ipython3",
   "version": "3.11.5"
  }
 },
 "nbformat": 4,
 "nbformat_minor": 5
}
