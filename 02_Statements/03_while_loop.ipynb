{
 "cells": [
  {
   "cell_type": "code",
   "execution_count": 3,
   "id": "5cf6b7d2",
   "metadata": {},
   "outputs": [
    {
     "name": "stdout",
     "output_type": "stream",
     "text": [
      " x is currently:  0\n",
      "x is still less than 10, so adding 1 to x\n",
      " x is currently:  1\n",
      "x is still less than 10, so adding 1 to x\n",
      " x is currently:  2\n",
      "x is still less than 10, so adding 1 to x\n",
      " x is currently:  3\n",
      "x is still less than 10, so adding 1 to x\n",
      " x is currently:  4\n",
      "x is still less than 10, so adding 1 to x\n",
      " x is currently:  5\n",
      "x is still less than 10, so adding 1 to x\n",
      " x is currently:  6\n",
      "x is still less than 10, so adding 1 to x\n",
      " x is currently:  7\n",
      "x is still less than 10, so adding 1 to x\n",
      " x is currently:  8\n",
      "x is still less than 10, so adding 1 to x\n",
      " x is currently:  9\n",
      "x is still less than 10, so adding 1 to x\n",
      "All Done\n"
     ]
    }
   ],
   "source": [
    "x = 0\n",
    "\n",
    "while x < 10:\n",
    "    print(' x is currently: ', x)\n",
    "    print('x is still less than 10, so adding 1 to x')\n",
    "    x = x+1\n",
    "    \n",
    "\n",
    "    \n",
    "else:\n",
    "    print('All Done')"
   ]
  },
  {
   "cell_type": "code",
   "execution_count": 5,
   "id": "88cc1995",
   "metadata": {},
   "outputs": [
    {
     "name": "stdout",
     "output_type": "stream",
     "text": [
      " x is currently:  0\n",
      "x is still less than 10, so adding 1 to x\n",
      " x is currently:  1\n",
      "x is still less than 10, so adding 1 to x\n",
      " x is currently:  2\n",
      "x is still less than 10, so adding 1 to x\n",
      " x is 3 here\n",
      " x is currently:  3\n",
      "x is still less than 10, so adding 1 to x\n",
      " x is currently:  4\n",
      "x is still less than 10, so adding 1 to x\n",
      " 5 here\n",
      " x is currently:  5\n",
      "x is still less than 10, so adding 1 to x\n",
      " x is currently:  6\n",
      "x is still less than 10, so adding 1 to x\n",
      " x is currently:  7\n",
      "x is still less than 10, so adding 1 to x\n",
      " x is currently:  8\n",
      "x is still less than 10, so adding 1 to x\n",
      " x is currently:  9\n",
      "x is still less than 10, so adding 1 to x\n"
     ]
    }
   ],
   "source": [
    "x = 0\n",
    "\n",
    "while x < 10:\n",
    "    print(' x is currently: ', x)\n",
    "    print('x is still less than 10, so adding 1 to x')\n",
    "    x = x+1\n",
    "    \n",
    "    if x == 3:\n",
    "        print(' x is 3 here')\n",
    "    elif x == 5:\n",
    "        print(' 5 here')\n",
    "    "
   ]
  },
  {
   "cell_type": "code",
   "execution_count": 8,
   "id": "0f86215e",
   "metadata": {},
   "outputs": [
    {
     "name": "stdout",
     "output_type": "stream",
     "text": [
      " x is currently:  0\n",
      "x is still less than 10, so adding 1 to x\n",
      " x is currently:  1\n",
      "x is still less than 10, so adding 1 to x\n",
      " x is currently:  2\n",
      "x is still less than 10, so adding 1 to x\n",
      "breaking because x is 3 here\n"
     ]
    }
   ],
   "source": [
    "x = 0\n",
    "\n",
    "while x < 10:\n",
    "    print(' x is currently: ', x)\n",
    "    print('x is still less than 10, so adding 1 to x')\n",
    "    x = x+1\n",
    "    \n",
    "    if x == 3:\n",
    "        print('breaking because x is 3 here')\n",
    "        break\n"
   ]
  },
  {
   "cell_type": "code",
   "execution_count": null,
   "id": "df0dd539",
   "metadata": {},
   "outputs": [],
   "source": []
  }
 ],
 "metadata": {
  "kernelspec": {
   "display_name": "Python 3 (ipykernel)",
   "language": "python",
   "name": "python3"
  },
  "language_info": {
   "codemirror_mode": {
    "name": "ipython",
    "version": 3
   },
   "file_extension": ".py",
   "mimetype": "text/x-python",
   "name": "python",
   "nbconvert_exporter": "python",
   "pygments_lexer": "ipython3",
   "version": "3.11.5"
  }
 },
 "nbformat": 4,
 "nbformat_minor": 5
}
