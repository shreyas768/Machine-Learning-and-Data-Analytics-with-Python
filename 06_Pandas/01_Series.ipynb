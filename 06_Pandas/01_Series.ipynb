{
 "cells": [
  {
   "cell_type": "code",
   "execution_count": 1,
   "id": "2280890a",
   "metadata": {},
   "outputs": [],
   "source": [
    "import numpy as np\n",
    "import pandas as pd"
   ]
  },
  {
   "cell_type": "markdown",
   "id": "6248314c",
   "metadata": {},
   "source": [
    "###### Creating a Series from Python Objects"
   ]
  },
  {
   "cell_type": "code",
   "execution_count": 9,
   "id": "b6582686",
   "metadata": {},
   "outputs": [],
   "source": [
    "myindex = ['USA','Canada','Mexico']\n",
    "mydata = [1776,1867,1921]"
   ]
  },
  {
   "cell_type": "code",
   "execution_count": 20,
   "id": "ce244f3d",
   "metadata": {},
   "outputs": [],
   "source": [
    "#help(pd.Series)"
   ]
  },
  {
   "cell_type": "code",
   "execution_count": 11,
   "id": "f24eb5bb",
   "metadata": {},
   "outputs": [
    {
     "data": {
      "text/plain": [
       "0    1776\n",
       "1    1867\n",
       "2    1921\n",
       "dtype: int64"
      ]
     },
     "execution_count": 11,
     "metadata": {},
     "output_type": "execute_result"
    }
   ],
   "source": [
    "pd.Series(data = mydata)"
   ]
  },
  {
   "cell_type": "code",
   "execution_count": 12,
   "id": "1f660077",
   "metadata": {},
   "outputs": [
    {
     "data": {
      "text/plain": [
       "USA       1776\n",
       "Canada    1867\n",
       "Mexico    1921\n",
       "dtype: int64"
      ]
     },
     "execution_count": 12,
     "metadata": {},
     "output_type": "execute_result"
    }
   ],
   "source": [
    "pd.Series(data = mydata,index= myindex)"
   ]
  },
  {
   "cell_type": "code",
   "execution_count": 14,
   "id": "72ea9299",
   "metadata": {},
   "outputs": [],
   "source": [
    "ran_age = np.random.randint(0,90,4)"
   ]
  },
  {
   "cell_type": "code",
   "execution_count": 15,
   "id": "87dd7cbe",
   "metadata": {},
   "outputs": [],
   "source": [
    "names = ['Virat','Rohit','Rishabh','Siraj']"
   ]
  },
  {
   "cell_type": "code",
   "execution_count": 16,
   "id": "b7546cb1",
   "metadata": {},
   "outputs": [
    {
     "data": {
      "text/plain": [
       "Virat      80\n",
       "Rohit      22\n",
       "Rishabh    73\n",
       "Siraj      15\n",
       "dtype: int64"
      ]
     },
     "execution_count": 16,
     "metadata": {},
     "output_type": "execute_result"
    }
   ],
   "source": [
    "pd.Series(ran_age,names)"
   ]
  },
  {
   "cell_type": "code",
   "execution_count": 17,
   "id": "dc2d969c",
   "metadata": {},
   "outputs": [
    {
     "data": {
      "text/plain": [
       "80      Virat\n",
       "22      Rohit\n",
       "73    Rishabh\n",
       "15      Siraj\n",
       "dtype: object"
      ]
     },
     "execution_count": 17,
     "metadata": {},
     "output_type": "execute_result"
    }
   ],
   "source": [
    "pd.Series(names,ran_age)"
   ]
  },
  {
   "cell_type": "code",
   "execution_count": 18,
   "id": "88811f24",
   "metadata": {},
   "outputs": [
    {
     "data": {
      "text/plain": [
       "Virat      80\n",
       "Rohit      22\n",
       "Rishabh    73\n",
       "Siraj      15\n",
       "dtype: int64"
      ]
     },
     "execution_count": 18,
     "metadata": {},
     "output_type": "execute_result"
    }
   ],
   "source": [
    "pd.Series(index = names, data = ran_age)"
   ]
  },
  {
   "cell_type": "markdown",
   "id": "723cff06",
   "metadata": {},
   "source": [
    "###### Creating Series from a Dictionary"
   ]
  },
  {
   "cell_type": "code",
   "execution_count": 21,
   "id": "4793a1b4",
   "metadata": {},
   "outputs": [],
   "source": [
    "ages = {'Virat':80,'Rohit':18,'Siraj':67}"
   ]
  },
  {
   "cell_type": "code",
   "execution_count": 22,
   "id": "10128e41",
   "metadata": {},
   "outputs": [
    {
     "data": {
      "text/plain": [
       "{'Virat': 80, 'Rohit': 18, 'Siraj': 67}"
      ]
     },
     "execution_count": 22,
     "metadata": {},
     "output_type": "execute_result"
    }
   ],
   "source": [
    "ages"
   ]
  },
  {
   "cell_type": "code",
   "execution_count": 23,
   "id": "01e54ff8",
   "metadata": {},
   "outputs": [
    {
     "data": {
      "text/plain": [
       "Virat    80\n",
       "Rohit    18\n",
       "Siraj    67\n",
       "dtype: int64"
      ]
     },
     "execution_count": 23,
     "metadata": {},
     "output_type": "execute_result"
    }
   ],
   "source": [
    "pd.Series(ages)"
   ]
  },
  {
   "cell_type": "markdown",
   "id": "3f76756c",
   "metadata": {},
   "source": [
    "#### Key Ideas"
   ]
  },
  {
   "cell_type": "code",
   "execution_count": 24,
   "id": "a94a1f23",
   "metadata": {},
   "outputs": [],
   "source": [
    "q1 = {'Japan':80,'China':450,'India':200,'USA':250}\n",
    "q2 = {'Brazil':100,'China':500,'India':700,'USA':260}"
   ]
  },
  {
   "cell_type": "code",
   "execution_count": 25,
   "id": "7fe3f7e5",
   "metadata": {},
   "outputs": [],
   "source": [
    "#convert into series\n",
    "sales_Q1 = pd.Series(q1)\n",
    "sales_Q2 = pd.Series(q2)"
   ]
  },
  {
   "cell_type": "code",
   "execution_count": 26,
   "id": "1d079d9c",
   "metadata": {},
   "outputs": [
    {
     "data": {
      "text/plain": [
       "Japan     80\n",
       "China    450\n",
       "India    200\n",
       "USA      250\n",
       "dtype: int64"
      ]
     },
     "execution_count": 26,
     "metadata": {},
     "output_type": "execute_result"
    }
   ],
   "source": [
    "sales_Q1"
   ]
  },
  {
   "cell_type": "code",
   "execution_count": 27,
   "id": "14703347",
   "metadata": {},
   "outputs": [
    {
     "data": {
      "text/plain": [
       "Brazil    100\n",
       "China     500\n",
       "India     700\n",
       "USA       260\n",
       "dtype: int64"
      ]
     },
     "execution_count": 27,
     "metadata": {},
     "output_type": "execute_result"
    }
   ],
   "source": [
    "sales_Q2"
   ]
  },
  {
   "cell_type": "code",
   "execution_count": 33,
   "id": "b664b85e",
   "metadata": {},
   "outputs": [
    {
     "data": {
      "text/plain": [
       "80"
      ]
     },
     "execution_count": 33,
     "metadata": {},
     "output_type": "execute_result"
    }
   ],
   "source": [
    "#call values based on named/labeled index\n",
    "sales_Q1['Japan']"
   ]
  },
  {
   "cell_type": "code",
   "execution_count": 30,
   "id": "b64deb8f",
   "metadata": {},
   "outputs": [
    {
     "name": "stderr",
     "output_type": "stream",
     "text": [
      "/var/folders/wl/v3x3g82n3b38s3cvwvtr0r7h0000gn/T/ipykernel_4175/569036370.py:2: FutureWarning: Series.__getitem__ treating keys as positions is deprecated. In a future version, integer keys will always be treated as labels (consistent with DataFrame behavior). To access a value by position, use `ser.iloc[pos]`\n",
      "  sales_Q1[0]\n"
     ]
    },
    {
     "data": {
      "text/plain": [
       "80"
      ]
     },
     "execution_count": 30,
     "metadata": {},
     "output_type": "execute_result"
    }
   ],
   "source": [
    "#call values based on location \n",
    "sales_Q1[0]"
   ]
  },
  {
   "cell_type": "code",
   "execution_count": 34,
   "id": "f7c6cdea",
   "metadata": {},
   "outputs": [
    {
     "data": {
      "text/plain": [
       "Index(['Japan', 'China', 'India', 'USA'], dtype='object')"
      ]
     },
     "execution_count": 34,
     "metadata": {},
     "output_type": "execute_result"
    }
   ],
   "source": [
    "sales_Q1.keys()"
   ]
  },
  {
   "cell_type": "code",
   "execution_count": 36,
   "id": "90893687",
   "metadata": {},
   "outputs": [
    {
     "data": {
      "text/plain": [
       "Japan     8.944272\n",
       "China    21.213203\n",
       "India    14.142136\n",
       "USA      15.811388\n",
       "dtype: float64"
      ]
     },
     "execution_count": 36,
     "metadata": {},
     "output_type": "execute_result"
    }
   ],
   "source": [
    "sales_Q1**0.5"
   ]
  },
  {
   "cell_type": "code",
   "execution_count": 39,
   "id": "32131178",
   "metadata": {},
   "outputs": [
    {
     "data": {
      "text/plain": [
       "Brazil      NaN\n",
       "China     950.0\n",
       "India     900.0\n",
       "Japan       NaN\n",
       "USA       510.0\n",
       "dtype: float64"
      ]
     },
     "execution_count": 39,
     "metadata": {},
     "output_type": "execute_result"
    }
   ],
   "source": [
    "sales_Q1 + sales_Q2"
   ]
  },
  {
   "cell_type": "code",
   "execution_count": 43,
   "id": "a4ddc293",
   "metadata": {},
   "outputs": [
    {
     "data": {
      "text/plain": [
       "Brazil    100.0\n",
       "China     950.0\n",
       "India     900.0\n",
       "Japan      80.0\n",
       "USA       510.0\n",
       "dtype: float64"
      ]
     },
     "execution_count": 43,
     "metadata": {},
     "output_type": "execute_result"
    }
   ],
   "source": [
    "sales_Q1.add(sales_Q2,fill_value=0)"
   ]
  },
  {
   "cell_type": "code",
   "execution_count": null,
   "id": "bc414f5f",
   "metadata": {},
   "outputs": [],
   "source": []
  }
 ],
 "metadata": {
  "kernelspec": {
   "display_name": "Python 3 (ipykernel)",
   "language": "python",
   "name": "python3"
  },
  "language_info": {
   "codemirror_mode": {
    "name": "ipython",
    "version": 3
   },
   "file_extension": ".py",
   "mimetype": "text/x-python",
   "name": "python",
   "nbconvert_exporter": "python",
   "pygments_lexer": "ipython3",
   "version": "3.11.5"
  }
 },
 "nbformat": 4,
 "nbformat_minor": 5
}
