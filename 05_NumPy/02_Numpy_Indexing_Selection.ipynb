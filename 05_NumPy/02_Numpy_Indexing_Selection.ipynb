{
 "cells": [
  {
   "cell_type": "code",
   "execution_count": 1,
   "id": "9c305a18",
   "metadata": {},
   "outputs": [],
   "source": [
    "import numpy as np"
   ]
  },
  {
   "cell_type": "code",
   "execution_count": 2,
   "id": "4ef05f41",
   "metadata": {},
   "outputs": [
    {
     "data": {
      "text/plain": [
       "array([ 0,  3,  6,  9, 12, 15, 18, 21, 24, 27, 30, 33, 36, 39])"
      ]
     },
     "execution_count": 2,
     "metadata": {},
     "output_type": "execute_result"
    }
   ],
   "source": [
    "arr = np.arange(0,41,3)\n",
    "arr"
   ]
  },
  {
   "cell_type": "markdown",
   "id": "2bbeefc5",
   "metadata": {},
   "source": [
    "#### Bracket Indexing and Selection"
   ]
  },
  {
   "cell_type": "code",
   "execution_count": 3,
   "id": "a484bfa6",
   "metadata": {},
   "outputs": [
    {
     "data": {
      "text/plain": [
       "6"
      ]
     },
     "execution_count": 3,
     "metadata": {},
     "output_type": "execute_result"
    }
   ],
   "source": [
    "arr[2]"
   ]
  },
  {
   "cell_type": "code",
   "execution_count": 4,
   "id": "051a160d",
   "metadata": {},
   "outputs": [
    {
     "data": {
      "text/plain": [
       "array([ 6,  9, 12, 15])"
      ]
     },
     "execution_count": 4,
     "metadata": {},
     "output_type": "execute_result"
    }
   ],
   "source": [
    "arr[2:6]"
   ]
  },
  {
   "cell_type": "markdown",
   "id": "de46809c",
   "metadata": {},
   "source": [
    "###### Broadcasting"
   ]
  },
  {
   "cell_type": "code",
   "execution_count": 5,
   "id": "8cbea28a",
   "metadata": {},
   "outputs": [
    {
     "data": {
      "text/plain": [
       "array([100, 100, 100, 100, 100,  15,  18,  21,  24,  27,  30,  33,  36,\n",
       "        39])"
      ]
     },
     "execution_count": 5,
     "metadata": {},
     "output_type": "execute_result"
    }
   ],
   "source": [
    "arr[0:5] = 100\n",
    "\n",
    "arr"
   ]
  },
  {
   "cell_type": "code",
   "execution_count": 6,
   "id": "df4b53cd",
   "metadata": {},
   "outputs": [
    {
     "data": {
      "text/plain": [
       "array([ 0,  3,  6,  9, 12, 15, 18, 21, 24, 27, 30, 33, 36, 39])"
      ]
     },
     "execution_count": 6,
     "metadata": {},
     "output_type": "execute_result"
    }
   ],
   "source": [
    "arr = np.arange(0,41,3)\n",
    "arr"
   ]
  },
  {
   "cell_type": "code",
   "execution_count": 7,
   "id": "9aef344b",
   "metadata": {},
   "outputs": [
    {
     "data": {
      "text/plain": [
       "array([ 0,  3,  6,  9, 12, 15])"
      ]
     },
     "execution_count": 7,
     "metadata": {},
     "output_type": "execute_result"
    }
   ],
   "source": [
    "\n",
    "slice_of_arr = arr[0:6]\n",
    "slice_of_arr"
   ]
  },
  {
   "cell_type": "code",
   "execution_count": 8,
   "id": "daecd910",
   "metadata": {},
   "outputs": [],
   "source": [
    "slice_of_arr[:] = 99"
   ]
  },
  {
   "cell_type": "code",
   "execution_count": 9,
   "id": "4566dd01",
   "metadata": {},
   "outputs": [
    {
     "data": {
      "text/plain": [
       "array([99, 99, 99, 99, 99, 99])"
      ]
     },
     "execution_count": 9,
     "metadata": {},
     "output_type": "execute_result"
    }
   ],
   "source": [
    "slice_of_arr"
   ]
  },
  {
   "cell_type": "code",
   "execution_count": 10,
   "id": "6c304897",
   "metadata": {},
   "outputs": [
    {
     "data": {
      "text/plain": [
       "array([99, 99, 99, 99, 99, 99, 18, 21, 24, 27, 30, 33, 36, 39])"
      ]
     },
     "execution_count": 10,
     "metadata": {},
     "output_type": "execute_result"
    }
   ],
   "source": [
    "arr"
   ]
  },
  {
   "cell_type": "markdown",
   "id": "47d18083",
   "metadata": {},
   "source": [
    "Data is not copied, its a view of the original array!! This avoids memory problem. \n",
    "\n",
    "To get a copy, we need to be explicit by using arr.copy()\n",
    "\n",
    "What if it was list?"
   ]
  },
  {
   "cell_type": "code",
   "execution_count": 11,
   "id": "9496186e",
   "metadata": {},
   "outputs": [
    {
     "data": {
      "text/plain": [
       "[0, 1, 2, 3, 4, 5, 6, 7, 8, 9, 10, 11, 12, 13, 14, 15, 16, 17, 18, 19, 20]"
      ]
     },
     "execution_count": 11,
     "metadata": {},
     "output_type": "execute_result"
    }
   ],
   "source": [
    "lst1=[i for i in range(21)]\n",
    "lst1"
   ]
  },
  {
   "cell_type": "code",
   "execution_count": 12,
   "id": "4a8da5f3",
   "metadata": {},
   "outputs": [
    {
     "data": {
      "text/plain": [
       "[0, 1, 2, 3, 4, 5]"
      ]
     },
     "execution_count": 12,
     "metadata": {},
     "output_type": "execute_result"
    }
   ],
   "source": [
    "slice_of_lst1 = lst1[0:6]\n",
    "slice_of_lst1"
   ]
  },
  {
   "cell_type": "code",
   "execution_count": 13,
   "id": "594ca762",
   "metadata": {},
   "outputs": [
    {
     "data": {
      "text/plain": [
       "[90, 90, 90, 90, 90]"
      ]
     },
     "execution_count": 13,
     "metadata": {},
     "output_type": "execute_result"
    }
   ],
   "source": [
    "slice_of_lst1[:] = [90,90,90,90,90]\n",
    "slice_of_lst1"
   ]
  },
  {
   "cell_type": "code",
   "execution_count": 14,
   "id": "352569d3",
   "metadata": {},
   "outputs": [
    {
     "data": {
      "text/plain": [
       "[0, 1, 2, 3, 4, 5, 6, 7, 8, 9, 10, 11, 12, 13, 14, 15, 16, 17, 18, 19, 20]"
      ]
     },
     "execution_count": 14,
     "metadata": {},
     "output_type": "execute_result"
    }
   ],
   "source": [
    "lst1"
   ]
  },
  {
   "cell_type": "code",
   "execution_count": 15,
   "id": "a8e2b78b",
   "metadata": {},
   "outputs": [],
   "source": [
    "#copy\n",
    "\n",
    "arr = np.arange(0,41,3)\n",
    "arr1 = arr.copy()"
   ]
  },
  {
   "cell_type": "code",
   "execution_count": 16,
   "id": "11dd8780",
   "metadata": {},
   "outputs": [
    {
     "data": {
      "text/plain": [
       "array([ 0,  3,  6,  9, 12, 15, 18, 21, 24, 27, 30, 33, 36, 39])"
      ]
     },
     "execution_count": 16,
     "metadata": {},
     "output_type": "execute_result"
    }
   ],
   "source": [
    "arr"
   ]
  },
  {
   "cell_type": "code",
   "execution_count": 17,
   "id": "3df6ec25",
   "metadata": {},
   "outputs": [
    {
     "data": {
      "text/plain": [
       "array([ 0,  3,  6,  9, 12, 15, 18, 21, 24, 27, 30, 33, 36, 39])"
      ]
     },
     "execution_count": 17,
     "metadata": {},
     "output_type": "execute_result"
    }
   ],
   "source": [
    "arr1"
   ]
  },
  {
   "cell_type": "code",
   "execution_count": 18,
   "id": "6436b381",
   "metadata": {},
   "outputs": [
    {
     "data": {
      "text/plain": [
       "array([ 0,  3,  6,  9, 12, 15])"
      ]
     },
     "execution_count": 18,
     "metadata": {},
     "output_type": "execute_result"
    }
   ],
   "source": [
    "\n",
    "slice_of_arr = arr1[0:6]\n",
    "slice_of_arr"
   ]
  },
  {
   "cell_type": "code",
   "execution_count": 19,
   "id": "56895cee",
   "metadata": {},
   "outputs": [],
   "source": [
    "slice_of_arr[:] = 99"
   ]
  },
  {
   "cell_type": "code",
   "execution_count": 20,
   "id": "3ec38999",
   "metadata": {},
   "outputs": [
    {
     "data": {
      "text/plain": [
       "array([99, 99, 99, 99, 99, 99, 18, 21, 24, 27, 30, 33, 36, 39])"
      ]
     },
     "execution_count": 20,
     "metadata": {},
     "output_type": "execute_result"
    }
   ],
   "source": [
    "arr1"
   ]
  },
  {
   "cell_type": "code",
   "execution_count": 21,
   "id": "e5ee73c1",
   "metadata": {},
   "outputs": [
    {
     "data": {
      "text/plain": [
       "array([ 0,  3,  6,  9, 12, 15, 18, 21, 24, 27, 30, 33, 36, 39])"
      ]
     },
     "execution_count": 21,
     "metadata": {},
     "output_type": "execute_result"
    }
   ],
   "source": [
    "arr"
   ]
  },
  {
   "cell_type": "markdown",
   "id": "9bd6ca3a",
   "metadata": {},
   "source": [
    "###### Indexing a 2D array"
   ]
  },
  {
   "cell_type": "code",
   "execution_count": 22,
   "id": "ca0f82a0",
   "metadata": {},
   "outputs": [
    {
     "data": {
      "text/plain": [
       "array([[ 5, 10, 15],\n",
       "       [20, 25, 30],\n",
       "       [35, 40, 45]])"
      ]
     },
     "execution_count": 22,
     "metadata": {},
     "output_type": "execute_result"
    }
   ],
   "source": [
    "arr_2d = np.array(([5,10,15],[20,25,30],[35,40,45]))\n",
    "arr_2d"
   ]
  },
  {
   "cell_type": "code",
   "execution_count": 23,
   "id": "d1d70a5b",
   "metadata": {},
   "outputs": [
    {
     "data": {
      "text/plain": [
       "array([35, 40, 45])"
      ]
     },
     "execution_count": 23,
     "metadata": {},
     "output_type": "execute_result"
    }
   ],
   "source": [
    "#indexing a row\n",
    "\n",
    "arr_2d[2]"
   ]
  },
  {
   "cell_type": "code",
   "execution_count": 24,
   "id": "00706a13",
   "metadata": {},
   "outputs": [
    {
     "data": {
      "text/plain": [
       "35"
      ]
     },
     "execution_count": 24,
     "metadata": {},
     "output_type": "execute_result"
    }
   ],
   "source": [
    "#get individual element\n",
    "\n",
    "arr_2d[2][0]"
   ]
  },
  {
   "cell_type": "code",
   "execution_count": 25,
   "id": "ee9f8bc4",
   "metadata": {},
   "outputs": [
    {
     "data": {
      "text/plain": [
       "35"
      ]
     },
     "execution_count": 25,
     "metadata": {},
     "output_type": "execute_result"
    }
   ],
   "source": [
    "arr_2d[2,0]"
   ]
  },
  {
   "cell_type": "code",
   "execution_count": 26,
   "id": "6323cef0",
   "metadata": {},
   "outputs": [
    {
     "data": {
      "text/plain": [
       "15"
      ]
     },
     "execution_count": 26,
     "metadata": {},
     "output_type": "execute_result"
    }
   ],
   "source": [
    "arr_2d[0,2]"
   ]
  },
  {
   "cell_type": "code",
   "execution_count": 27,
   "id": "ca3385e8",
   "metadata": {},
   "outputs": [
    {
     "data": {
      "text/plain": [
       "array([[25, 30],\n",
       "       [40, 45]])"
      ]
     },
     "execution_count": 27,
     "metadata": {},
     "output_type": "execute_result"
    }
   ],
   "source": [
    "arr_2d[1:,1:]"
   ]
  },
  {
   "cell_type": "markdown",
   "id": "c5163364",
   "metadata": {},
   "source": [
    "* Create a array of shape 4 by 5\n",
    "* perform 5 indexing\n",
    "* perform 5 slicing"
   ]
  },
  {
   "cell_type": "code",
   "execution_count": 31,
   "id": "542b50ae",
   "metadata": {},
   "outputs": [
    {
     "data": {
      "text/plain": [
       "array([[ 1,  3,  5,  7,  9],\n",
       "       [11, 13, 15, 17, 19],\n",
       "       [21, 23, 25, 27, 29],\n",
       "       [31, 33, 35, 37, 39]])"
      ]
     },
     "execution_count": 31,
     "metadata": {},
     "output_type": "execute_result"
    }
   ],
   "source": [
    "ar1 = np.arange(1,41,2).reshape(4,5)\n",
    "ar1"
   ]
  },
  {
   "cell_type": "code",
   "execution_count": 32,
   "id": "a8793719",
   "metadata": {},
   "outputs": [
    {
     "data": {
      "text/plain": [
       "array([21, 23, 25, 27, 29])"
      ]
     },
     "execution_count": 32,
     "metadata": {},
     "output_type": "execute_result"
    }
   ],
   "source": [
    "ar1[2]"
   ]
  },
  {
   "cell_type": "code",
   "execution_count": 33,
   "id": "30697bef",
   "metadata": {},
   "outputs": [
    {
     "data": {
      "text/plain": [
       "array([21, 23, 25, 27, 29])"
      ]
     },
     "execution_count": 33,
     "metadata": {},
     "output_type": "execute_result"
    }
   ],
   "source": [
    "ar1[-2]"
   ]
  },
  {
   "cell_type": "code",
   "execution_count": 34,
   "id": "c5c6aa69",
   "metadata": {},
   "outputs": [
    {
     "data": {
      "text/plain": [
       "27"
      ]
     },
     "execution_count": 34,
     "metadata": {},
     "output_type": "execute_result"
    }
   ],
   "source": [
    "ar1[2][3]"
   ]
  },
  {
   "cell_type": "code",
   "execution_count": 38,
   "id": "6ab46513",
   "metadata": {},
   "outputs": [
    {
     "data": {
      "text/plain": [
       "27"
      ]
     },
     "execution_count": 38,
     "metadata": {},
     "output_type": "execute_result"
    }
   ],
   "source": [
    "ar1[2,-2]"
   ]
  },
  {
   "cell_type": "code",
   "execution_count": 36,
   "id": "4c0a7099",
   "metadata": {},
   "outputs": [
    {
     "data": {
      "text/plain": [
       "27"
      ]
     },
     "execution_count": 36,
     "metadata": {},
     "output_type": "execute_result"
    }
   ],
   "source": [
    "ar1[-2][3]"
   ]
  },
  {
   "cell_type": "code",
   "execution_count": 37,
   "id": "2db3f6e3",
   "metadata": {},
   "outputs": [
    {
     "data": {
      "text/plain": [
       "27"
      ]
     },
     "execution_count": 37,
     "metadata": {},
     "output_type": "execute_result"
    }
   ],
   "source": [
    "ar1[-2][-2]"
   ]
  },
  {
   "cell_type": "code",
   "execution_count": 40,
   "id": "8ab382b6",
   "metadata": {},
   "outputs": [
    {
     "data": {
      "text/plain": [
       "13"
      ]
     },
     "execution_count": 40,
     "metadata": {},
     "output_type": "execute_result"
    }
   ],
   "source": [
    "ar1[-3,-4]"
   ]
  },
  {
   "cell_type": "code",
   "execution_count": 41,
   "id": "51ce8dd6",
   "metadata": {},
   "outputs": [
    {
     "data": {
      "text/plain": [
       "13"
      ]
     },
     "execution_count": 41,
     "metadata": {},
     "output_type": "execute_result"
    }
   ],
   "source": [
    "ar1[-3,1]"
   ]
  },
  {
   "cell_type": "code",
   "execution_count": 42,
   "id": "76d97a68",
   "metadata": {},
   "outputs": [
    {
     "data": {
      "text/plain": [
       "13"
      ]
     },
     "execution_count": 42,
     "metadata": {},
     "output_type": "execute_result"
    }
   ],
   "source": [
    "ar1[1,-4]"
   ]
  },
  {
   "cell_type": "code",
   "execution_count": 43,
   "id": "2eb83604",
   "metadata": {},
   "outputs": [
    {
     "data": {
      "text/plain": [
       "13"
      ]
     },
     "execution_count": 43,
     "metadata": {},
     "output_type": "execute_result"
    }
   ],
   "source": [
    "ar1[1,1]"
   ]
  },
  {
   "cell_type": "code",
   "execution_count": 44,
   "id": "a65e5dd6",
   "metadata": {},
   "outputs": [
    {
     "data": {
      "text/plain": [
       "array([[ 1,  3,  5,  7,  9],\n",
       "       [11, 13, 15, 17, 19],\n",
       "       [21, 23, 25, 27, 29],\n",
       "       [31, 33, 35, 37, 39]])"
      ]
     },
     "execution_count": 44,
     "metadata": {},
     "output_type": "execute_result"
    }
   ],
   "source": [
    "ar1"
   ]
  },
  {
   "cell_type": "code",
   "execution_count": 46,
   "id": "30b209e9",
   "metadata": {},
   "outputs": [
    {
     "data": {
      "text/plain": [
       "array([[15, 17],\n",
       "       [25, 27]])"
      ]
     },
     "execution_count": 46,
     "metadata": {},
     "output_type": "execute_result"
    }
   ],
   "source": [
    "ar1[1:3,2:4]"
   ]
  },
  {
   "cell_type": "code",
   "execution_count": 49,
   "id": "5a0cfa4a",
   "metadata": {},
   "outputs": [
    {
     "data": {
      "text/plain": [
       "array([[15, 17],\n",
       "       [25, 27]])"
      ]
     },
     "execution_count": 49,
     "metadata": {},
     "output_type": "execute_result"
    }
   ],
   "source": [
    "ar1[-3:3,2:-1]"
   ]
  },
  {
   "cell_type": "code",
   "execution_count": 54,
   "id": "e4966194",
   "metadata": {},
   "outputs": [
    {
     "data": {
      "text/plain": [
       "array([[ 3,  5,  7],\n",
       "       [13, 15, 17],\n",
       "       [23, 25, 27]])"
      ]
     },
     "execution_count": 54,
     "metadata": {},
     "output_type": "execute_result"
    }
   ],
   "source": [
    "ar1[:3,1:4]"
   ]
  },
  {
   "cell_type": "code",
   "execution_count": 55,
   "id": "d7f2868b",
   "metadata": {},
   "outputs": [
    {
     "data": {
      "text/plain": [
       "array([[ 3,  5,  7],\n",
       "       [13, 15, 17],\n",
       "       [23, 25, 27]])"
      ]
     },
     "execution_count": 55,
     "metadata": {},
     "output_type": "execute_result"
    }
   ],
   "source": [
    "ar1[:-1,-4:-1]"
   ]
  },
  {
   "cell_type": "code",
   "execution_count": 56,
   "id": "e1ceded1",
   "metadata": {},
   "outputs": [
    {
     "data": {
      "text/plain": [
       "array([[ 3,  5,  7],\n",
       "       [13, 15, 17],\n",
       "       [23, 25, 27]])"
      ]
     },
     "execution_count": 56,
     "metadata": {},
     "output_type": "execute_result"
    }
   ],
   "source": [
    "ar1[:3,-4:4]"
   ]
  },
  {
   "cell_type": "markdown",
   "id": "374a0ec1",
   "metadata": {},
   "source": [
    "###### Conditional Selection"
   ]
  },
  {
   "cell_type": "code",
   "execution_count": 57,
   "id": "01ab4efa",
   "metadata": {},
   "outputs": [
    {
     "data": {
      "text/plain": [
       "array([ 1,  2,  3,  4,  5,  6,  7,  8,  9, 10])"
      ]
     },
     "execution_count": 57,
     "metadata": {},
     "output_type": "execute_result"
    }
   ],
   "source": [
    "arr = np.arange(1,11)\n",
    "arr"
   ]
  },
  {
   "cell_type": "code",
   "execution_count": 59,
   "id": "becc4a26",
   "metadata": {},
   "outputs": [],
   "source": [
    "bool_arr = arr > 4"
   ]
  },
  {
   "cell_type": "code",
   "execution_count": 60,
   "id": "732492e5",
   "metadata": {},
   "outputs": [
    {
     "data": {
      "text/plain": [
       "array([False, False, False, False,  True,  True,  True,  True,  True,\n",
       "        True])"
      ]
     },
     "execution_count": 60,
     "metadata": {},
     "output_type": "execute_result"
    }
   ],
   "source": [
    "bool_arr"
   ]
  },
  {
   "cell_type": "code",
   "execution_count": 61,
   "id": "a9710f4c",
   "metadata": {},
   "outputs": [
    {
     "data": {
      "text/plain": [
       "array([1, 2, 3, 4])"
      ]
     },
     "execution_count": 61,
     "metadata": {},
     "output_type": "execute_result"
    }
   ],
   "source": [
    "arr[bool_arr == False] "
   ]
  },
  {
   "cell_type": "code",
   "execution_count": 62,
   "id": "f7d9eb5f",
   "metadata": {},
   "outputs": [
    {
     "data": {
      "text/plain": [
       "array([ 5,  6,  7,  8,  9, 10])"
      ]
     },
     "execution_count": 62,
     "metadata": {},
     "output_type": "execute_result"
    }
   ],
   "source": [
    "arr[bool_arr == True] "
   ]
  },
  {
   "cell_type": "code",
   "execution_count": 63,
   "id": "7f3ed924",
   "metadata": {},
   "outputs": [
    {
     "data": {
      "text/plain": [
       "array([ 5,  6,  7,  8,  9, 10])"
      ]
     },
     "execution_count": 63,
     "metadata": {},
     "output_type": "execute_result"
    }
   ],
   "source": [
    "arr[bool_arr]"
   ]
  },
  {
   "cell_type": "code",
   "execution_count": 64,
   "id": "f2b5c692",
   "metadata": {},
   "outputs": [
    {
     "data": {
      "text/plain": [
       "array([ 5,  6,  7,  8,  9, 10])"
      ]
     },
     "execution_count": 64,
     "metadata": {},
     "output_type": "execute_result"
    }
   ],
   "source": [
    "arr[arr > 4]"
   ]
  },
  {
   "cell_type": "code",
   "execution_count": 66,
   "id": "61838024",
   "metadata": {},
   "outputs": [
    {
     "data": {
      "text/plain": [
       "array([ 3,  4,  5,  6,  7,  8,  9, 10])"
      ]
     },
     "execution_count": 66,
     "metadata": {},
     "output_type": "execute_result"
    }
   ],
   "source": [
    "arr[arr > 9/4]"
   ]
  },
  {
   "cell_type": "code",
   "execution_count": null,
   "id": "8442859e",
   "metadata": {},
   "outputs": [],
   "source": []
  }
 ],
 "metadata": {
  "kernelspec": {
   "display_name": "Python 3 (ipykernel)",
   "language": "python",
   "name": "python3"
  },
  "language_info": {
   "codemirror_mode": {
    "name": "ipython",
    "version": 3
   },
   "file_extension": ".py",
   "mimetype": "text/x-python",
   "name": "python",
   "nbconvert_exporter": "python",
   "pygments_lexer": "ipython3",
   "version": "3.11.5"
  }
 },
 "nbformat": 4,
 "nbformat_minor": 5
}
