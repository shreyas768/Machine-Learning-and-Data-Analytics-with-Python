{
 "cells": [
  {
   "cell_type": "markdown",
   "id": "4168d1c0",
   "metadata": {},
   "source": [
    "###### Importing Numpy"
   ]
  },
  {
   "cell_type": "code",
   "execution_count": 1,
   "id": "dbce439e",
   "metadata": {},
   "outputs": [],
   "source": [
    "import numpy as np #as means alias"
   ]
  },
  {
   "cell_type": "markdown",
   "id": "5a679d5d",
   "metadata": {},
   "source": [
    "###### Numpy Arrays\n",
    "\n",
    "\n",
    "* Vectors: 1-D arrays\n",
    "* Matrices: 2-D arrays"
   ]
  },
  {
   "cell_type": "code",
   "execution_count": 3,
   "id": "68b060d2",
   "metadata": {},
   "outputs": [
    {
     "data": {
      "text/plain": [
       "array([1, 2, 3])"
      ]
     },
     "execution_count": 3,
     "metadata": {},
     "output_type": "execute_result"
    }
   ],
   "source": [
    "my_list = [1,2,3]\n",
    "my_array = np.array(my_list)\n",
    "my_array"
   ]
  },
  {
   "cell_type": "code",
   "execution_count": 4,
   "id": "30533136",
   "metadata": {},
   "outputs": [
    {
     "data": {
      "text/plain": [
       "list"
      ]
     },
     "execution_count": 4,
     "metadata": {},
     "output_type": "execute_result"
    }
   ],
   "source": [
    "type(my_list)"
   ]
  },
  {
   "cell_type": "code",
   "execution_count": 5,
   "id": "b0d668db",
   "metadata": {},
   "outputs": [
    {
     "data": {
      "text/plain": [
       "numpy.ndarray"
      ]
     },
     "execution_count": 5,
     "metadata": {},
     "output_type": "execute_result"
    }
   ],
   "source": [
    "type(my_array)"
   ]
  },
  {
   "cell_type": "code",
   "execution_count": 6,
   "id": "c8042c7a",
   "metadata": {},
   "outputs": [
    {
     "data": {
      "text/plain": [
       "[[1, 2, 3], [4, 5, 6], [7, 8, 9]]"
      ]
     },
     "execution_count": 6,
     "metadata": {},
     "output_type": "execute_result"
    }
   ],
   "source": [
    "my_list_2 = [[1,2,3],[4,5,6],[7,8,9]]\n",
    "my_list_2"
   ]
  },
  {
   "cell_type": "code",
   "execution_count": 7,
   "id": "d4516c0e",
   "metadata": {},
   "outputs": [
    {
     "data": {
      "text/plain": [
       "array([[1, 2, 3],\n",
       "       [4, 5, 6],\n",
       "       [7, 8, 9]])"
      ]
     },
     "execution_count": 7,
     "metadata": {},
     "output_type": "execute_result"
    }
   ],
   "source": [
    "np.array(my_list_2) #2d array"
   ]
  },
  {
   "cell_type": "markdown",
   "id": "079c985b",
   "metadata": {},
   "source": [
    "###### Built-in Methods to create array"
   ]
  },
  {
   "cell_type": "code",
   "execution_count": 8,
   "id": "e995579f",
   "metadata": {},
   "outputs": [
    {
     "data": {
      "text/plain": [
       "array([0, 1, 2, 3, 4, 5, 6, 7, 8, 9])"
      ]
     },
     "execution_count": 8,
     "metadata": {},
     "output_type": "execute_result"
    }
   ],
   "source": [
    "#arange\n",
    "\n",
    "np.arange(0,10)"
   ]
  },
  {
   "cell_type": "code",
   "execution_count": 9,
   "id": "69f240f2",
   "metadata": {},
   "outputs": [
    {
     "data": {
      "text/plain": [
       "array([3, 4, 5, 6])"
      ]
     },
     "execution_count": 9,
     "metadata": {},
     "output_type": "execute_result"
    }
   ],
   "source": [
    "np.arange(3,7)"
   ]
  },
  {
   "cell_type": "code",
   "execution_count": 10,
   "id": "4cfcdb62",
   "metadata": {},
   "outputs": [
    {
     "data": {
      "text/plain": [
       "array([ 4,  8, 12, 16, 20, 24])"
      ]
     },
     "execution_count": 10,
     "metadata": {},
     "output_type": "execute_result"
    }
   ],
   "source": [
    "np.arange(4,27,4)"
   ]
  },
  {
   "cell_type": "code",
   "execution_count": 11,
   "id": "5bd08f8a",
   "metadata": {},
   "outputs": [
    {
     "data": {
      "text/plain": [
       "array([0., 0., 0.])"
      ]
     },
     "execution_count": 11,
     "metadata": {},
     "output_type": "execute_result"
    }
   ],
   "source": [
    "#zeros\n",
    "\n",
    "np.zeros(3)"
   ]
  },
  {
   "cell_type": "code",
   "execution_count": 13,
   "id": "7b9e5fd9",
   "metadata": {},
   "outputs": [
    {
     "data": {
      "text/plain": [
       "array([[0., 0., 0.]])"
      ]
     },
     "execution_count": 13,
     "metadata": {},
     "output_type": "execute_result"
    }
   ],
   "source": [
    "np.zeros((1,3))"
   ]
  },
  {
   "cell_type": "code",
   "execution_count": 12,
   "id": "4b7239f1",
   "metadata": {},
   "outputs": [
    {
     "data": {
      "text/plain": [
       "array([[0., 0., 0., 0., 0.],\n",
       "       [0., 0., 0., 0., 0.],\n",
       "       [0., 0., 0., 0., 0.]])"
      ]
     },
     "execution_count": 12,
     "metadata": {},
     "output_type": "execute_result"
    }
   ],
   "source": [
    "np.zeros((3,5))"
   ]
  },
  {
   "cell_type": "code",
   "execution_count": 17,
   "id": "8ab2296b",
   "metadata": {},
   "outputs": [
    {
     "data": {
      "text/plain": [
       "array([1., 1., 1., 1., 1.])"
      ]
     },
     "execution_count": 17,
     "metadata": {},
     "output_type": "execute_result"
    }
   ],
   "source": [
    "#ones\n",
    "np.ones(5)"
   ]
  },
  {
   "cell_type": "code",
   "execution_count": 18,
   "id": "0994aeae",
   "metadata": {},
   "outputs": [
    {
     "data": {
      "text/plain": [
       "array([[1., 1., 1., 1.],\n",
       "       [1., 1., 1., 1.],\n",
       "       [1., 1., 1., 1.]])"
      ]
     },
     "execution_count": 18,
     "metadata": {},
     "output_type": "execute_result"
    }
   ],
   "source": [
    "np.ones((3,4))"
   ]
  },
  {
   "cell_type": "code",
   "execution_count": 25,
   "id": "ea47f002",
   "metadata": {},
   "outputs": [
    {
     "data": {
      "text/plain": [
       "array([0.        , 0.16666667, 0.33333333, 0.5       , 0.66666667,\n",
       "       0.83333333, 1.        , 1.16666667, 1.33333333, 1.5       ,\n",
       "       1.66666667, 1.83333333, 2.        ])"
      ]
     },
     "execution_count": 25,
     "metadata": {},
     "output_type": "execute_result"
    }
   ],
   "source": [
    "#linspace : return evenly spaced numbers over a specified interval\n",
    "\n",
    "np.linspace(0,2,13)"
   ]
  },
  {
   "cell_type": "code",
   "execution_count": 27,
   "id": "d613e119",
   "metadata": {},
   "outputs": [
    {
     "data": {
      "text/plain": [
       "array([0.        , 0.04081633, 0.08163265, 0.12244898, 0.16326531,\n",
       "       0.20408163, 0.24489796, 0.28571429, 0.32653061, 0.36734694,\n",
       "       0.40816327, 0.44897959, 0.48979592, 0.53061224, 0.57142857,\n",
       "       0.6122449 , 0.65306122, 0.69387755, 0.73469388, 0.7755102 ,\n",
       "       0.81632653, 0.85714286, 0.89795918, 0.93877551, 0.97959184,\n",
       "       1.02040816, 1.06122449, 1.10204082, 1.14285714, 1.18367347,\n",
       "       1.2244898 , 1.26530612, 1.30612245, 1.34693878, 1.3877551 ,\n",
       "       1.42857143, 1.46938776, 1.51020408, 1.55102041, 1.59183673,\n",
       "       1.63265306, 1.67346939, 1.71428571, 1.75510204, 1.79591837,\n",
       "       1.83673469, 1.87755102, 1.91836735, 1.95918367, 2.        ])"
      ]
     },
     "execution_count": 27,
     "metadata": {},
     "output_type": "execute_result"
    }
   ],
   "source": [
    "np.linspace(0,2)"
   ]
  },
  {
   "cell_type": "code",
   "execution_count": 28,
   "id": "67374c28",
   "metadata": {},
   "outputs": [
    {
     "data": {
      "text/plain": [
       "array([[1., 0., 0.],\n",
       "       [0., 1., 0.],\n",
       "       [0., 0., 1.]])"
      ]
     },
     "execution_count": 28,
     "metadata": {},
     "output_type": "execute_result"
    }
   ],
   "source": [
    "#eye : create identity matrix\n",
    "np.eye(3)"
   ]
  },
  {
   "cell_type": "markdown",
   "id": "fa98f088",
   "metadata": {},
   "source": [
    "###### Random"
   ]
  },
  {
   "cell_type": "code",
   "execution_count": 34,
   "id": "a7daa947",
   "metadata": {},
   "outputs": [
    {
     "data": {
      "text/plain": [
       "array([0.66232612, 0.41967793, 0.63415668, 0.00268707, 0.79235503])"
      ]
     },
     "execution_count": 34,
     "metadata": {},
     "output_type": "execute_result"
    }
   ],
   "source": [
    "#rand : create an array of given shape and populates it with random samples from a uniform distribution over [0,1)\n",
    "\n",
    "np.random.rand(5)"
   ]
  },
  {
   "cell_type": "code",
   "execution_count": 37,
   "id": "b297bc94",
   "metadata": {},
   "outputs": [
    {
     "data": {
      "text/plain": [
       "array([[0.56589361, 0.84747016, 0.80110384, 0.48166247],\n",
       "       [0.27064733, 0.46024588, 0.87788929, 0.90916248],\n",
       "       [0.192799  , 0.42897994, 0.17656268, 0.09949708]])"
      ]
     },
     "execution_count": 37,
     "metadata": {},
     "output_type": "execute_result"
    }
   ],
   "source": [
    "np.random.rand(3,4)"
   ]
  },
  {
   "cell_type": "code",
   "execution_count": 50,
   "id": "9d0f515c",
   "metadata": {},
   "outputs": [
    {
     "data": {
      "text/plain": [
       "417296"
      ]
     },
     "execution_count": 50,
     "metadata": {},
     "output_type": "execute_result"
    }
   ],
   "source": [
    "#randint : random integers from low(inclusive) to high (exclusive)\n",
    "np.random.randint(1,507098)"
   ]
  },
  {
   "cell_type": "code",
   "execution_count": 54,
   "id": "f915d3b9",
   "metadata": {},
   "outputs": [
    {
     "data": {
      "text/plain": [
       "array([266290, 465104, 290289, 244633, 241717, 433224,   5852, 312561,\n",
       "       432496, 360392,  16106, 427321, 294296, 205008, 244419, 325415])"
      ]
     },
     "execution_count": 54,
     "metadata": {},
     "output_type": "execute_result"
    }
   ],
   "source": [
    "np.random.randint(1,507098,16)"
   ]
  },
  {
   "cell_type": "code",
   "execution_count": 55,
   "id": "b051da57",
   "metadata": {},
   "outputs": [
    {
     "data": {
      "text/plain": [
       "array([-1.12664166,  0.79866271])"
      ]
     },
     "execution_count": 55,
     "metadata": {},
     "output_type": "execute_result"
    }
   ],
   "source": [
    "#randn : return a sample(s) from standard normal distribution (sigma =1) \n",
    "\n",
    "np.random.randn(2)"
   ]
  },
  {
   "cell_type": "code",
   "execution_count": 60,
   "id": "4b0ff939",
   "metadata": {},
   "outputs": [
    {
     "data": {
      "text/plain": [
       "array([[ 1.38709955,  0.11889941,  1.06920291, -2.31633733],\n",
       "       [-0.32784966, -1.33728425, -1.31630226,  1.05213211],\n",
       "       [ 0.78237902,  1.73889003,  0.43920256, -0.20498038]])"
      ]
     },
     "execution_count": 60,
     "metadata": {},
     "output_type": "execute_result"
    }
   ],
   "source": [
    "np.random.randn(3,4)"
   ]
  },
  {
   "cell_type": "code",
   "execution_count": 64,
   "id": "44b3d4e8",
   "metadata": {},
   "outputs": [
    {
     "data": {
      "text/plain": [
       "array([0.92838024, 0.30730013, 0.44001942, 0.06263892, 0.31990579,\n",
       "       0.64452626, 0.5927072 , 0.38541051, 0.29124157, 0.05322669,\n",
       "       0.30119347, 0.56892081, 0.74210586, 0.37007231, 0.17370143,\n",
       "       0.74012864, 0.3602458 , 0.54025815, 0.96768582, 0.19262497,\n",
       "       0.84908282, 0.639262  , 0.79918892, 0.77453796, 0.18162808,\n",
       "       0.21546574, 0.77158074, 0.32984608, 0.78309027, 0.09787203])"
      ]
     },
     "execution_count": 64,
     "metadata": {},
     "output_type": "execute_result"
    }
   ],
   "source": [
    "np.random.sample(30)"
   ]
  },
  {
   "cell_type": "code",
   "execution_count": 96,
   "id": "89d420d4",
   "metadata": {},
   "outputs": [
    {
     "data": {
      "text/plain": [
       "array([177, 140, 110,  34, 133,  71,  71,  23, 134,   3,  96,  72, 112,\n",
       "       197, 164,  93,  92, 155, 135, 149])"
      ]
     },
     "execution_count": 96,
     "metadata": {},
     "output_type": "execute_result"
    }
   ],
   "source": [
    "#seed : used to set 'random state'\n",
    "\n",
    "np.random.seed(50)\n",
    "np.random.randint(1,200,20)"
   ]
  },
  {
   "cell_type": "code",
   "execution_count": 82,
   "id": "ea85f2f5",
   "metadata": {},
   "outputs": [
    {
     "data": {
      "text/plain": [
       "array([[0.89286015, 0.33197981, 0.82122912, 0.04169663],\n",
       "       [0.10765668, 0.59505206, 0.52981736, 0.41880743],\n",
       "       [0.33540785, 0.62251943, 0.43814143, 0.73588211]])"
      ]
     },
     "execution_count": 82,
     "metadata": {},
     "output_type": "execute_result"
    }
   ],
   "source": [
    "np.random.seed(6)\n",
    "np.random.rand(3,4)"
   ]
  },
  {
   "cell_type": "markdown",
   "id": "f430eb8b",
   "metadata": {},
   "source": [
    "##### Arrays Attributes and Methods"
   ]
  },
  {
   "cell_type": "code",
   "execution_count": 92,
   "id": "bfc4cbd0",
   "metadata": {},
   "outputs": [],
   "source": [
    "ran = np.arange(21)\n",
    "ranar = np.random.randint(0,60,10)"
   ]
  },
  {
   "cell_type": "code",
   "execution_count": 93,
   "id": "ac8bb960",
   "metadata": {},
   "outputs": [
    {
     "data": {
      "text/plain": [
       "array([ 0,  1,  2,  3,  4,  5,  6,  7,  8,  9, 10, 11, 12, 13, 14, 15, 16,\n",
       "       17, 18, 19, 20])"
      ]
     },
     "execution_count": 93,
     "metadata": {},
     "output_type": "execute_result"
    }
   ],
   "source": [
    "ran"
   ]
  },
  {
   "cell_type": "code",
   "execution_count": 94,
   "id": "b8cfa3ad",
   "metadata": {},
   "outputs": [
    {
     "data": {
      "text/plain": [
       "array([21, 36, 50, 24, 31, 40, 13, 39, 56, 16])"
      ]
     },
     "execution_count": 94,
     "metadata": {},
     "output_type": "execute_result"
    }
   ],
   "source": [
    "ranar"
   ]
  },
  {
   "cell_type": "code",
   "execution_count": 97,
   "id": "376f9e36",
   "metadata": {},
   "outputs": [
    {
     "data": {
      "text/plain": [
       "array([[ 0,  1,  2,  3,  4,  5,  6],\n",
       "       [ 7,  8,  9, 10, 11, 12, 13],\n",
       "       [14, 15, 16, 17, 18, 19, 20]])"
      ]
     },
     "execution_count": 97,
     "metadata": {},
     "output_type": "execute_result"
    }
   ],
   "source": [
    "#reshape\n",
    "ran.reshape(3,7)"
   ]
  },
  {
   "cell_type": "code",
   "execution_count": 105,
   "id": "53b2016b",
   "metadata": {},
   "outputs": [
    {
     "data": {
      "text/plain": [
       "array([[21, 36, 50, 24, 31],\n",
       "       [40, 13, 39, 56, 16]])"
      ]
     },
     "execution_count": 105,
     "metadata": {},
     "output_type": "execute_result"
    }
   ],
   "source": [
    "re_ranar = ranar.reshape(2,5)\n",
    "re_ranar"
   ]
  },
  {
   "cell_type": "code",
   "execution_count": null,
   "id": "81aa905b",
   "metadata": {},
   "outputs": [],
   "source": []
  },
  {
   "cell_type": "markdown",
   "id": "6f4aa3c8",
   "metadata": {},
   "source": [
    "###### max, min, argmax, argmin"
   ]
  },
  {
   "cell_type": "code",
   "execution_count": 99,
   "id": "46c2612d",
   "metadata": {},
   "outputs": [
    {
     "data": {
      "text/plain": [
       "array([21, 36, 50, 24, 31, 40, 13, 39, 56, 16])"
      ]
     },
     "execution_count": 99,
     "metadata": {},
     "output_type": "execute_result"
    }
   ],
   "source": [
    "ranar"
   ]
  },
  {
   "cell_type": "code",
   "execution_count": 100,
   "id": "a8f60e05",
   "metadata": {},
   "outputs": [
    {
     "data": {
      "text/plain": [
       "56"
      ]
     },
     "execution_count": 100,
     "metadata": {},
     "output_type": "execute_result"
    }
   ],
   "source": [
    "ranar.max()"
   ]
  },
  {
   "cell_type": "code",
   "execution_count": 101,
   "id": "05beae35",
   "metadata": {},
   "outputs": [
    {
     "data": {
      "text/plain": [
       "13"
      ]
     },
     "execution_count": 101,
     "metadata": {},
     "output_type": "execute_result"
    }
   ],
   "source": [
    "ranar.min()"
   ]
  },
  {
   "cell_type": "code",
   "execution_count": 102,
   "id": "2691dedd",
   "metadata": {},
   "outputs": [
    {
     "data": {
      "text/plain": [
       "8"
      ]
     },
     "execution_count": 102,
     "metadata": {},
     "output_type": "execute_result"
    }
   ],
   "source": [
    "ranar.argmax()"
   ]
  },
  {
   "cell_type": "code",
   "execution_count": 103,
   "id": "7d96bd04",
   "metadata": {},
   "outputs": [
    {
     "data": {
      "text/plain": [
       "6"
      ]
     },
     "execution_count": 103,
     "metadata": {},
     "output_type": "execute_result"
    }
   ],
   "source": [
    "ranar.argmin()"
   ]
  },
  {
   "cell_type": "markdown",
   "id": "a2eb024b",
   "metadata": {},
   "source": [
    "###### shape\n",
    "\n",
    "attribute (not a method) that arrays have "
   ]
  },
  {
   "cell_type": "code",
   "execution_count": 104,
   "id": "aff22511",
   "metadata": {},
   "outputs": [
    {
     "data": {
      "text/plain": [
       "(10,)"
      ]
     },
     "execution_count": 104,
     "metadata": {},
     "output_type": "execute_result"
    }
   ],
   "source": [
    "ranar.shape"
   ]
  },
  {
   "cell_type": "code",
   "execution_count": 107,
   "id": "beb748e8",
   "metadata": {},
   "outputs": [
    {
     "data": {
      "text/plain": [
       "(2, 5)"
      ]
     },
     "execution_count": 107,
     "metadata": {},
     "output_type": "execute_result"
    }
   ],
   "source": [
    "re_ranar.shape"
   ]
  },
  {
   "cell_type": "code",
   "execution_count": 109,
   "id": "d445e434",
   "metadata": {},
   "outputs": [
    {
     "data": {
      "text/plain": [
       "array([21, 36, 50, 24, 31, 40, 13, 39, 56, 16])"
      ]
     },
     "execution_count": 109,
     "metadata": {},
     "output_type": "execute_result"
    }
   ],
   "source": [
    "ranar"
   ]
  },
  {
   "cell_type": "code",
   "execution_count": 111,
   "id": "e172fe09",
   "metadata": {},
   "outputs": [
    {
     "data": {
      "text/plain": [
       "array([[21],\n",
       "       [36],\n",
       "       [50],\n",
       "       [24],\n",
       "       [31],\n",
       "       [40],\n",
       "       [13],\n",
       "       [39],\n",
       "       [56],\n",
       "       [16]])"
      ]
     },
     "execution_count": 111,
     "metadata": {},
     "output_type": "execute_result"
    }
   ],
   "source": [
    "re_ranar1 = ranar.reshape(10,1)\n",
    "re_ranar1"
   ]
  },
  {
   "cell_type": "code",
   "execution_count": 112,
   "id": "641c96fb",
   "metadata": {},
   "outputs": [
    {
     "data": {
      "text/plain": [
       "(10, 1)"
      ]
     },
     "execution_count": 112,
     "metadata": {},
     "output_type": "execute_result"
    }
   ],
   "source": [
    "re_ranar1.shape"
   ]
  },
  {
   "cell_type": "code",
   "execution_count": 113,
   "id": "263de036",
   "metadata": {},
   "outputs": [
    {
     "data": {
      "text/plain": [
       "array([21, 36, 50, 24, 31, 40, 13, 39, 56, 16])"
      ]
     },
     "execution_count": 113,
     "metadata": {},
     "output_type": "execute_result"
    }
   ],
   "source": [
    "ranar"
   ]
  },
  {
   "cell_type": "code",
   "execution_count": 114,
   "id": "e85aad4d",
   "metadata": {},
   "outputs": [
    {
     "data": {
      "text/plain": [
       "(10,)"
      ]
     },
     "execution_count": 114,
     "metadata": {},
     "output_type": "execute_result"
    }
   ],
   "source": [
    "ranar.shape"
   ]
  },
  {
   "cell_type": "code",
   "execution_count": 116,
   "id": "4a1e012d",
   "metadata": {},
   "outputs": [
    {
     "data": {
      "text/plain": [
       "array([[21],\n",
       "       [36],\n",
       "       [50],\n",
       "       [24],\n",
       "       [31],\n",
       "       [40],\n",
       "       [13],\n",
       "       [39],\n",
       "       [56],\n",
       "       [16]])"
      ]
     },
     "execution_count": 116,
     "metadata": {},
     "output_type": "execute_result"
    }
   ],
   "source": [
    "re_ranar1"
   ]
  },
  {
   "cell_type": "code",
   "execution_count": 117,
   "id": "52f3b4e0",
   "metadata": {},
   "outputs": [
    {
     "data": {
      "text/plain": [
       "(10, 1)"
      ]
     },
     "execution_count": 117,
     "metadata": {},
     "output_type": "execute_result"
    }
   ],
   "source": [
    "re_ranar1.shape"
   ]
  },
  {
   "cell_type": "code",
   "execution_count": 118,
   "id": "db417ef4",
   "metadata": {},
   "outputs": [
    {
     "data": {
      "text/plain": [
       "array([[21, 36, 50, 24, 31],\n",
       "       [40, 13, 39, 56, 16]])"
      ]
     },
     "execution_count": 118,
     "metadata": {},
     "output_type": "execute_result"
    }
   ],
   "source": [
    "re_ranar"
   ]
  },
  {
   "cell_type": "code",
   "execution_count": 119,
   "id": "a28e1c98",
   "metadata": {},
   "outputs": [
    {
     "data": {
      "text/plain": [
       "(2, 5)"
      ]
     },
     "execution_count": 119,
     "metadata": {},
     "output_type": "execute_result"
    }
   ],
   "source": [
    "re_ranar.shape"
   ]
  },
  {
   "cell_type": "code",
   "execution_count": null,
   "id": "e90de14b",
   "metadata": {},
   "outputs": [],
   "source": []
  }
 ],
 "metadata": {
  "kernelspec": {
   "display_name": "Python 3 (ipykernel)",
   "language": "python",
   "name": "python3"
  },
  "language_info": {
   "codemirror_mode": {
    "name": "ipython",
    "version": 3
   },
   "file_extension": ".py",
   "mimetype": "text/x-python",
   "name": "python",
   "nbconvert_exporter": "python",
   "pygments_lexer": "ipython3",
   "version": "3.11.5"
  }
 },
 "nbformat": 4,
 "nbformat_minor": 5
}
