{
 "cells": [
  {
   "cell_type": "markdown",
   "id": "2c9ed138",
   "metadata": {},
   "source": [
    "###### Functions"
   ]
  },
  {
   "cell_type": "code",
   "execution_count": 4,
   "id": "3beaf077",
   "metadata": {},
   "outputs": [],
   "source": [
    "def name_of_function(arg1, arg2, arg3):\n",
    "    '''\n",
    "    Function's document string. Call help() on your function to print this out\n",
    "    '''\n",
    "    \n",
    "    #do some stuff here\n",
    "    #return desired output here"
   ]
  },
  {
   "cell_type": "code",
   "execution_count": 6,
   "id": "ac3ec568",
   "metadata": {},
   "outputs": [],
   "source": [
    "def say_hello():\n",
    "    print('hello')"
   ]
  },
  {
   "cell_type": "code",
   "execution_count": 8,
   "id": "4fedcd98",
   "metadata": {},
   "outputs": [
    {
     "name": "stdout",
     "output_type": "stream",
     "text": [
      "hello\n"
     ]
    }
   ],
   "source": [
    "#call the function say_hello\n",
    "\n",
    "say_hello()"
   ]
  },
  {
   "cell_type": "code",
   "execution_count": 9,
   "id": "63f284be",
   "metadata": {},
   "outputs": [
    {
     "data": {
      "text/plain": [
       "<function __main__.say_hello()>"
      ]
     },
     "execution_count": 9,
     "metadata": {},
     "output_type": "execute_result"
    }
   ],
   "source": [
    "say_hello"
   ]
  },
  {
   "cell_type": "code",
   "execution_count": 18,
   "id": "b2a4d6f4",
   "metadata": {},
   "outputs": [],
   "source": [
    "#accepting parameters (arguments)\n",
    "\n",
    "def greetings(name):\n",
    "    return 'hello ' + name"
   ]
  },
  {
   "cell_type": "code",
   "execution_count": 21,
   "id": "6e9945cc",
   "metadata": {},
   "outputs": [],
   "source": [
    "greet_shreyas = greetings('shreyas')"
   ]
  },
  {
   "cell_type": "code",
   "execution_count": 30,
   "id": "69ac25a6",
   "metadata": {},
   "outputs": [
    {
     "data": {
      "text/plain": [
       "str"
      ]
     },
     "execution_count": 30,
     "metadata": {},
     "output_type": "execute_result"
    }
   ],
   "source": [
    "type(greet_shreyas)"
   ]
  },
  {
   "cell_type": "code",
   "execution_count": 23,
   "id": "2aafd813",
   "metadata": {},
   "outputs": [
    {
     "name": "stdout",
     "output_type": "stream",
     "text": [
      "hello shreyas\n"
     ]
    }
   ],
   "source": [
    "print(greet_shreyas)"
   ]
  },
  {
   "cell_type": "code",
   "execution_count": 28,
   "id": "4770f1e0",
   "metadata": {},
   "outputs": [],
   "source": [
    "def print_greetings(name):\n",
    "    print(f'hello {name.upper()}')"
   ]
  },
  {
   "cell_type": "code",
   "execution_count": 29,
   "id": "a7d06cf1",
   "metadata": {},
   "outputs": [
    {
     "name": "stdout",
     "output_type": "stream",
     "text": [
      "hello SHREYAS\n"
     ]
    }
   ],
   "source": [
    "print_greetings('shreyas')"
   ]
  },
  {
   "cell_type": "markdown",
   "id": "0ee3db08",
   "metadata": {},
   "source": [
    "#### function that take a number and checks whether is it even"
   ]
  },
  {
   "cell_type": "code",
   "execution_count": 31,
   "id": "7420e628",
   "metadata": {},
   "outputs": [],
   "source": [
    "def even_check(num):\n",
    "    return num%2 == 0"
   ]
  },
  {
   "cell_type": "code",
   "execution_count": 32,
   "id": "3752aeab",
   "metadata": {},
   "outputs": [
    {
     "data": {
      "text/plain": [
       "False"
      ]
     },
     "execution_count": 32,
     "metadata": {},
     "output_type": "execute_result"
    }
   ],
   "source": [
    "even_check(75)"
   ]
  },
  {
   "cell_type": "code",
   "execution_count": 37,
   "id": "317cf3cf",
   "metadata": {},
   "outputs": [],
   "source": [
    "def check_even_list(num_list):\n",
    "    #Go through each number in list\n",
    "    for n in num_list:\n",
    "        #once we get a hit on an even number, we return True\n",
    "        if n%2 == 0:\n",
    "            return True\n",
    "        #Otherwise we don't do anything\n",
    "        else:\n",
    "            pass\n",
    "            "
   ]
  },
  {
   "cell_type": "code",
   "execution_count": 34,
   "id": "36103ed4",
   "metadata": {},
   "outputs": [
    {
     "data": {
      "text/plain": [
       "True"
      ]
     },
     "execution_count": 34,
     "metadata": {},
     "output_type": "execute_result"
    }
   ],
   "source": [
    "check_even_list([1,2,3])"
   ]
  },
  {
   "cell_type": "code",
   "execution_count": 35,
   "id": "5c23932e",
   "metadata": {},
   "outputs": [],
   "source": [
    "check_even_list([1,3,5,7,9])"
   ]
  },
  {
   "cell_type": "code",
   "execution_count": 40,
   "id": "5aff6319",
   "metadata": {},
   "outputs": [],
   "source": [
    "##THIS IS WRONG. It returns False AFTER the very first instance of odd number.\n",
    "#It doesn't check the other numbers in the list\n",
    "\n",
    "\n",
    "def check_even_list(num_list):\n",
    "    #Go through each number in list\n",
    "    for n in num_list:\n",
    "        #once we get a hit on an even number, we return True\n",
    "        if n%2 == 0:\n",
    "            return True\n",
    "        #Otherwise we don't do anything\n",
    "        else:\n",
    "            return False"
   ]
  },
  {
   "cell_type": "code",
   "execution_count": 41,
   "id": "326ad034",
   "metadata": {},
   "outputs": [
    {
     "data": {
      "text/plain": [
       "False"
      ]
     },
     "execution_count": 41,
     "metadata": {},
     "output_type": "execute_result"
    }
   ],
   "source": [
    "check_even_list([1,2,3])"
   ]
  },
  {
   "cell_type": "code",
   "execution_count": 47,
   "id": "63b58bcb",
   "metadata": {},
   "outputs": [
    {
     "data": {
      "text/plain": [
       "True"
      ]
     },
     "execution_count": 47,
     "metadata": {},
     "output_type": "execute_result"
    }
   ],
   "source": [
    "check_even([1,3,7,2,9])"
   ]
  },
  {
   "cell_type": "code",
   "execution_count": 48,
   "id": "950d9001",
   "metadata": {},
   "outputs": [],
   "source": [
    "def check_even_list(num_list):\n",
    "    #Go through each number in list\n",
    "    for n in num_list:\n",
    "        #once we get a hit on an even number, we return True\n",
    "        if n%2 == 0:\n",
    "            return True\n",
    "        #Otherwise we don't do anything\n",
    "        else:\n",
    "            pass\n",
    "    return False"
   ]
  },
  {
   "cell_type": "code",
   "execution_count": 52,
   "id": "a53b5e95",
   "metadata": {},
   "outputs": [
    {
     "data": {
      "text/plain": [
       "False"
      ]
     },
     "execution_count": 52,
     "metadata": {},
     "output_type": "execute_result"
    }
   ],
   "source": [
    "check_even_list([1,3,5,7,19])"
   ]
  },
  {
   "cell_type": "code",
   "execution_count": 54,
   "id": "8429ace6",
   "metadata": {},
   "outputs": [],
   "source": [
    "#return all the even numbers in a list, otherwise return empty list\n",
    "\n",
    "def return_even_list(num_list):\n",
    "    even_numbers = []\n",
    "    \n",
    "    for n in num_list:\n",
    "        if n%2 == 0:\n",
    "            even_numbers.append(n)\n",
    "        else:\n",
    "            pass\n",
    "    return even_numbers"
   ]
  },
  {
   "cell_type": "code",
   "execution_count": 55,
   "id": "2c1e4c41",
   "metadata": {},
   "outputs": [
    {
     "data": {
      "text/plain": [
       "[2, 4, 6]"
      ]
     },
     "execution_count": 55,
     "metadata": {},
     "output_type": "execute_result"
    }
   ],
   "source": [
    "return_even_list([1,2,3,4,5,6,9])"
   ]
  },
  {
   "cell_type": "code",
   "execution_count": 56,
   "id": "9c5c0463",
   "metadata": {},
   "outputs": [],
   "source": [
    "# function prime numbers\n",
    "\n",
    "def count_primes(num):\n",
    "    primes = [2]\n",
    "    x = 3\n",
    "    \n",
    "    if num < 2:\n",
    "        return 0\n",
    "    while x<= num:\n",
    "        for y in range(3,x,2):\n",
    "            if x%y == 0:\n",
    "                x += 2\n",
    "                break\n",
    "        else:\n",
    "            primes.append(x)\n",
    "            x +=2\n",
    "    print(primes)\n",
    "    print('No of primes are: ', len(primes))"
   ]
  },
  {
   "cell_type": "code",
   "execution_count": 57,
   "id": "6d710af7",
   "metadata": {},
   "outputs": [
    {
     "name": "stdout",
     "output_type": "stream",
     "text": [
      "[2, 3, 5, 7, 11, 13, 17, 19]\n",
      "No of primes are:  8\n"
     ]
    }
   ],
   "source": [
    "count_primes(20)"
   ]
  },
  {
   "cell_type": "markdown",
   "id": "490abfde",
   "metadata": {},
   "source": [
    "1. Write a function that capitalizes the first and fourth letters of a name.\n",
    "2. write a func that checks whether a word/phrase is palindrome or not.\n",
    "3. Given a sentence, return a sentence with words reversed\n",
    "\n",
    "* For eg. 'I am home' -->> 'home am I'\n",
    "\n",
    "4. write a function that takes a list of integers and return True if it contains 007 in order (need not be consecutive)\n",
    "5. Write a def that multiply all the numbers in a list"
   ]
  },
  {
   "cell_type": "code",
   "execution_count": 4,
   "id": "ae4ca94f",
   "metadata": {},
   "outputs": [],
   "source": [
    "#1 Rehaan's approach\n",
    "\n",
    "def cap(name):\n",
    "    name1 = ''\n",
    "    i = 0\n",
    "    while i < len(name):\n",
    "        if i == 0:\n",
    "            name1 += name[i].upper()\n",
    "        elif i == 3:\n",
    "            if name[i].isalpha():\n",
    "                name1 += name[i].upper()\n",
    "            else:\n",
    "                name1 += ' ' + name[i+1].upper()\n",
    "                i += 1\n",
    "        else:\n",
    "            name1 += name[i]\n",
    "        i += 1\n",
    "    return(name1)"
   ]
  },
  {
   "cell_type": "code",
   "execution_count": 14,
   "id": "930b34cd",
   "metadata": {},
   "outputs": [],
   "source": [
    "#1\n",
    "\n",
    "def cap_one_four(nm):\n",
    "    \n",
    "    if len(nm) > 3:\n",
    "        return nm[:3].capitalize() + nm[3:].capitalize()\n",
    "    else:\n",
    "        return 'Name is too short'"
   ]
  },
  {
   "cell_type": "code",
   "execution_count": 15,
   "id": "5b10bf77",
   "metadata": {},
   "outputs": [
    {
     "data": {
      "text/plain": [
       "'RooRkee'"
      ]
     },
     "execution_count": 15,
     "metadata": {},
     "output_type": "execute_result"
    }
   ],
   "source": [
    "cap_one_four('rOorkEe')"
   ]
  },
  {
   "cell_type": "code",
   "execution_count": 20,
   "id": "7fc623bd",
   "metadata": {},
   "outputs": [],
   "source": [
    "#2\n",
    "def palindrome(word):\n",
    "    word = word.replace(' ','')\n",
    "    return word == word[::-1]\n"
   ]
  },
  {
   "cell_type": "code",
   "execution_count": 21,
   "id": "b895abd5",
   "metadata": {},
   "outputs": [
    {
     "data": {
      "text/plain": [
       "True"
      ]
     },
     "execution_count": 21,
     "metadata": {},
     "output_type": "execute_result"
    }
   ],
   "source": [
    "palindrome('abcba')"
   ]
  },
  {
   "cell_type": "code",
   "execution_count": 22,
   "id": "64b875c3",
   "metadata": {},
   "outputs": [
    {
     "data": {
      "text/plain": [
       "False"
      ]
     },
     "execution_count": 22,
     "metadata": {},
     "output_type": "execute_result"
    }
   ],
   "source": [
    "palindrome('shrey')"
   ]
  },
  {
   "cell_type": "code",
   "execution_count": 23,
   "id": "469c1472",
   "metadata": {},
   "outputs": [
    {
     "data": {
      "text/plain": [
       "True"
      ]
     },
     "execution_count": 23,
     "metadata": {},
     "output_type": "execute_result"
    }
   ],
   "source": [
    "palindrome('nurses run')"
   ]
  },
  {
   "cell_type": "code",
   "execution_count": 24,
   "id": "67f3ff2c",
   "metadata": {},
   "outputs": [
    {
     "data": {
      "text/plain": [
       "True"
      ]
     },
     "execution_count": 24,
     "metadata": {},
     "output_type": "execute_result"
    }
   ],
   "source": [
    "palindrome('race car')"
   ]
  },
  {
   "cell_type": "code",
   "execution_count": 31,
   "id": "1be25324",
   "metadata": {},
   "outputs": [],
   "source": [
    "#3\n",
    "def reverse_string(st):\n",
    "    return ' '.join(st.split()[::-1])"
   ]
  },
  {
   "cell_type": "code",
   "execution_count": 32,
   "id": "00fbc60d",
   "metadata": {},
   "outputs": [
    {
     "data": {
      "text/plain": [
       "'back going am i'"
      ]
     },
     "execution_count": 32,
     "metadata": {},
     "output_type": "execute_result"
    }
   ],
   "source": [
    "reverse_string('i am going back')"
   ]
  },
  {
   "cell_type": "code",
   "execution_count": 35,
   "id": "53b7ca8e",
   "metadata": {},
   "outputs": [],
   "source": [
    "#5\n",
    "def lst_multiply(num):\n",
    "    total = 1\n",
    "    for x in num:\n",
    "        total = total * x\n",
    "    return total"
   ]
  },
  {
   "cell_type": "code",
   "execution_count": 36,
   "id": "9d8a1864",
   "metadata": {},
   "outputs": [
    {
     "data": {
      "text/plain": [
       "80271360"
      ]
     },
     "execution_count": 36,
     "metadata": {},
     "output_type": "execute_result"
    }
   ],
   "source": [
    "lst_multiply([12,32,67,48,65])"
   ]
  },
  {
   "cell_type": "code",
   "execution_count": 56,
   "id": "516efb6e",
   "metadata": {},
   "outputs": [],
   "source": [
    "#4\n",
    "\n",
    "def bond(num_lst):\n",
    "    \n",
    "    code_bond = [0,0,7,'hukjgjhg']\n",
    "    \n",
    "    for num in num_lst:\n",
    "        if num == code_bond[0]:\n",
    "            code_bond.pop(0)\n",
    "            \n",
    "    return len(code_bond) == 1"
   ]
  },
  {
   "cell_type": "code",
   "execution_count": 57,
   "id": "90063c1b",
   "metadata": {},
   "outputs": [
    {
     "data": {
      "text/plain": [
       "False"
      ]
     },
     "execution_count": 57,
     "metadata": {},
     "output_type": "execute_result"
    }
   ],
   "source": [
    "bond([7,0,0,4,3])"
   ]
  },
  {
   "cell_type": "code",
   "execution_count": 58,
   "id": "1a36eed5",
   "metadata": {},
   "outputs": [
    {
     "data": {
      "text/plain": [
       "True"
      ]
     },
     "execution_count": 58,
     "metadata": {},
     "output_type": "execute_result"
    }
   ],
   "source": [
    "bond([0,0,7,3,21])"
   ]
  },
  {
   "cell_type": "code",
   "execution_count": 59,
   "id": "376f409d",
   "metadata": {},
   "outputs": [
    {
     "data": {
      "text/plain": [
       "True"
      ]
     },
     "execution_count": 59,
     "metadata": {},
     "output_type": "execute_result"
    }
   ],
   "source": [
    "bond([8, 9, 0,0, 7])"
   ]
  },
  {
   "cell_type": "code",
   "execution_count": 60,
   "id": "ffc838cb",
   "metadata": {},
   "outputs": [],
   "source": [
    "def check007(l):\n",
    "    for i in range(len(l)-2):\n",
    "        if l[i]==0 and l[i+1]==0 and l[i+2]==7:\n",
    "            return True\n",
    "    else:\n",
    "        return False"
   ]
  },
  {
   "cell_type": "code",
   "execution_count": 61,
   "id": "db68bf2b",
   "metadata": {},
   "outputs": [
    {
     "data": {
      "text/plain": [
       "True"
      ]
     },
     "execution_count": 61,
     "metadata": {},
     "output_type": "execute_result"
    }
   ],
   "source": [
    "check007([0,0,7,6])"
   ]
  },
  {
   "cell_type": "code",
   "execution_count": 62,
   "id": "c3df422e",
   "metadata": {},
   "outputs": [
    {
     "data": {
      "text/plain": [
       "True"
      ]
     },
     "execution_count": 62,
     "metadata": {},
     "output_type": "execute_result"
    }
   ],
   "source": [
    "check007([5,0,0,7])"
   ]
  },
  {
   "cell_type": "code",
   "execution_count": 64,
   "id": "2e2761c6",
   "metadata": {},
   "outputs": [],
   "source": [
    "def check(lst):\n",
    "        count=0\n",
    "        for i in lst:\n",
    "            if lst[count]==0:\n",
    "                if lst[count+1]==0:\n",
    "                    if lst[count+2]==7:\n",
    "                        return True\n",
    "                    else:\n",
    "                        count=count+1\n",
    "                        pass\n",
    "                else:\n",
    "                    count=count+1  \n",
    "                    pass\n",
    "            else:\n",
    "                count=count+1\n",
    "                pass\n",
    " \n",
    "        return False"
   ]
  },
  {
   "cell_type": "code",
   "execution_count": 65,
   "id": "7bfec876",
   "metadata": {},
   "outputs": [
    {
     "data": {
      "text/plain": [
       "True"
      ]
     },
     "execution_count": 65,
     "metadata": {},
     "output_type": "execute_result"
    }
   ],
   "source": [
    "check([5,0,0,7])"
   ]
  },
  {
   "cell_type": "code",
   "execution_count": null,
   "id": "f104f84a",
   "metadata": {},
   "outputs": [],
   "source": []
  }
 ],
 "metadata": {
  "kernelspec": {
   "display_name": "Python 3 (ipykernel)",
   "language": "python",
   "name": "python3"
  },
  "language_info": {
   "codemirror_mode": {
    "name": "ipython",
    "version": 3
   },
   "file_extension": ".py",
   "mimetype": "text/x-python",
   "name": "python",
   "nbconvert_exporter": "python",
   "pygments_lexer": "ipython3",
   "version": "3.11.5"
  }
 },
 "nbformat": 4,
 "nbformat_minor": 5
}
