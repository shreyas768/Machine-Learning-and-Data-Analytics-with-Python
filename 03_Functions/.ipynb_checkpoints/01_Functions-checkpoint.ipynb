{
 "cells": [
  {
   "cell_type": "markdown",
   "id": "2c9ed138",
   "metadata": {},
   "source": [
    "###### Functions"
   ]
  },
  {
   "cell_type": "code",
   "execution_count": 4,
   "id": "3beaf077",
   "metadata": {},
   "outputs": [],
   "source": [
    "def name_of_function(arg1, arg2, arg3):\n",
    "    '''\n",
    "    Function's document string. Call help() on your function to print this out\n",
    "    '''\n",
    "    \n",
    "    #do some stuff here\n",
    "    #return desired output here"
   ]
  },
  {
   "cell_type": "code",
   "execution_count": 6,
   "id": "ac3ec568",
   "metadata": {},
   "outputs": [],
   "source": [
    "def say_hello():\n",
    "    print('hello')"
   ]
  },
  {
   "cell_type": "code",
   "execution_count": 8,
   "id": "4fedcd98",
   "metadata": {},
   "outputs": [
    {
     "name": "stdout",
     "output_type": "stream",
     "text": [
      "hello\n"
     ]
    }
   ],
   "source": [
    "#call the function say_hello\n",
    "\n",
    "say_hello()"
   ]
  },
  {
   "cell_type": "code",
   "execution_count": 9,
   "id": "63f284be",
   "metadata": {},
   "outputs": [
    {
     "data": {
      "text/plain": [
       "<function __main__.say_hello()>"
      ]
     },
     "execution_count": 9,
     "metadata": {},
     "output_type": "execute_result"
    }
   ],
   "source": [
    "say_hello"
   ]
  },
  {
   "cell_type": "code",
   "execution_count": 18,
   "id": "b2a4d6f4",
   "metadata": {},
   "outputs": [],
   "source": [
    "#accepting parameters (arguments)\n",
    "\n",
    "def greetings(name):\n",
    "    return 'hello ' + name"
   ]
  },
  {
   "cell_type": "code",
   "execution_count": 21,
   "id": "6e9945cc",
   "metadata": {},
   "outputs": [],
   "source": [
    "greet_shreyas = greetings('shreyas')"
   ]
  },
  {
   "cell_type": "code",
   "execution_count": 30,
   "id": "69ac25a6",
   "metadata": {},
   "outputs": [
    {
     "data": {
      "text/plain": [
       "str"
      ]
     },
     "execution_count": 30,
     "metadata": {},
     "output_type": "execute_result"
    }
   ],
   "source": [
    "type(greet_shreyas)"
   ]
  },
  {
   "cell_type": "code",
   "execution_count": 23,
   "id": "2aafd813",
   "metadata": {},
   "outputs": [
    {
     "name": "stdout",
     "output_type": "stream",
     "text": [
      "hello shreyas\n"
     ]
    }
   ],
   "source": [
    "print(greet_shreyas)"
   ]
  },
  {
   "cell_type": "code",
   "execution_count": 28,
   "id": "4770f1e0",
   "metadata": {},
   "outputs": [],
   "source": [
    "def print_greetings(name):\n",
    "    print(f'hello {name.upper()}')"
   ]
  },
  {
   "cell_type": "code",
   "execution_count": 29,
   "id": "a7d06cf1",
   "metadata": {},
   "outputs": [
    {
     "name": "stdout",
     "output_type": "stream",
     "text": [
      "hello SHREYAS\n"
     ]
    }
   ],
   "source": [
    "print_greetings('shreyas')"
   ]
  },
  {
   "cell_type": "markdown",
   "id": "0ee3db08",
   "metadata": {},
   "source": [
    "#### function that take a number and checks whether is it even"
   ]
  },
  {
   "cell_type": "code",
   "execution_count": 31,
   "id": "7420e628",
   "metadata": {},
   "outputs": [],
   "source": [
    "def even_check(num):\n",
    "    return num%2 == 0"
   ]
  },
  {
   "cell_type": "code",
   "execution_count": 32,
   "id": "3752aeab",
   "metadata": {},
   "outputs": [
    {
     "data": {
      "text/plain": [
       "False"
      ]
     },
     "execution_count": 32,
     "metadata": {},
     "output_type": "execute_result"
    }
   ],
   "source": [
    "even_check(75)"
   ]
  },
  {
   "cell_type": "code",
   "execution_count": 37,
   "id": "317cf3cf",
   "metadata": {},
   "outputs": [],
   "source": [
    "def check_even_list(num_list):\n",
    "    #Go through each number in list\n",
    "    for n in num_list:\n",
    "        #once we get a hit on an even number, we return True\n",
    "        if n%2 == 0:\n",
    "            return True\n",
    "        #Otherwise we don't do anything\n",
    "        else:\n",
    "            pass\n",
    "            "
   ]
  },
  {
   "cell_type": "code",
   "execution_count": 34,
   "id": "36103ed4",
   "metadata": {},
   "outputs": [
    {
     "data": {
      "text/plain": [
       "True"
      ]
     },
     "execution_count": 34,
     "metadata": {},
     "output_type": "execute_result"
    }
   ],
   "source": [
    "check_even_list([1,2,3])"
   ]
  },
  {
   "cell_type": "code",
   "execution_count": 35,
   "id": "5c23932e",
   "metadata": {},
   "outputs": [],
   "source": [
    "check_even_list([1,3,5,7,9])"
   ]
  },
  {
   "cell_type": "code",
   "execution_count": 40,
   "id": "5aff6319",
   "metadata": {},
   "outputs": [],
   "source": [
    "##THIS IS WRONG. It returns False AFTER the very first instance of odd number.\n",
    "#It doesn't check the other numbers in the list\n",
    "\n",
    "\n",
    "def check_even_list(num_list):\n",
    "    #Go through each number in list\n",
    "    for n in num_list:\n",
    "        #once we get a hit on an even number, we return True\n",
    "        if n%2 == 0:\n",
    "            return True\n",
    "        #Otherwise we don't do anything\n",
    "        else:\n",
    "            return False"
   ]
  },
  {
   "cell_type": "code",
   "execution_count": 41,
   "id": "326ad034",
   "metadata": {},
   "outputs": [
    {
     "data": {
      "text/plain": [
       "False"
      ]
     },
     "execution_count": 41,
     "metadata": {},
     "output_type": "execute_result"
    }
   ],
   "source": [
    "check_even_list([1,2,3])"
   ]
  },
  {
   "cell_type": "code",
   "execution_count": 47,
   "id": "63b58bcb",
   "metadata": {},
   "outputs": [
    {
     "data": {
      "text/plain": [
       "True"
      ]
     },
     "execution_count": 47,
     "metadata": {},
     "output_type": "execute_result"
    }
   ],
   "source": [
    "check_even([1,3,7,2,9])"
   ]
  },
  {
   "cell_type": "code",
   "execution_count": 48,
   "id": "950d9001",
   "metadata": {},
   "outputs": [],
   "source": [
    "def check_even_list(num_list):\n",
    "    #Go through each number in list\n",
    "    for n in num_list:\n",
    "        #once we get a hit on an even number, we return True\n",
    "        if n%2 == 0:\n",
    "            return True\n",
    "        #Otherwise we don't do anything\n",
    "        else:\n",
    "            pass\n",
    "    return False"
   ]
  },
  {
   "cell_type": "code",
   "execution_count": 52,
   "id": "a53b5e95",
   "metadata": {},
   "outputs": [
    {
     "data": {
      "text/plain": [
       "False"
      ]
     },
     "execution_count": 52,
     "metadata": {},
     "output_type": "execute_result"
    }
   ],
   "source": [
    "check_even_list([1,3,5,7,19])"
   ]
  },
  {
   "cell_type": "code",
   "execution_count": 54,
   "id": "8429ace6",
   "metadata": {},
   "outputs": [],
   "source": [
    "#return all the even numbers in a list, otherwise return empty list\n",
    "\n",
    "def return_even_list(num_list):\n",
    "    even_numbers = []\n",
    "    \n",
    "    for n in num_list:\n",
    "        if n%2 == 0:\n",
    "            even_numbers.append(n)\n",
    "        else:\n",
    "            pass\n",
    "    return even_numbers"
   ]
  },
  {
   "cell_type": "code",
   "execution_count": 55,
   "id": "2c1e4c41",
   "metadata": {},
   "outputs": [
    {
     "data": {
      "text/plain": [
       "[2, 4, 6]"
      ]
     },
     "execution_count": 55,
     "metadata": {},
     "output_type": "execute_result"
    }
   ],
   "source": [
    "return_even_list([1,2,3,4,5,6,9])"
   ]
  },
  {
   "cell_type": "code",
   "execution_count": 56,
   "id": "9c5c0463",
   "metadata": {},
   "outputs": [],
   "source": [
    "# function prime numbers\n",
    "\n",
    "def count_primes(num):\n",
    "    primes = [2]\n",
    "    x = 3\n",
    "    \n",
    "    if num < 2:\n",
    "        return 0\n",
    "    while x<= num:\n",
    "        for y in range(3,x,2):\n",
    "            if x%y == 0:\n",
    "                x += 2\n",
    "                break\n",
    "        else:\n",
    "            primes.append(x)\n",
    "            x +=2\n",
    "    print(primes)\n",
    "    print('No of primes are: ', len(primes))"
   ]
  },
  {
   "cell_type": "code",
   "execution_count": 57,
   "id": "6d710af7",
   "metadata": {},
   "outputs": [
    {
     "name": "stdout",
     "output_type": "stream",
     "text": [
      "[2, 3, 5, 7, 11, 13, 17, 19]\n",
      "No of primes are:  8\n"
     ]
    }
   ],
   "source": [
    "count_primes(20)"
   ]
  },
  {
   "cell_type": "markdown",
   "id": "490abfde",
   "metadata": {},
   "source": [
    "1. Write a function that capitalizes the first and fourth letters of a name.\n",
    "2. write a func that checks whether a word/phrase is palindrome or not.\n",
    "3. Given a sentence, return a sentence with words reversed\n",
    "\n",
    "* For eg. 'I am home' -->> 'home am I'\n",
    "\n",
    "4. write a function that takes a list of integers and return True if it contains 007 in order\n",
    "5. Write a def that multiply all the numbers in a list"
   ]
  },
  {
   "cell_type": "code",
   "execution_count": null,
   "id": "ae4ca94f",
   "metadata": {},
   "outputs": [],
   "source": []
  }
 ],
 "metadata": {
  "kernelspec": {
   "display_name": "Python 3 (ipykernel)",
   "language": "python",
   "name": "python3"
  },
  "language_info": {
   "codemirror_mode": {
    "name": "ipython",
    "version": 3
   },
   "file_extension": ".py",
   "mimetype": "text/x-python",
   "name": "python",
   "nbconvert_exporter": "python",
   "pygments_lexer": "ipython3",
   "version": "3.11.5"
  }
 },
 "nbformat": 4,
 "nbformat_minor": 5
}
