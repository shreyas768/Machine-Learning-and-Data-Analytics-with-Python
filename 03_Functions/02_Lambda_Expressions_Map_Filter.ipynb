{
 "cells": [
  {
   "cell_type": "markdown",
   "id": "42004a4b",
   "metadata": {},
   "source": [
    "#### Map function"
   ]
  },
  {
   "cell_type": "code",
   "execution_count": 1,
   "id": "0657f9c4",
   "metadata": {},
   "outputs": [],
   "source": [
    "def square(num):\n",
    "    return num**2"
   ]
  },
  {
   "cell_type": "code",
   "execution_count": 2,
   "id": "6916cc4b",
   "metadata": {},
   "outputs": [
    {
     "data": {
      "text/plain": [
       "<map at 0x122d4ba90>"
      ]
     },
     "execution_count": 2,
     "metadata": {},
     "output_type": "execute_result"
    }
   ],
   "source": [
    "map(square,[32,89,54])"
   ]
  },
  {
   "cell_type": "code",
   "execution_count": 5,
   "id": "2525330c",
   "metadata": {},
   "outputs": [
    {
     "data": {
      "text/plain": [
       "[1024, 7921, 2916]"
      ]
     },
     "execution_count": 5,
     "metadata": {},
     "output_type": "execute_result"
    }
   ],
   "source": [
    "list(map(square,[32,89,54]))"
   ]
  },
  {
   "cell_type": "code",
   "execution_count": 6,
   "id": "26e5dffc",
   "metadata": {},
   "outputs": [],
   "source": [
    "def some_func(st):\n",
    "    if len(st)%2 == 0:\n",
    "        return 'even'\n",
    "    else:\n",
    "        return st[0]"
   ]
  },
  {
   "cell_type": "code",
   "execution_count": 7,
   "id": "452a8dea",
   "metadata": {},
   "outputs": [
    {
     "data": {
      "text/plain": [
       "['S', 'even', 'R', 'V', 'even']"
      ]
     },
     "execution_count": 7,
     "metadata": {},
     "output_type": "execute_result"
    }
   ],
   "source": [
    "list(map(some_func,['Shreyas','RBPL','Rohit','Virat','Pant']))"
   ]
  },
  {
   "cell_type": "markdown",
   "id": "2038bf4a",
   "metadata": {},
   "source": [
    "###### Filter"
   ]
  },
  {
   "cell_type": "code",
   "execution_count": 8,
   "id": "da25a5a5",
   "metadata": {},
   "outputs": [],
   "source": [
    "#[1,2,3,4,5,6] -->> [3,6]\n",
    "\n",
    "def div_three(num):\n",
    "    return num%3 == 0"
   ]
  },
  {
   "cell_type": "code",
   "execution_count": 10,
   "id": "f81cc149",
   "metadata": {},
   "outputs": [
    {
     "data": {
      "text/plain": [
       "[54]"
      ]
     },
     "execution_count": 10,
     "metadata": {},
     "output_type": "execute_result"
    }
   ],
   "source": [
    "list(filter(div_three,[32,89,54]))"
   ]
  },
  {
   "cell_type": "markdown",
   "id": "82b1e101",
   "metadata": {},
   "source": [
    "###### Lambda Expressions\n",
    "\n",
    "* tool to create 'anonymous' functions"
   ]
  },
  {
   "cell_type": "code",
   "execution_count": 11,
   "id": "802e64e3",
   "metadata": {},
   "outputs": [],
   "source": [
    "def square(num):\n",
    "    result = num**2\n",
    "    return result"
   ]
  },
  {
   "cell_type": "code",
   "execution_count": 12,
   "id": "0283ce83",
   "metadata": {},
   "outputs": [],
   "source": [
    "def square(num):\n",
    "    return num**2"
   ]
  },
  {
   "cell_type": "code",
   "execution_count": 14,
   "id": "0a57f43a",
   "metadata": {},
   "outputs": [],
   "source": [
    "def square2(num): return num**2"
   ]
  },
  {
   "cell_type": "code",
   "execution_count": 15,
   "id": "1655e1a2",
   "metadata": {},
   "outputs": [
    {
     "data": {
      "text/plain": [
       "81"
      ]
     },
     "execution_count": 15,
     "metadata": {},
     "output_type": "execute_result"
    }
   ],
   "source": [
    "square2(9)"
   ]
  },
  {
   "cell_type": "code",
   "execution_count": 16,
   "id": "e01bb236",
   "metadata": {},
   "outputs": [
    {
     "data": {
      "text/plain": [
       "<function __main__.<lambda>(num)>"
      ]
     },
     "execution_count": 16,
     "metadata": {},
     "output_type": "execute_result"
    }
   ],
   "source": [
    "lambda num : num**2"
   ]
  },
  {
   "cell_type": "code",
   "execution_count": 17,
   "id": "5b31ecec",
   "metadata": {},
   "outputs": [],
   "source": [
    "sq = lambda num : num**2"
   ]
  },
  {
   "cell_type": "code",
   "execution_count": 18,
   "id": "e492870f",
   "metadata": {},
   "outputs": [
    {
     "data": {
      "text/plain": [
       "25"
      ]
     },
     "execution_count": 18,
     "metadata": {},
     "output_type": "execute_result"
    }
   ],
   "source": [
    "sq(5)"
   ]
  },
  {
   "cell_type": "code",
   "execution_count": 24,
   "id": "94cc3ad7",
   "metadata": {},
   "outputs": [
    {
     "data": {
      "text/plain": [
       "[6561, 65536, 390625, 1679616, 5764801, 16777216]"
      ]
     },
     "execution_count": 24,
     "metadata": {},
     "output_type": "execute_result"
    }
   ],
   "source": [
    "lst5 = [3,4,5,6,7,8]\n",
    "\n",
    "list(map(lambda n : n **8, lst5))"
   ]
  },
  {
   "cell_type": "code",
   "execution_count": 25,
   "id": "7e9da127",
   "metadata": {},
   "outputs": [
    {
     "data": {
      "text/plain": [
       "[6561, 65536, 390625, 1679616, 5764801, 16777216]"
      ]
     },
     "execution_count": 25,
     "metadata": {},
     "output_type": "execute_result"
    }
   ],
   "source": [
    "list(map(lambda num : num**8,[3,4,5,6,7,8]))"
   ]
  },
  {
   "cell_type": "code",
   "execution_count": 26,
   "id": "5295aa0a",
   "metadata": {},
   "outputs": [
    {
     "data": {
      "text/plain": [
       "[3, 6]"
      ]
     },
     "execution_count": 26,
     "metadata": {},
     "output_type": "execute_result"
    }
   ],
   "source": [
    "list(filter(lambda num : num%3 == 0 ,[3,4,5,6,7,8]))"
   ]
  },
  {
   "cell_type": "markdown",
   "id": "661ef0b0",
   "metadata": {},
   "source": [
    "s = ['Shreyas','IITr', 'RBPL']\n",
    "\n",
    "1. grab the first character of this string\n",
    "2. reverse every word in this list\n",
    "3. make a list whose elements are cube of even numbers in a given list\n",
    "4. Take a list of numbers and return a list of all the palindromic numbers"
   ]
  },
  {
   "cell_type": "code",
   "execution_count": 27,
   "id": "0c494319",
   "metadata": {},
   "outputs": [
    {
     "data": {
      "text/plain": [
       "['S', 'I', 'R']"
      ]
     },
     "execution_count": 27,
     "metadata": {},
     "output_type": "execute_result"
    }
   ],
   "source": [
    "s = ['Shreyas','IITr', 'RBPL']\n",
    "\n",
    "#1\n",
    "\n",
    "list(map(lambda st : st[0],s))"
   ]
  },
  {
   "cell_type": "code",
   "execution_count": 29,
   "id": "0c572442",
   "metadata": {},
   "outputs": [
    {
     "data": {
      "text/plain": [
       "['sayerhS', 'rTII', 'LPBR']"
      ]
     },
     "execution_count": 29,
     "metadata": {},
     "output_type": "execute_result"
    }
   ],
   "source": [
    "#2\n",
    "list(map(lambda st : st[::-1],s))"
   ]
  },
  {
   "cell_type": "code",
   "execution_count": 31,
   "id": "aa767e1d",
   "metadata": {},
   "outputs": [
    {
     "data": {
      "text/plain": [
       "[8, 64, 216, 512]"
      ]
     },
     "execution_count": 31,
     "metadata": {},
     "output_type": "execute_result"
    }
   ],
   "source": [
    "#3\n",
    "l = [1,2,3,4,5,6,7,8]\n",
    "l_even = filter(lambda x : x%2 == 0, l)\n",
    "list(map(lambda x : x**3, l_even))\n",
    "\n",
    "#list(map(lambda x : x**3, filter(lambda x : x%2 == 0, l)))"
   ]
  },
  {
   "cell_type": "code",
   "execution_count": 36,
   "id": "458fd503",
   "metadata": {},
   "outputs": [
    {
     "data": {
      "text/plain": [
       "[454, 767]"
      ]
     },
     "execution_count": 36,
     "metadata": {},
     "output_type": "execute_result"
    }
   ],
   "source": [
    "#4 [123,454,980,767] -->> [454,767]\n",
    "\n",
    "n1 = [123,454,980,767]\n",
    "\n",
    "\n",
    "list(filter(lambda x : str(x) == str(x)[::-1], n1))"
   ]
  },
  {
   "cell_type": "markdown",
   "id": "fd9d95ec",
   "metadata": {},
   "source": [
    "5. with a list of words, capitalize only the words with an even number of characters\n",
    "6. use same list and output words that starts with a vowel (use 'in')"
   ]
  },
  {
   "cell_type": "code",
   "execution_count": 56,
   "id": "cf495564",
   "metadata": {},
   "outputs": [
    {
     "data": {
      "text/plain": [
       "['hello', 'wow', 'BEAR', 'ELEPHANT', 'apple', 'ARTIFICIAL INTELLIEGENCE']"
      ]
     },
     "execution_count": 56,
     "metadata": {},
     "output_type": "execute_result"
    }
   ],
   "source": [
    "#5\n",
    "ls=['hello','wow','bear','elephant','apple','artificial intelliegence']\n",
    "\n",
    "list(map(lambda w : w.upper() if len(w)%2 == 0 else w, ls))"
   ]
  },
  {
   "cell_type": "code",
   "execution_count": 45,
   "id": "1aec7bae",
   "metadata": {},
   "outputs": [
    {
     "data": {
      "text/plain": [
       "['elephant', 'apple', 'artificial intelliegence']"
      ]
     },
     "execution_count": 45,
     "metadata": {},
     "output_type": "execute_result"
    }
   ],
   "source": [
    "#6\n",
    "list(filter(lambda w : w[0].lower() in 'aeiou', ls))"
   ]
  },
  {
   "cell_type": "code",
   "execution_count": 50,
   "id": "3e65a1e8",
   "metadata": {},
   "outputs": [],
   "source": [
    "def check_num_palindrome(l7):\n",
    "    return list(filter(lambda x : str(x) == str(x)[::-1], l7))"
   ]
  },
  {
   "cell_type": "code",
   "execution_count": 51,
   "id": "6c020517",
   "metadata": {},
   "outputs": [
    {
     "data": {
      "text/plain": [
       "[121, 787, 909]"
      ]
     },
     "execution_count": 51,
     "metadata": {},
     "output_type": "execute_result"
    }
   ],
   "source": [
    "check_num_palindrome([123,121,787,900,909])"
   ]
  },
  {
   "cell_type": "code",
   "execution_count": null,
   "id": "3eda9dd5",
   "metadata": {},
   "outputs": [],
   "source": []
  }
 ],
 "metadata": {
  "kernelspec": {
   "display_name": "Python 3 (ipykernel)",
   "language": "python",
   "name": "python3"
  },
  "language_info": {
   "codemirror_mode": {
    "name": "ipython",
    "version": 3
   },
   "file_extension": ".py",
   "mimetype": "text/x-python",
   "name": "python",
   "nbconvert_exporter": "python",
   "pygments_lexer": "ipython3",
   "version": "3.11.5"
  }
 },
 "nbformat": 4,
 "nbformat_minor": 5
}
