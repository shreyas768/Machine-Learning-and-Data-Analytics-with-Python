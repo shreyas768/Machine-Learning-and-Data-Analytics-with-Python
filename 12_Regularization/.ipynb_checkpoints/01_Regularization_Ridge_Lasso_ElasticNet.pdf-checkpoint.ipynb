{
 "cells": [
  {
   "cell_type": "code",
   "execution_count": 88,
   "id": "ff512a2f",
   "metadata": {},
   "outputs": [],
   "source": [
    "import numpy as np\n",
    "import pandas as pd\n",
    "import matplotlib.pyplot as plt\n",
    "import seaborn as sns"
   ]
  },
  {
   "cell_type": "code",
   "execution_count": 89,
   "id": "7f973ce3",
   "metadata": {},
   "outputs": [
    {
     "data": {
      "text/html": [
       "<div>\n",
       "<style scoped>\n",
       "    .dataframe tbody tr th:only-of-type {\n",
       "        vertical-align: middle;\n",
       "    }\n",
       "\n",
       "    .dataframe tbody tr th {\n",
       "        vertical-align: top;\n",
       "    }\n",
       "\n",
       "    .dataframe thead th {\n",
       "        text-align: right;\n",
       "    }\n",
       "</style>\n",
       "<table border=\"1\" class=\"dataframe\">\n",
       "  <thead>\n",
       "    <tr style=\"text-align: right;\">\n",
       "      <th></th>\n",
       "      <th>TV</th>\n",
       "      <th>radio</th>\n",
       "      <th>newspaper</th>\n",
       "      <th>sales</th>\n",
       "    </tr>\n",
       "  </thead>\n",
       "  <tbody>\n",
       "    <tr>\n",
       "      <th>0</th>\n",
       "      <td>230.1</td>\n",
       "      <td>37.8</td>\n",
       "      <td>69.2</td>\n",
       "      <td>22.1</td>\n",
       "    </tr>\n",
       "    <tr>\n",
       "      <th>1</th>\n",
       "      <td>44.5</td>\n",
       "      <td>39.3</td>\n",
       "      <td>45.1</td>\n",
       "      <td>10.4</td>\n",
       "    </tr>\n",
       "    <tr>\n",
       "      <th>2</th>\n",
       "      <td>17.2</td>\n",
       "      <td>45.9</td>\n",
       "      <td>69.3</td>\n",
       "      <td>9.3</td>\n",
       "    </tr>\n",
       "    <tr>\n",
       "      <th>3</th>\n",
       "      <td>151.5</td>\n",
       "      <td>41.3</td>\n",
       "      <td>58.5</td>\n",
       "      <td>18.5</td>\n",
       "    </tr>\n",
       "    <tr>\n",
       "      <th>4</th>\n",
       "      <td>180.8</td>\n",
       "      <td>10.8</td>\n",
       "      <td>58.4</td>\n",
       "      <td>12.9</td>\n",
       "    </tr>\n",
       "  </tbody>\n",
       "</table>\n",
       "</div>"
      ],
      "text/plain": [
       "      TV  radio  newspaper  sales\n",
       "0  230.1   37.8       69.2   22.1\n",
       "1   44.5   39.3       45.1   10.4\n",
       "2   17.2   45.9       69.3    9.3\n",
       "3  151.5   41.3       58.5   18.5\n",
       "4  180.8   10.8       58.4   12.9"
      ]
     },
     "execution_count": 89,
     "metadata": {},
     "output_type": "execute_result"
    }
   ],
   "source": [
    "df = pd.read_csv('Advertising.csv')\n",
    "df.head()"
   ]
  },
  {
   "cell_type": "code",
   "execution_count": 90,
   "id": "55316ee1",
   "metadata": {},
   "outputs": [],
   "source": [
    "X = df.drop('sales',axis =1)\n",
    "y = df['sales']"
   ]
  },
  {
   "cell_type": "markdown",
   "id": "9d7164a1",
   "metadata": {},
   "source": [
    "###### Polynomial Conversion"
   ]
  },
  {
   "cell_type": "code",
   "execution_count": 91,
   "id": "b40ed0a2",
   "metadata": {},
   "outputs": [
    {
     "data": {
      "text/plain": [
       "(200, 3)"
      ]
     },
     "execution_count": 91,
     "metadata": {},
     "output_type": "execute_result"
    }
   ],
   "source": [
    "from sklearn.preprocessing import PolynomialFeatures\n",
    "\n",
    "p_conv = PolynomialFeatures(degree=3,include_bias=False)\n",
    "p_features = p_conv.fit_transform(X)\n",
    "\n",
    "X.shape"
   ]
  },
  {
   "cell_type": "code",
   "execution_count": 92,
   "id": "99eb80ef",
   "metadata": {},
   "outputs": [
    {
     "data": {
      "text/plain": [
       "(200, 19)"
      ]
     },
     "execution_count": 92,
     "metadata": {},
     "output_type": "execute_result"
    }
   ],
   "source": [
    "p_features.shape"
   ]
  },
  {
   "cell_type": "markdown",
   "id": "80adffb1",
   "metadata": {},
   "source": [
    "##### Train Test Split"
   ]
  },
  {
   "cell_type": "code",
   "execution_count": 93,
   "id": "f4175782",
   "metadata": {},
   "outputs": [],
   "source": [
    "from sklearn.model_selection import train_test_split\n",
    "\n",
    "X_train, X_test, y_train, y_test = train_test_split(p_features, y, test_size=0.25, random_state=50)"
   ]
  },
  {
   "cell_type": "code",
   "execution_count": 94,
   "id": "f183919e",
   "metadata": {},
   "outputs": [],
   "source": [
    "from sklearn.preprocessing import StandardScaler"
   ]
  },
  {
   "cell_type": "code",
   "execution_count": 95,
   "id": "48798720",
   "metadata": {},
   "outputs": [],
   "source": [
    "#help(StandardScaler)"
   ]
  },
  {
   "cell_type": "code",
   "execution_count": 96,
   "id": "2c293427",
   "metadata": {},
   "outputs": [],
   "source": [
    "sc = StandardScaler()"
   ]
  },
  {
   "cell_type": "code",
   "execution_count": 97,
   "id": "ba5abf6c",
   "metadata": {},
   "outputs": [
    {
     "data": {
      "text/html": [
       "<style>#sk-container-id-13 {color: black;background-color: white;}#sk-container-id-13 pre{padding: 0;}#sk-container-id-13 div.sk-toggleable {background-color: white;}#sk-container-id-13 label.sk-toggleable__label {cursor: pointer;display: block;width: 100%;margin-bottom: 0;padding: 0.3em;box-sizing: border-box;text-align: center;}#sk-container-id-13 label.sk-toggleable__label-arrow:before {content: \"▸\";float: left;margin-right: 0.25em;color: #696969;}#sk-container-id-13 label.sk-toggleable__label-arrow:hover:before {color: black;}#sk-container-id-13 div.sk-estimator:hover label.sk-toggleable__label-arrow:before {color: black;}#sk-container-id-13 div.sk-toggleable__content {max-height: 0;max-width: 0;overflow: hidden;text-align: left;background-color: #f0f8ff;}#sk-container-id-13 div.sk-toggleable__content pre {margin: 0.2em;color: black;border-radius: 0.25em;background-color: #f0f8ff;}#sk-container-id-13 input.sk-toggleable__control:checked~div.sk-toggleable__content {max-height: 200px;max-width: 100%;overflow: auto;}#sk-container-id-13 input.sk-toggleable__control:checked~label.sk-toggleable__label-arrow:before {content: \"▾\";}#sk-container-id-13 div.sk-estimator input.sk-toggleable__control:checked~label.sk-toggleable__label {background-color: #d4ebff;}#sk-container-id-13 div.sk-label input.sk-toggleable__control:checked~label.sk-toggleable__label {background-color: #d4ebff;}#sk-container-id-13 input.sk-hidden--visually {border: 0;clip: rect(1px 1px 1px 1px);clip: rect(1px, 1px, 1px, 1px);height: 1px;margin: -1px;overflow: hidden;padding: 0;position: absolute;width: 1px;}#sk-container-id-13 div.sk-estimator {font-family: monospace;background-color: #f0f8ff;border: 1px dotted black;border-radius: 0.25em;box-sizing: border-box;margin-bottom: 0.5em;}#sk-container-id-13 div.sk-estimator:hover {background-color: #d4ebff;}#sk-container-id-13 div.sk-parallel-item::after {content: \"\";width: 100%;border-bottom: 1px solid gray;flex-grow: 1;}#sk-container-id-13 div.sk-label:hover label.sk-toggleable__label {background-color: #d4ebff;}#sk-container-id-13 div.sk-serial::before {content: \"\";position: absolute;border-left: 1px solid gray;box-sizing: border-box;top: 0;bottom: 0;left: 50%;z-index: 0;}#sk-container-id-13 div.sk-serial {display: flex;flex-direction: column;align-items: center;background-color: white;padding-right: 0.2em;padding-left: 0.2em;position: relative;}#sk-container-id-13 div.sk-item {position: relative;z-index: 1;}#sk-container-id-13 div.sk-parallel {display: flex;align-items: stretch;justify-content: center;background-color: white;position: relative;}#sk-container-id-13 div.sk-item::before, #sk-container-id-13 div.sk-parallel-item::before {content: \"\";position: absolute;border-left: 1px solid gray;box-sizing: border-box;top: 0;bottom: 0;left: 50%;z-index: -1;}#sk-container-id-13 div.sk-parallel-item {display: flex;flex-direction: column;z-index: 1;position: relative;background-color: white;}#sk-container-id-13 div.sk-parallel-item:first-child::after {align-self: flex-end;width: 50%;}#sk-container-id-13 div.sk-parallel-item:last-child::after {align-self: flex-start;width: 50%;}#sk-container-id-13 div.sk-parallel-item:only-child::after {width: 0;}#sk-container-id-13 div.sk-dashed-wrapped {border: 1px dashed gray;margin: 0 0.4em 0.5em 0.4em;box-sizing: border-box;padding-bottom: 0.4em;background-color: white;}#sk-container-id-13 div.sk-label label {font-family: monospace;font-weight: bold;display: inline-block;line-height: 1.2em;}#sk-container-id-13 div.sk-label-container {text-align: center;}#sk-container-id-13 div.sk-container {/* jupyter's `normalize.less` sets `[hidden] { display: none; }` but bootstrap.min.css set `[hidden] { display: none !important; }` so we also need the `!important` here to be able to override the default hidden behavior on the sphinx rendered scikit-learn.org. See: https://github.com/scikit-learn/scikit-learn/issues/21755 */display: inline-block !important;position: relative;}#sk-container-id-13 div.sk-text-repr-fallback {display: none;}</style><div id=\"sk-container-id-13\" class=\"sk-top-container\"><div class=\"sk-text-repr-fallback\"><pre>StandardScaler()</pre><b>In a Jupyter environment, please rerun this cell to show the HTML representation or trust the notebook. <br />On GitHub, the HTML representation is unable to render, please try loading this page with nbviewer.org.</b></div><div class=\"sk-container\" hidden><div class=\"sk-item\"><div class=\"sk-estimator sk-toggleable\"><input class=\"sk-toggleable__control sk-hidden--visually\" id=\"sk-estimator-id-13\" type=\"checkbox\" checked><label for=\"sk-estimator-id-13\" class=\"sk-toggleable__label sk-toggleable__label-arrow\">StandardScaler</label><div class=\"sk-toggleable__content\"><pre>StandardScaler()</pre></div></div></div></div></div>"
      ],
      "text/plain": [
       "StandardScaler()"
      ]
     },
     "execution_count": 97,
     "metadata": {},
     "output_type": "execute_result"
    }
   ],
   "source": [
    "sc.fit(X_train)"
   ]
  },
  {
   "cell_type": "code",
   "execution_count": 98,
   "id": "76f6f928",
   "metadata": {},
   "outputs": [],
   "source": [
    "sc_X_train = sc.transform(X_train)\n",
    "sc_X_test = sc.transform(X_test)"
   ]
  },
  {
   "cell_type": "code",
   "execution_count": 99,
   "id": "8b38560d",
   "metadata": {},
   "outputs": [
    {
     "data": {
      "text/plain": [
       "array([[4.45000000e+01, 3.93000000e+01, 4.51000000e+01, ...,\n",
       "        6.96564990e+04, 7.99365930e+04, 9.17338510e+04],\n",
       "       [1.39200000e+02, 1.43000000e+01, 2.56000000e+01, ...,\n",
       "        5.23494400e+03, 9.37164800e+03, 1.67772160e+04],\n",
       "       [2.22400000e+02, 4.30000000e+00, 4.98000000e+01, ...,\n",
       "        9.20802000e+02, 1.06641720e+04, 1.23505992e+05],\n",
       "       ...,\n",
       "       [2.55400000e+02, 2.69000000e+01, 5.50000000e+00, ...,\n",
       "        3.97985500e+03, 8.13725000e+02, 1.66375000e+02],\n",
       "       [1.84900000e+02, 4.39000000e+01, 1.70000000e+00, ...,\n",
       "        3.27625700e+03, 1.26871000e+02, 4.91300000e+00],\n",
       "       [2.48400000e+02, 3.02000000e+01, 2.03000000e+01, ...,\n",
       "        1.85144120e+04, 1.24451180e+04, 8.36542700e+03]])"
      ]
     },
     "execution_count": 99,
     "metadata": {},
     "output_type": "execute_result"
    }
   ],
   "source": [
    "X_train"
   ]
  },
  {
   "cell_type": "code",
   "execution_count": 100,
   "id": "6ac7f6b5",
   "metadata": {},
   "outputs": [
    {
     "data": {
      "text/plain": [
       "array([[-1.19484034,  1.00792193,  0.66906688, ...,  0.9323715 ,\n",
       "         0.48289568,  0.05982985],\n",
       "       [-0.11359714, -0.67598934, -0.21662312, ..., -0.61062951,\n",
       "        -0.47857598, -0.3772432 ],\n",
       "       [ 0.83634409, -1.34955384,  0.88254087, ..., -0.71396023,\n",
       "        -0.4609649 ,  0.24509359],\n",
       "       ...,\n",
       "       [ 1.21312366,  0.17270194, -1.12956511, ..., -0.64069093,\n",
       "        -0.59518063, -0.47410121],\n",
       "       [ 0.40818548,  1.3177616 , -1.30216111, ..., -0.65754325,\n",
       "        -0.60453925, -0.4750427 ],\n",
       "       [ 1.13320072,  0.39497823, -0.45734912, ..., -0.29256465,\n",
       "        -0.43669889, -0.42629244]])"
      ]
     },
     "execution_count": 100,
     "metadata": {},
     "output_type": "execute_result"
    }
   ],
   "source": [
    "sc_X_train"
   ]
  },
  {
   "cell_type": "code",
   "execution_count": 101,
   "id": "e6b754bc",
   "metadata": {},
   "outputs": [
    {
     "data": {
      "text/plain": [
       "array([[ 0.3031439 , -0.60189724, -1.27036711,  0.03666633, -0.30074975,\n",
       "        -0.8512036 , -0.76717223, -0.8551946 , -0.74523578, -0.17106542,\n",
       "        -0.32716707, -0.6688463 , -0.54798408, -0.66472024, -0.59079299,\n",
       "        -0.76250784, -0.72238205, -0.60505929, -0.47499074],\n",
       "       [ 0.9744966 , -1.41017465,  2.47224086,  0.96374595, -0.84848556,\n",
       "         3.08186019, -1.0679111 , -0.59316853,  3.07609525,  0.85896877,\n",
       "        -0.64605687,  2.86124184, -0.79934277, -0.34699618,  3.94525224,\n",
       "        -0.86488957, -0.71253544, -0.27313457,  3.08068095],\n",
       "       [-1.43118389,  0.72502483,  1.61380287, -1.12811586, -0.83755656,\n",
       "        -0.61948247,  0.55902485,  1.51751942,  1.5613276 , -0.91698463,\n",
       "        -0.83078119, -0.69712402, -0.62764818, -0.41228806, -0.31532064,\n",
       "         0.35940453,  1.20860465,  1.47067915,  1.19371288],\n",
       "       [-0.22548925, -1.25525481,  0.04227088, -0.50629293, -0.86562527,\n",
       "        -0.11798648, -1.04001011, -0.70774239, -0.22727281, -0.62012611,\n",
       "        -0.74724326, -0.322683  , -0.78970742, -0.57846298, -0.2523032 ,\n",
       "        -0.86075546, -0.71165764, -0.53018081, -0.29626746],\n",
       "       [-0.60455234, -0.64231111,  0.38746288, -0.79417938, -0.66869087,\n",
       "        -0.18023196, -0.79132732, -0.29357316,  0.05646791, -0.79610426,\n",
       "        -0.70133674, -0.44891519, -0.6808785 , -0.41055837, -0.20170485,\n",
       "        -0.77413953, -0.53193136, -0.3011214 , -0.13183541],\n",
       "       [ 0.79067384,  0.2265871 ,  1.04605287,  0.68347877,  0.65895315,\n",
       "         1.42023494, -0.06047588,  0.64822375,  0.76823953,  0.51735766,\n",
       "         0.60797518,  1.23348477,  0.26437009,  0.98094539,  1.08273269,\n",
       "        -0.26372309,  0.2453619 ,  0.46997367,  0.41283613],\n",
       "       [ 0.94709445, -1.05992111, -0.98422111,  0.9207032 , -0.50444015,\n",
       "        -0.52837945, -0.98472801, -0.81572807, -0.70804507,  0.80494024,\n",
       "        -0.34056662, -0.3653186 , -0.70607704, -0.60820177, -0.54623261,\n",
       "        -0.84797919, -0.72060321, -0.59739871, -0.47123161],\n",
       "       [-1.60473084, -1.49773803, -1.33395511, -1.14704508, -1.07212828,\n",
       "        -0.93467445, -1.0774425 , -0.89153383, -0.74776728, -0.91875555,\n",
       "        -0.85259051, -0.72578146, -0.81658831, -0.69838543, -0.59349378,\n",
       "        -0.86574091, -0.7359093 , -0.6062393 , -0.47506551],\n",
       "       [ 0.90028244,  0.9001516 ,  0.07406488,  0.84819616,  1.38963494,\n",
       "         0.53788652,  0.8113469 ,  0.36386876, -0.20370753,  0.71519357,\n",
       "         1.31393465,  0.55377632,  1.27396779,  0.731445  ,  0.03488621,\n",
       "         0.65238677,  0.35333569, -0.08026422, -0.28400074],\n",
       "       [-0.69475109,  0.07840291,  1.95445287, -0.85020253, -0.43108555,\n",
       "         0.37324437, -0.2164975 ,  1.05739973,  2.1169546 , -0.82392724,\n",
       "        -0.63295159, -0.28561102, -0.4463774 ,  0.16070001,  0.68691462,\n",
       "        -0.39613102,  0.40715667,  1.26561975,  1.83078433],\n",
       "       [ 1.03500968, -1.36302513,  0.29662288,  1.06036728, -0.7951378 ,\n",
       "         0.85162361, -1.06091252, -0.73601319, -0.02415717,  0.98225618,\n",
       "        -0.59210527,  0.90640257, -0.79082471, -0.50987732,  0.28531425,\n",
       "        -0.8640503 , -0.721158  , -0.53020305, -0.18210142],\n",
       "       [ 0.31798674, -1.01277159, -1.08868711,  0.05428986, -0.60487905,\n",
       "        -0.70750797, -0.96802474, -0.83167731, -0.72651544, -0.15434394,\n",
       "        -0.53064304, -0.57160225, -0.71806091, -0.6437118 , -0.57400336,\n",
       "        -0.84320999, -0.72275684, -0.60107763, -0.47354278],\n",
       "       [ 0.77240574,  1.3177616 , -0.14395112,  0.65671465,  1.65422697,\n",
       "         0.25518327,  1.48576981,  0.35102598, -0.35483169,  0.48602349,\n",
       "         1.42847363,  0.25759968,  1.87894066,  0.64731776, -0.16179846,\n",
       "         1.53146497,  0.519532  , -0.16373068, -0.35773011],\n",
       "       [ 0.2666077 , -0.42003483,  0.01501888, -0.00616117, -0.18122241,\n",
       "         0.13369709, -0.64659674, -0.31447395, -0.24705681, -0.21118333,\n",
       "        -0.25731416, -0.02312839, -0.45221228, -0.20017698, -0.15592491,\n",
       "        -0.69797016, -0.49511841, -0.37383222, -0.30635426],\n",
       "       [ 1.29875538, -1.403439  , -0.49368512,  1.50670636, -0.81322748,\n",
       "         0.09950694, -1.06699129, -0.82257686, -0.54607162,  1.58627974,\n",
       "        -0.58531609,  0.3109147 , -0.79605414, -0.60520112, -0.32444813,\n",
       "        -0.86478838, -0.73029349, -0.58813428, -0.43183512],\n",
       "       [-0.15926739,  1.16957741,  0.70540288, -0.44730517,  0.54075463,\n",
       "         0.31756615,  1.2347275 ,  1.10152594,  0.37216084, -0.57813129,\n",
       "        -0.01005532, -0.08044334,  0.70002144,  0.64679952,  0.17314802,\n",
       "         1.18878683,  1.17568534,  0.59077277,  0.08880256],\n",
       "       [-0.32139678, -1.0733924 ,  0.83257887, -0.58713877, -0.78560363,\n",
       "         0.25432245, -0.98926042, -0.46728427,  0.51303136, -0.67460514,\n",
       "        -0.71679409, -0.17736032, -0.76174729, -0.4411552 ,  0.1788912 ,\n",
       "        -0.84920768, -0.65371063, -0.33482113,  0.19841815],\n",
       "       [ 0.90370771, -0.50086257, -0.18937112,  0.85345774,  0.03001612,\n",
       "         0.27225814, -0.70258536, -0.43215427, -0.38323129,  0.7216522 ,\n",
       "         0.12107336,  0.32460504, -0.39613115, -0.17296956, -0.17171163,\n",
       "        -0.72922434, -0.55678534, -0.44820253, -0.37020218],\n",
       "       [-1.21196668,  0.10534549, -0.44826512, -1.07881872, -0.75767842,\n",
       "        -0.75828802, -0.18908974, -0.34024291, -0.52479851, -0.90788192,\n",
       "        -0.79981737, -0.69668086, -0.63072584, -0.57979073, -0.54487848,\n",
       "        -0.37367072, -0.40664163, -0.45796319, -0.42483645],\n",
       "       [-0.19922886, -0.39982789,  0.19215688, -0.48321065, -0.38182755,\n",
       "        -0.0156181 , -0.63199971, -0.23006812, -0.11161624, -0.60391281,\n",
       "        -0.4999233 , -0.26419436, -0.52914846, -0.26259969, -0.16915002,\n",
       "        -0.68947567, -0.45544136, -0.30613232, -0.2335407 ],\n",
       "       [-0.44927348,  1.58045175,  0.95521287, -0.68649563,  0.42899641,\n",
       "         0.2040112 ,  1.9625129 ,  1.66745263,  0.65676844, -0.73634263,\n",
       "        -0.2156445 , -0.24915791,  0.80181808,  0.70394758,  0.18726926,\n",
       "         2.22887089,  2.07688264,  1.11441806,  0.31676111],\n",
       "       [-0.8431794 , -0.27185063,  0.09677488, -0.93194932, -0.63860455,\n",
       "        -0.44189777, -0.53397963, -0.20597748, -0.18655608, -0.85998026,\n",
       "        -0.72550774, -0.58408516, -0.61662467, -0.44021687, -0.37944228,\n",
       "        -0.62894926, -0.4152326 , -0.31411498, -0.27490363],\n",
       "       [-0.99160772, -0.7904953 , -0.54818912, -1.00070457, -0.85202142,\n",
       "        -0.70603488, -0.87168432, -0.65335864, -0.57019532, -0.88550663,\n",
       "        -0.79869504, -0.67120137, -0.75301779, -0.62380065, -0.53736124,\n",
       "        -0.80931797, -0.66642808, -0.54877422, -0.43933606],\n",
       "       [ 0.83634409, -1.41017465, -0.78437311,  0.75125004, -0.86029279,\n",
       "        -0.347695  , -1.0679111 , -0.84729296, -0.65703215,  0.5977239 ,\n",
       "        -0.66683817, -0.22741269, -0.80024525, -0.64698351, -0.4907908 ,\n",
       "        -0.86488957, -0.73238779, -0.59831788, -0.4619627 ],\n",
       "       [ 1.42206506,  0.30741484,  1.33219887,  1.72945675,  1.19284691,\n",
       "         2.36538049,  0.03006571,  0.90481875,  1.14718272,  1.90786956,\n",
       "         1.54074394,  2.71435986,  0.65807724,  1.75642092,  2.03207364,\n",
       "        -0.18200847,  0.45826194,  0.79717253,  0.76562909],\n",
       "       [-0.92196059,  1.35817547,  0.23757688, -0.97006028, -0.20373764,\n",
       "        -0.44436503,  1.55647543,  0.75770011, -0.07428194, -0.87472424,\n",
       "        -0.6225866 , -0.59771694,  0.0570861 , -0.13516215, -0.36019281,\n",
       "         1.63111629,  0.95250047,  0.16216771, -0.21198765],\n",
       "       [-0.6707742 , -1.61897964, -0.32563112, -0.83577846, -1.06952805,\n",
       "        -0.51261601, -1.08320133, -0.88646761, -0.46204816, -0.81699287,\n",
       "        -0.85005175, -0.57999576, -0.81678051, -0.69520844, -0.46255413,\n",
       "        -0.86600257, -0.73596492, -0.6040678 , -0.40225852],\n",
       "       [-0.61026112, -1.54488755, -1.04326711, -0.79786737, -1.03885912,\n",
       "        -0.7933107 , -1.0807085 , -0.88292333, -0.71917622, -0.79800814,\n",
       "        -0.8385867 , -0.67370507, -0.81562279, -0.69332515, -0.57941174,\n",
       "        -0.86592558, -0.73566754, -0.60522334, -0.47270848],\n",
       "       [ 0.40818548, -0.22470112, -0.38013512,  0.16418025,  0.03708496,\n",
       "        -0.1144341 , -0.4954408 , -0.41211869, -0.49089449, -0.04734196,\n",
       "        -0.05901864, -0.14726818, -0.29073021, -0.25439466, -0.35264521,\n",
       "        -0.60357109, -0.50363625, -0.46777991, -0.41298273],\n",
       "       [ 0.65823011, -1.28893304, -0.49822712,  0.49389755, -0.76868205,\n",
       "        -0.12572575, -1.0472753 , -0.78856226, -0.54814043,  0.30045205,\n",
       "        -0.60690016, -0.08763022, -0.78075419, -0.59002609, -0.38402971,\n",
       "        -0.86201888, -0.72345048, -0.57960213, -0.43249689],\n",
       "       [-0.2974199 ,  0.69134661, -0.81616711, -0.56743582,  0.14510068,\n",
       "        -0.62796534,  0.51256763, -0.4464773 , -0.66652528, -0.66166664,\n",
       "        -0.27309424, -0.58129527,  0.13400243, -0.42391587, -0.54257153,\n",
       "         0.30777911, -0.38045821, -0.53377977, -0.4639538 ],\n",
       "       [ 0.00742903, -1.55162319, -0.27566912, -0.28737082, -1.02142093,\n",
       "        -0.20085113, -1.08106843, -0.86079247, -0.43426016, -0.45540407,\n",
       "        -0.82051042, -0.30637943, -0.8151996 , -0.67387857, -0.3554342 ,\n",
       "        -0.86594108, -0.73503131, -0.59580859, -0.39140269],\n",
       "       [-1.50996507,  1.30429031,  2.68117286, -1.13890999, -0.86535262,\n",
       "        -0.63111359,  1.46241455,  3.17883518,  3.50225943, -0.91817778,\n",
       "        -0.83896341, -0.70619705, -0.60860234, -0.35524355, -0.22996598,\n",
       "         1.49884681,  3.35315727,  4.15260336,  3.69128583],\n",
       "       [ 0.55318853, -0.06978128, -0.73441111,  0.35089525,  0.2440644 ,\n",
       "        -0.36942151, -0.35961508, -0.54882342, -0.64106137,  0.1448542 ,\n",
       "         0.15305001, -0.29933568, -0.1246931 , -0.35860521, -0.48627437,\n",
       "        -0.50755458, -0.55137093, -0.54225315, -0.45837548],\n",
       "       [-0.83062008, -1.58530142, -0.70715912, -0.92553542, -1.05977002,\n",
       "        -0.70792827, -1.08246814, -0.88138053, -0.63180756, -0.85736274,\n",
       "        -0.84759968, -0.65938637, -0.81651753, -0.69377678, -0.54847466,\n",
       "        -0.86598883, -0.73578806, -0.60388031, -0.45616842],\n",
       "       [-1.19255682,  0.09860984, -0.44372312, -1.07308822, -0.74632466,\n",
       "        -0.75034265, -0.19598167, -0.33969042, -0.5226127 , -0.90652978,\n",
       "        -0.79576918, -0.6941761 , -0.62485917, -0.57497523, -0.54246108,\n",
       "        -0.37935143, -0.40758582, -0.45709099, -0.42409771],\n",
       "       [-0.53033818,  0.35456436, -0.99784711, -0.74448673, -0.20485121,\n",
       "        -0.76209097,  0.08465461, -0.63453229, -0.71077334, -0.76950582,\n",
       "        -0.50760282, -0.65768618, -0.23627052, -0.56573121, -0.57401253,\n",
       "        -0.13109285, -0.55973709, -0.57781034, -0.47161528],\n",
       "       [ 1.29647187,  0.3006792 , -0.65719712,  1.50266592,  1.09406975,\n",
       "        -0.09238226,  0.02237394, -0.41637182, -0.61384774,  1.58056681,\n",
       "         1.34459034,  0.11822843,  0.58902079, -0.07311001, -0.41476207,\n",
       "        -0.18908422, -0.42013858, -0.50706276, -0.45163255],\n",
       "       [-0.7073104 , -0.84438046, -0.20299712, -0.8576227 , -0.7819989 ,\n",
       "        -0.48004242, -0.8977057 , -0.57513444, -0.39154376, -0.82743049,\n",
       "        -0.75356441, -0.57434546, -0.73849444, -0.55993614, -0.43607531,\n",
       "        -0.81944416, -0.6496378 , -0.49841571, -0.37376346],\n",
       "       [-0.83062008,  0.15923065, -0.36650912, -0.92553542, -0.49186377,\n",
       "        -0.59214247, -0.13299448, -0.27304765, -0.4838265 , -0.85736274,\n",
       "        -0.6804623 , -0.62571138, -0.46542554, -0.46199826, -0.49125673,\n",
       "        -0.3266255 , -0.35524522, -0.42535545, -0.41040795],\n",
       "       [-1.13204374, -0.85785175, -0.54364712, -1.05379655, -0.9108509 ,\n",
       "        -0.75050835, -0.90394443, -0.67122595, -0.56824352, -0.90160998,\n",
       "        -0.82070063, -0.69045351, -0.77342388, -0.6429998 , -0.54795426,\n",
       "        -0.82177167, -0.676713  , -0.55275715, -0.43874703],\n",
       "       [ 1.58076918,  1.25714079,  1.88178087,  2.02934117,  2.4719734 ,\n",
       "         3.23625742,  1.381511  ,  2.32468606,  1.99340039,  2.36077987,\n",
       "         3.07941724,  3.84253666,  2.61416844,  3.91755106,  3.39711171,\n",
       "         1.38701477,  2.44375986,  2.41413463,  1.68325581],\n",
       "       [-1.21082492,  0.15923065,  0.21486688, -1.07848778, -0.74703929,\n",
       "        -0.63071955, -0.13299448,  0.0832144 , -0.09308205, -0.90780527,\n",
       "        -0.79792785, -0.67568255, -0.61859136, -0.4884971 , -0.45059626,\n",
       "        -0.3266255 , -0.13668682, -0.15806675, -0.22291768],\n",
       "       [ 0.25290663,  1.03486451,  0.33295888, -0.02201854,  0.87447087,\n",
       "         0.36855434,  1.01770495,  0.66647676,  0.0075823 , -0.22584938,\n",
       "         0.43516803,  0.12513432,  0.92510817,  0.63435479,  0.06178826,\n",
       "         0.90708689,  0.687157  ,  0.16254504, -0.16263036],\n",
       "       [ 0.60913459, -0.13713773,  0.05589688,  0.42624966,  0.21871359,\n",
       "         0.35663022, -0.42040272, -0.15914095, -0.21723723,  0.22596402,\n",
       "         0.15821653,  0.27093559, -0.16710758,  0.04334976, -0.04926154,\n",
       "        -0.55175434, -0.35963036, -0.30286027, -0.2910767 ],\n",
       "       [-1.25192815,  1.12916354, -1.11593911, -1.08991726, -0.61137962,\n",
       "        -0.89011814,  1.16850097, -0.64522766, -0.73040842, -0.91034657,\n",
       "        -0.781866  , -0.7188772 , -0.38633034, -0.64952919, -0.58994045,\n",
       "         1.10136094, -0.50135084, -0.58742945, -0.47393364],\n",
       "       [ 0.24034731, -1.11380627,  0.21940888, -0.03645722, -0.69630037,\n",
       "         0.27419396, -1.00221779, -0.60751242, -0.0893433 , -0.23911398,\n",
       "        -0.6029574 ,  0.05853226, -0.75002264, -0.45554789, -0.02590904,\n",
       "        -0.85255579, -0.68472089, -0.47458561, -0.22075637],\n",
       "       [ 1.32501578, -1.44385287,  0.57368488,  1.55339251, -0.85658474,\n",
       "         1.36790704, -1.07211025, -0.76373149,  0.23505033,  1.65260539,\n",
       "        -0.6272697 ,  1.60051154, -0.80244288, -0.52655914,  0.72630085,\n",
       "        -0.86531222, -0.7273533 , -0.53320745, -0.01146507],\n",
       "       [-0.58970951, -1.12727756, -1.05235111, -0.78450068, -0.86464373,\n",
       "        -0.79455949, -1.00632362, -0.83668099, -0.72072916, -0.79106081,\n",
       "        -0.7728874 , -0.67318801, -0.78049786, -0.67074371, -0.57991273,\n",
       "        -0.85356392, -0.72605412, -0.60089974, -0.47289493],\n",
       "       [-1.4882717 , -0.1775516 ,  0.90979287, -1.13630284, -0.96022656,\n",
       "        -0.7449474 , -0.45559557,  0.24636566,  0.60262838, -0.91792716,\n",
       "        -0.84428288, -0.71213567, -0.75971508, -0.59158983, -0.46498162,\n",
       "        -0.57644337, -0.16757443,  0.14478112,  0.27143852]])"
      ]
     },
     "execution_count": 101,
     "metadata": {},
     "output_type": "execute_result"
    }
   ],
   "source": [
    "sc_X_test"
   ]
  },
  {
   "cell_type": "code",
   "execution_count": 102,
   "id": "9310be0e",
   "metadata": {},
   "outputs": [],
   "source": [
    "from sklearn.preprocessing import MinMaxScaler"
   ]
  },
  {
   "cell_type": "code",
   "execution_count": 103,
   "id": "9069dfa0",
   "metadata": {},
   "outputs": [
    {
     "data": {
      "text/html": [
       "<style>#sk-container-id-14 {color: black;background-color: white;}#sk-container-id-14 pre{padding: 0;}#sk-container-id-14 div.sk-toggleable {background-color: white;}#sk-container-id-14 label.sk-toggleable__label {cursor: pointer;display: block;width: 100%;margin-bottom: 0;padding: 0.3em;box-sizing: border-box;text-align: center;}#sk-container-id-14 label.sk-toggleable__label-arrow:before {content: \"▸\";float: left;margin-right: 0.25em;color: #696969;}#sk-container-id-14 label.sk-toggleable__label-arrow:hover:before {color: black;}#sk-container-id-14 div.sk-estimator:hover label.sk-toggleable__label-arrow:before {color: black;}#sk-container-id-14 div.sk-toggleable__content {max-height: 0;max-width: 0;overflow: hidden;text-align: left;background-color: #f0f8ff;}#sk-container-id-14 div.sk-toggleable__content pre {margin: 0.2em;color: black;border-radius: 0.25em;background-color: #f0f8ff;}#sk-container-id-14 input.sk-toggleable__control:checked~div.sk-toggleable__content {max-height: 200px;max-width: 100%;overflow: auto;}#sk-container-id-14 input.sk-toggleable__control:checked~label.sk-toggleable__label-arrow:before {content: \"▾\";}#sk-container-id-14 div.sk-estimator input.sk-toggleable__control:checked~label.sk-toggleable__label {background-color: #d4ebff;}#sk-container-id-14 div.sk-label input.sk-toggleable__control:checked~label.sk-toggleable__label {background-color: #d4ebff;}#sk-container-id-14 input.sk-hidden--visually {border: 0;clip: rect(1px 1px 1px 1px);clip: rect(1px, 1px, 1px, 1px);height: 1px;margin: -1px;overflow: hidden;padding: 0;position: absolute;width: 1px;}#sk-container-id-14 div.sk-estimator {font-family: monospace;background-color: #f0f8ff;border: 1px dotted black;border-radius: 0.25em;box-sizing: border-box;margin-bottom: 0.5em;}#sk-container-id-14 div.sk-estimator:hover {background-color: #d4ebff;}#sk-container-id-14 div.sk-parallel-item::after {content: \"\";width: 100%;border-bottom: 1px solid gray;flex-grow: 1;}#sk-container-id-14 div.sk-label:hover label.sk-toggleable__label {background-color: #d4ebff;}#sk-container-id-14 div.sk-serial::before {content: \"\";position: absolute;border-left: 1px solid gray;box-sizing: border-box;top: 0;bottom: 0;left: 50%;z-index: 0;}#sk-container-id-14 div.sk-serial {display: flex;flex-direction: column;align-items: center;background-color: white;padding-right: 0.2em;padding-left: 0.2em;position: relative;}#sk-container-id-14 div.sk-item {position: relative;z-index: 1;}#sk-container-id-14 div.sk-parallel {display: flex;align-items: stretch;justify-content: center;background-color: white;position: relative;}#sk-container-id-14 div.sk-item::before, #sk-container-id-14 div.sk-parallel-item::before {content: \"\";position: absolute;border-left: 1px solid gray;box-sizing: border-box;top: 0;bottom: 0;left: 50%;z-index: -1;}#sk-container-id-14 div.sk-parallel-item {display: flex;flex-direction: column;z-index: 1;position: relative;background-color: white;}#sk-container-id-14 div.sk-parallel-item:first-child::after {align-self: flex-end;width: 50%;}#sk-container-id-14 div.sk-parallel-item:last-child::after {align-self: flex-start;width: 50%;}#sk-container-id-14 div.sk-parallel-item:only-child::after {width: 0;}#sk-container-id-14 div.sk-dashed-wrapped {border: 1px dashed gray;margin: 0 0.4em 0.5em 0.4em;box-sizing: border-box;padding-bottom: 0.4em;background-color: white;}#sk-container-id-14 div.sk-label label {font-family: monospace;font-weight: bold;display: inline-block;line-height: 1.2em;}#sk-container-id-14 div.sk-label-container {text-align: center;}#sk-container-id-14 div.sk-container {/* jupyter's `normalize.less` sets `[hidden] { display: none; }` but bootstrap.min.css set `[hidden] { display: none !important; }` so we also need the `!important` here to be able to override the default hidden behavior on the sphinx rendered scikit-learn.org. See: https://github.com/scikit-learn/scikit-learn/issues/21755 */display: inline-block !important;position: relative;}#sk-container-id-14 div.sk-text-repr-fallback {display: none;}</style><div id=\"sk-container-id-14\" class=\"sk-top-container\"><div class=\"sk-text-repr-fallback\"><pre>MinMaxScaler()</pre><b>In a Jupyter environment, please rerun this cell to show the HTML representation or trust the notebook. <br />On GitHub, the HTML representation is unable to render, please try loading this page with nbviewer.org.</b></div><div class=\"sk-container\" hidden><div class=\"sk-item\"><div class=\"sk-estimator sk-toggleable\"><input class=\"sk-toggleable__control sk-hidden--visually\" id=\"sk-estimator-id-14\" type=\"checkbox\" checked><label for=\"sk-estimator-id-14\" class=\"sk-toggleable__label sk-toggleable__label-arrow\">MinMaxScaler</label><div class=\"sk-toggleable__content\"><pre>MinMaxScaler()</pre></div></div></div></div></div>"
      ],
      "text/plain": [
       "MinMaxScaler()"
      ]
     },
     "execution_count": 103,
     "metadata": {},
     "output_type": "execute_result"
    }
   ],
   "source": [
    "sc_mm = MinMaxScaler()\n",
    "\n",
    "sc_mm.fit(X_train)"
   ]
  },
  {
   "cell_type": "code",
   "execution_count": 104,
   "id": "113a8874",
   "metadata": {},
   "outputs": [
    {
     "data": {
      "text/plain": [
       "array([[1.48123098e-01, 7.92338710e-01, 3.94019349e-01, ...,\n",
       "        3.88403076e-01, 1.68056319e-01, 6.19177194e-02],\n",
       "       [4.68380115e-01, 2.88306452e-01, 2.22515391e-01, ...,\n",
       "        2.91899303e-02, 1.97026744e-02, 1.13241249e-02],\n",
       "       [7.49746365e-01, 8.66935484e-02, 4.35356201e-01, ...,\n",
       "        5.13437130e-03, 2.24200384e-02, 8.33630100e-02],\n",
       "       ...,\n",
       "       [8.61345959e-01, 5.42338710e-01, 4.57343887e-02, ...,\n",
       "        2.21915822e-02, 1.71075127e-03, 1.12280164e-04],\n",
       "       [6.22928644e-01, 8.85080645e-01, 1.23131047e-02, ...,\n",
       "        1.82683356e-02, 2.66729822e-04, 3.29791089e-06],\n",
       "       [8.37673318e-01, 6.08870968e-01, 1.75901495e-01, ...,\n",
       "        1.03235946e-01, 2.61642464e-02, 5.64640682e-03]])"
      ]
     },
     "execution_count": 104,
     "metadata": {},
     "output_type": "execute_result"
    }
   ],
   "source": [
    "sc_mm.transform(X_train)"
   ]
  },
  {
   "cell_type": "markdown",
   "id": "5d972a08",
   "metadata": {},
   "source": [
    "###### Ridge Regression"
   ]
  },
  {
   "cell_type": "code",
   "execution_count": 105,
   "id": "5fbc09c7",
   "metadata": {},
   "outputs": [],
   "source": [
    "from sklearn.linear_model import Ridge"
   ]
  },
  {
   "cell_type": "code",
   "execution_count": 106,
   "id": "2ffe4063",
   "metadata": {},
   "outputs": [],
   "source": [
    "r_model = Ridge(alpha = 10)"
   ]
  },
  {
   "cell_type": "code",
   "execution_count": 107,
   "id": "d2b38dd1",
   "metadata": {},
   "outputs": [
    {
     "data": {
      "text/html": [
       "<style>#sk-container-id-15 {color: black;background-color: white;}#sk-container-id-15 pre{padding: 0;}#sk-container-id-15 div.sk-toggleable {background-color: white;}#sk-container-id-15 label.sk-toggleable__label {cursor: pointer;display: block;width: 100%;margin-bottom: 0;padding: 0.3em;box-sizing: border-box;text-align: center;}#sk-container-id-15 label.sk-toggleable__label-arrow:before {content: \"▸\";float: left;margin-right: 0.25em;color: #696969;}#sk-container-id-15 label.sk-toggleable__label-arrow:hover:before {color: black;}#sk-container-id-15 div.sk-estimator:hover label.sk-toggleable__label-arrow:before {color: black;}#sk-container-id-15 div.sk-toggleable__content {max-height: 0;max-width: 0;overflow: hidden;text-align: left;background-color: #f0f8ff;}#sk-container-id-15 div.sk-toggleable__content pre {margin: 0.2em;color: black;border-radius: 0.25em;background-color: #f0f8ff;}#sk-container-id-15 input.sk-toggleable__control:checked~div.sk-toggleable__content {max-height: 200px;max-width: 100%;overflow: auto;}#sk-container-id-15 input.sk-toggleable__control:checked~label.sk-toggleable__label-arrow:before {content: \"▾\";}#sk-container-id-15 div.sk-estimator input.sk-toggleable__control:checked~label.sk-toggleable__label {background-color: #d4ebff;}#sk-container-id-15 div.sk-label input.sk-toggleable__control:checked~label.sk-toggleable__label {background-color: #d4ebff;}#sk-container-id-15 input.sk-hidden--visually {border: 0;clip: rect(1px 1px 1px 1px);clip: rect(1px, 1px, 1px, 1px);height: 1px;margin: -1px;overflow: hidden;padding: 0;position: absolute;width: 1px;}#sk-container-id-15 div.sk-estimator {font-family: monospace;background-color: #f0f8ff;border: 1px dotted black;border-radius: 0.25em;box-sizing: border-box;margin-bottom: 0.5em;}#sk-container-id-15 div.sk-estimator:hover {background-color: #d4ebff;}#sk-container-id-15 div.sk-parallel-item::after {content: \"\";width: 100%;border-bottom: 1px solid gray;flex-grow: 1;}#sk-container-id-15 div.sk-label:hover label.sk-toggleable__label {background-color: #d4ebff;}#sk-container-id-15 div.sk-serial::before {content: \"\";position: absolute;border-left: 1px solid gray;box-sizing: border-box;top: 0;bottom: 0;left: 50%;z-index: 0;}#sk-container-id-15 div.sk-serial {display: flex;flex-direction: column;align-items: center;background-color: white;padding-right: 0.2em;padding-left: 0.2em;position: relative;}#sk-container-id-15 div.sk-item {position: relative;z-index: 1;}#sk-container-id-15 div.sk-parallel {display: flex;align-items: stretch;justify-content: center;background-color: white;position: relative;}#sk-container-id-15 div.sk-item::before, #sk-container-id-15 div.sk-parallel-item::before {content: \"\";position: absolute;border-left: 1px solid gray;box-sizing: border-box;top: 0;bottom: 0;left: 50%;z-index: -1;}#sk-container-id-15 div.sk-parallel-item {display: flex;flex-direction: column;z-index: 1;position: relative;background-color: white;}#sk-container-id-15 div.sk-parallel-item:first-child::after {align-self: flex-end;width: 50%;}#sk-container-id-15 div.sk-parallel-item:last-child::after {align-self: flex-start;width: 50%;}#sk-container-id-15 div.sk-parallel-item:only-child::after {width: 0;}#sk-container-id-15 div.sk-dashed-wrapped {border: 1px dashed gray;margin: 0 0.4em 0.5em 0.4em;box-sizing: border-box;padding-bottom: 0.4em;background-color: white;}#sk-container-id-15 div.sk-label label {font-family: monospace;font-weight: bold;display: inline-block;line-height: 1.2em;}#sk-container-id-15 div.sk-label-container {text-align: center;}#sk-container-id-15 div.sk-container {/* jupyter's `normalize.less` sets `[hidden] { display: none; }` but bootstrap.min.css set `[hidden] { display: none !important; }` so we also need the `!important` here to be able to override the default hidden behavior on the sphinx rendered scikit-learn.org. See: https://github.com/scikit-learn/scikit-learn/issues/21755 */display: inline-block !important;position: relative;}#sk-container-id-15 div.sk-text-repr-fallback {display: none;}</style><div id=\"sk-container-id-15\" class=\"sk-top-container\"><div class=\"sk-text-repr-fallback\"><pre>Ridge(alpha=10)</pre><b>In a Jupyter environment, please rerun this cell to show the HTML representation or trust the notebook. <br />On GitHub, the HTML representation is unable to render, please try loading this page with nbviewer.org.</b></div><div class=\"sk-container\" hidden><div class=\"sk-item\"><div class=\"sk-estimator sk-toggleable\"><input class=\"sk-toggleable__control sk-hidden--visually\" id=\"sk-estimator-id-15\" type=\"checkbox\" checked><label for=\"sk-estimator-id-15\" class=\"sk-toggleable__label sk-toggleable__label-arrow\">Ridge</label><div class=\"sk-toggleable__content\"><pre>Ridge(alpha=10)</pre></div></div></div></div></div>"
      ],
      "text/plain": [
       "Ridge(alpha=10)"
      ]
     },
     "execution_count": 107,
     "metadata": {},
     "output_type": "execute_result"
    }
   ],
   "source": [
    "r_model.fit(sc_X_train, y_train)"
   ]
  },
  {
   "cell_type": "code",
   "execution_count": 108,
   "id": "e09eb7e6",
   "metadata": {},
   "outputs": [
    {
     "data": {
      "text/plain": [
       "array([13.43383402, 12.19340015,  9.04068673, 10.58059057, 10.68790931,\n",
       "       18.04548137, 13.62233303,  6.73670706, 21.3210549 , 11.84381011,\n",
       "       12.6381744 , 12.38553629, 22.56752819, 13.95672456, 12.91612286,\n",
       "       16.92795723, 10.7525741 , 15.46366846,  9.40099008, 12.51852923,\n",
       "       16.30346321, 10.43164934,  9.12720339, 12.32671384, 20.45474192,\n",
       "       12.70116857,  8.90273379,  9.11577019, 14.96593896, 12.36127053,\n",
       "       14.61259965, 10.48237499,  8.99033688, 15.93235379,  8.55925392,\n",
       "        9.47629904, 12.71389753, 20.02382364,  9.9680283 , 11.12001289,\n",
       "        8.60433278, 26.4947606 ,  9.51151394, 18.69350416, 15.95556515,\n",
       "       10.30115496, 11.99653434, 12.5841494 ,  9.7914428 ,  8.02291771])"
      ]
     },
     "execution_count": 108,
     "metadata": {},
     "output_type": "execute_result"
    }
   ],
   "source": [
    "r_test_pred = r_model.predict(sc_X_test)\n",
    "r_test_pred"
   ]
  },
  {
   "cell_type": "code",
   "execution_count": 109,
   "id": "8c6acf58",
   "metadata": {},
   "outputs": [],
   "source": [
    "from sklearn.metrics import mean_absolute_error, mean_squared_error"
   ]
  },
  {
   "cell_type": "code",
   "execution_count": 110,
   "id": "0c68f42a",
   "metadata": {},
   "outputs": [],
   "source": [
    "MAE = mean_absolute_error(y_test,r_test_pred)\n",
    "MSE = mean_squared_error(y_test,r_test_pred)\n",
    "RMSE = np.sqrt(MSE)"
   ]
  },
  {
   "cell_type": "code",
   "execution_count": 111,
   "id": "bd66c205",
   "metadata": {},
   "outputs": [
    {
     "data": {
      "text/plain": [
       "0.5045441562327635"
      ]
     },
     "execution_count": 111,
     "metadata": {},
     "output_type": "execute_result"
    }
   ],
   "source": [
    "MAE"
   ]
  },
  {
   "cell_type": "code",
   "execution_count": 112,
   "id": "41fe144b",
   "metadata": {},
   "outputs": [
    {
     "data": {
      "text/plain": [
       "0.6158442148832771"
      ]
     },
     "execution_count": 112,
     "metadata": {},
     "output_type": "execute_result"
    }
   ],
   "source": [
    "RMSE"
   ]
  },
  {
   "cell_type": "code",
   "execution_count": 113,
   "id": "a0273e5d",
   "metadata": {},
   "outputs": [
    {
     "data": {
      "text/plain": [
       "0.5876277588883974"
      ]
     },
     "execution_count": 113,
     "metadata": {},
     "output_type": "execute_result"
    }
   ],
   "source": [
    "r_train_pred = r_model.predict(sc_X_train)\n",
    "mean_absolute_error(y_train,r_train_pred)"
   ]
  },
  {
   "cell_type": "code",
   "execution_count": 114,
   "id": "e7e8d140",
   "metadata": {},
   "outputs": [
    {
     "data": {
      "text/plain": [
       "0.9073661665726114"
      ]
     },
     "execution_count": 114,
     "metadata": {},
     "output_type": "execute_result"
    }
   ],
   "source": [
    "np.sqrt(mean_squared_error(y_train,r_train_pred))"
   ]
  },
  {
   "cell_type": "markdown",
   "id": "ba758c61",
   "metadata": {},
   "source": [
    "###### Ridge Regression CV\n",
    "\n",
    "(choosing a correct alpha/lambda(as we read in slides) values"
   ]
  },
  {
   "cell_type": "code",
   "execution_count": 115,
   "id": "264c1b37",
   "metadata": {},
   "outputs": [],
   "source": [
    "from sklearn.linear_model import RidgeCV\n",
    "\n",
    "r_cv_model = RidgeCV(alphas = (0.05, 0.1, 0.15))"
   ]
  },
  {
   "cell_type": "code",
   "execution_count": 116,
   "id": "20f10124",
   "metadata": {},
   "outputs": [
    {
     "data": {
      "text/html": [
       "<style>#sk-container-id-16 {color: black;background-color: white;}#sk-container-id-16 pre{padding: 0;}#sk-container-id-16 div.sk-toggleable {background-color: white;}#sk-container-id-16 label.sk-toggleable__label {cursor: pointer;display: block;width: 100%;margin-bottom: 0;padding: 0.3em;box-sizing: border-box;text-align: center;}#sk-container-id-16 label.sk-toggleable__label-arrow:before {content: \"▸\";float: left;margin-right: 0.25em;color: #696969;}#sk-container-id-16 label.sk-toggleable__label-arrow:hover:before {color: black;}#sk-container-id-16 div.sk-estimator:hover label.sk-toggleable__label-arrow:before {color: black;}#sk-container-id-16 div.sk-toggleable__content {max-height: 0;max-width: 0;overflow: hidden;text-align: left;background-color: #f0f8ff;}#sk-container-id-16 div.sk-toggleable__content pre {margin: 0.2em;color: black;border-radius: 0.25em;background-color: #f0f8ff;}#sk-container-id-16 input.sk-toggleable__control:checked~div.sk-toggleable__content {max-height: 200px;max-width: 100%;overflow: auto;}#sk-container-id-16 input.sk-toggleable__control:checked~label.sk-toggleable__label-arrow:before {content: \"▾\";}#sk-container-id-16 div.sk-estimator input.sk-toggleable__control:checked~label.sk-toggleable__label {background-color: #d4ebff;}#sk-container-id-16 div.sk-label input.sk-toggleable__control:checked~label.sk-toggleable__label {background-color: #d4ebff;}#sk-container-id-16 input.sk-hidden--visually {border: 0;clip: rect(1px 1px 1px 1px);clip: rect(1px, 1px, 1px, 1px);height: 1px;margin: -1px;overflow: hidden;padding: 0;position: absolute;width: 1px;}#sk-container-id-16 div.sk-estimator {font-family: monospace;background-color: #f0f8ff;border: 1px dotted black;border-radius: 0.25em;box-sizing: border-box;margin-bottom: 0.5em;}#sk-container-id-16 div.sk-estimator:hover {background-color: #d4ebff;}#sk-container-id-16 div.sk-parallel-item::after {content: \"\";width: 100%;border-bottom: 1px solid gray;flex-grow: 1;}#sk-container-id-16 div.sk-label:hover label.sk-toggleable__label {background-color: #d4ebff;}#sk-container-id-16 div.sk-serial::before {content: \"\";position: absolute;border-left: 1px solid gray;box-sizing: border-box;top: 0;bottom: 0;left: 50%;z-index: 0;}#sk-container-id-16 div.sk-serial {display: flex;flex-direction: column;align-items: center;background-color: white;padding-right: 0.2em;padding-left: 0.2em;position: relative;}#sk-container-id-16 div.sk-item {position: relative;z-index: 1;}#sk-container-id-16 div.sk-parallel {display: flex;align-items: stretch;justify-content: center;background-color: white;position: relative;}#sk-container-id-16 div.sk-item::before, #sk-container-id-16 div.sk-parallel-item::before {content: \"\";position: absolute;border-left: 1px solid gray;box-sizing: border-box;top: 0;bottom: 0;left: 50%;z-index: -1;}#sk-container-id-16 div.sk-parallel-item {display: flex;flex-direction: column;z-index: 1;position: relative;background-color: white;}#sk-container-id-16 div.sk-parallel-item:first-child::after {align-self: flex-end;width: 50%;}#sk-container-id-16 div.sk-parallel-item:last-child::after {align-self: flex-start;width: 50%;}#sk-container-id-16 div.sk-parallel-item:only-child::after {width: 0;}#sk-container-id-16 div.sk-dashed-wrapped {border: 1px dashed gray;margin: 0 0.4em 0.5em 0.4em;box-sizing: border-box;padding-bottom: 0.4em;background-color: white;}#sk-container-id-16 div.sk-label label {font-family: monospace;font-weight: bold;display: inline-block;line-height: 1.2em;}#sk-container-id-16 div.sk-label-container {text-align: center;}#sk-container-id-16 div.sk-container {/* jupyter's `normalize.less` sets `[hidden] { display: none; }` but bootstrap.min.css set `[hidden] { display: none !important; }` so we also need the `!important` here to be able to override the default hidden behavior on the sphinx rendered scikit-learn.org. See: https://github.com/scikit-learn/scikit-learn/issues/21755 */display: inline-block !important;position: relative;}#sk-container-id-16 div.sk-text-repr-fallback {display: none;}</style><div id=\"sk-container-id-16\" class=\"sk-top-container\"><div class=\"sk-text-repr-fallback\"><pre>RidgeCV(alphas=(0.05, 0.1, 0.15))</pre><b>In a Jupyter environment, please rerun this cell to show the HTML representation or trust the notebook. <br />On GitHub, the HTML representation is unable to render, please try loading this page with nbviewer.org.</b></div><div class=\"sk-container\" hidden><div class=\"sk-item\"><div class=\"sk-estimator sk-toggleable\"><input class=\"sk-toggleable__control sk-hidden--visually\" id=\"sk-estimator-id-16\" type=\"checkbox\" checked><label for=\"sk-estimator-id-16\" class=\"sk-toggleable__label sk-toggleable__label-arrow\">RidgeCV</label><div class=\"sk-toggleable__content\"><pre>RidgeCV(alphas=(0.05, 0.1, 0.15))</pre></div></div></div></div></div>"
      ],
      "text/plain": [
       "RidgeCV(alphas=(0.05, 0.1, 0.15))"
      ]
     },
     "execution_count": 116,
     "metadata": {},
     "output_type": "execute_result"
    }
   ],
   "source": [
    "r_cv_model.fit(sc_X_train,y_train)"
   ]
  },
  {
   "cell_type": "code",
   "execution_count": 117,
   "id": "71020b08",
   "metadata": {},
   "outputs": [
    {
     "data": {
      "text/plain": [
       "0.05"
      ]
     },
     "execution_count": 117,
     "metadata": {},
     "output_type": "execute_result"
    }
   ],
   "source": [
    "r_cv_model.alpha_"
   ]
  },
  {
   "cell_type": "code",
   "execution_count": 118,
   "id": "653be252",
   "metadata": {},
   "outputs": [],
   "source": [
    "r_cv_test_pred = r_cv_model.predict(sc_X_test)"
   ]
  },
  {
   "cell_type": "code",
   "execution_count": 119,
   "id": "7f25fedc",
   "metadata": {},
   "outputs": [],
   "source": [
    "MAE_cv = mean_absolute_error(y_test,r_cv_test_pred)\n",
    "MSE_cv = mean_squared_error(y_test,r_cv_test_pred)\n",
    "RMSE_cv = np.sqrt(MSE_cv)"
   ]
  },
  {
   "cell_type": "code",
   "execution_count": 120,
   "id": "87a71bee",
   "metadata": {},
   "outputs": [
    {
     "data": {
      "text/plain": [
       "0.31152784667839545"
      ]
     },
     "execution_count": 120,
     "metadata": {},
     "output_type": "execute_result"
    }
   ],
   "source": [
    "MAE_cv"
   ]
  },
  {
   "cell_type": "code",
   "execution_count": 121,
   "id": "f6e305a9",
   "metadata": {},
   "outputs": [
    {
     "data": {
      "text/plain": [
       "0.146110406381123"
      ]
     },
     "execution_count": 121,
     "metadata": {},
     "output_type": "execute_result"
    }
   ],
   "source": [
    "MSE_cv"
   ]
  },
  {
   "cell_type": "code",
   "execution_count": 122,
   "id": "fb8cf621",
   "metadata": {},
   "outputs": [
    {
     "data": {
      "text/plain": [
       "0.3822439095409147"
      ]
     },
     "execution_count": 122,
     "metadata": {},
     "output_type": "execute_result"
    }
   ],
   "source": [
    "RMSE_cv"
   ]
  },
  {
   "cell_type": "code",
   "execution_count": 123,
   "id": "53bd7cd7",
   "metadata": {},
   "outputs": [
    {
     "data": {
      "text/plain": [
       "array([ 6.61938271,  0.43511619,  0.39844479, -8.77932248,  5.02116758,\n",
       "       -0.73955236, -0.60177909, -0.01193372, -0.27523155,  4.02408433,\n",
       "       -1.18150952,  0.54956121,  0.30734618, -0.4690718 ,  0.24244967,\n",
       "        0.24357874,  0.24505987,  0.1379072 , -0.05711765])"
      ]
     },
     "execution_count": 123,
     "metadata": {},
     "output_type": "execute_result"
    }
   ],
   "source": [
    "r_cv_model.coef_"
   ]
  },
  {
   "cell_type": "markdown",
   "id": "3349fa71",
   "metadata": {},
   "source": [
    "###### LASSO"
   ]
  },
  {
   "cell_type": "code",
   "execution_count": 128,
   "id": "8cd0e315",
   "metadata": {},
   "outputs": [],
   "source": [
    "from sklearn.linear_model import LassoCV"
   ]
  },
  {
   "cell_type": "code",
   "execution_count": 129,
   "id": "ae7638fd",
   "metadata": {},
   "outputs": [],
   "source": [
    "#help(LassoCV)"
   ]
  },
  {
   "cell_type": "code",
   "execution_count": 130,
   "id": "b6a776bd",
   "metadata": {},
   "outputs": [],
   "source": [
    "lasso_cv_m = LassoCV(eps = 0.1, n_alphas=100, cv = 5, max_iter=10000000)"
   ]
  },
  {
   "cell_type": "code",
   "execution_count": 131,
   "id": "b0de97d1",
   "metadata": {},
   "outputs": [
    {
     "data": {
      "text/html": [
       "<style>#sk-container-id-18 {color: black;background-color: white;}#sk-container-id-18 pre{padding: 0;}#sk-container-id-18 div.sk-toggleable {background-color: white;}#sk-container-id-18 label.sk-toggleable__label {cursor: pointer;display: block;width: 100%;margin-bottom: 0;padding: 0.3em;box-sizing: border-box;text-align: center;}#sk-container-id-18 label.sk-toggleable__label-arrow:before {content: \"▸\";float: left;margin-right: 0.25em;color: #696969;}#sk-container-id-18 label.sk-toggleable__label-arrow:hover:before {color: black;}#sk-container-id-18 div.sk-estimator:hover label.sk-toggleable__label-arrow:before {color: black;}#sk-container-id-18 div.sk-toggleable__content {max-height: 0;max-width: 0;overflow: hidden;text-align: left;background-color: #f0f8ff;}#sk-container-id-18 div.sk-toggleable__content pre {margin: 0.2em;color: black;border-radius: 0.25em;background-color: #f0f8ff;}#sk-container-id-18 input.sk-toggleable__control:checked~div.sk-toggleable__content {max-height: 200px;max-width: 100%;overflow: auto;}#sk-container-id-18 input.sk-toggleable__control:checked~label.sk-toggleable__label-arrow:before {content: \"▾\";}#sk-container-id-18 div.sk-estimator input.sk-toggleable__control:checked~label.sk-toggleable__label {background-color: #d4ebff;}#sk-container-id-18 div.sk-label input.sk-toggleable__control:checked~label.sk-toggleable__label {background-color: #d4ebff;}#sk-container-id-18 input.sk-hidden--visually {border: 0;clip: rect(1px 1px 1px 1px);clip: rect(1px, 1px, 1px, 1px);height: 1px;margin: -1px;overflow: hidden;padding: 0;position: absolute;width: 1px;}#sk-container-id-18 div.sk-estimator {font-family: monospace;background-color: #f0f8ff;border: 1px dotted black;border-radius: 0.25em;box-sizing: border-box;margin-bottom: 0.5em;}#sk-container-id-18 div.sk-estimator:hover {background-color: #d4ebff;}#sk-container-id-18 div.sk-parallel-item::after {content: \"\";width: 100%;border-bottom: 1px solid gray;flex-grow: 1;}#sk-container-id-18 div.sk-label:hover label.sk-toggleable__label {background-color: #d4ebff;}#sk-container-id-18 div.sk-serial::before {content: \"\";position: absolute;border-left: 1px solid gray;box-sizing: border-box;top: 0;bottom: 0;left: 50%;z-index: 0;}#sk-container-id-18 div.sk-serial {display: flex;flex-direction: column;align-items: center;background-color: white;padding-right: 0.2em;padding-left: 0.2em;position: relative;}#sk-container-id-18 div.sk-item {position: relative;z-index: 1;}#sk-container-id-18 div.sk-parallel {display: flex;align-items: stretch;justify-content: center;background-color: white;position: relative;}#sk-container-id-18 div.sk-item::before, #sk-container-id-18 div.sk-parallel-item::before {content: \"\";position: absolute;border-left: 1px solid gray;box-sizing: border-box;top: 0;bottom: 0;left: 50%;z-index: -1;}#sk-container-id-18 div.sk-parallel-item {display: flex;flex-direction: column;z-index: 1;position: relative;background-color: white;}#sk-container-id-18 div.sk-parallel-item:first-child::after {align-self: flex-end;width: 50%;}#sk-container-id-18 div.sk-parallel-item:last-child::after {align-self: flex-start;width: 50%;}#sk-container-id-18 div.sk-parallel-item:only-child::after {width: 0;}#sk-container-id-18 div.sk-dashed-wrapped {border: 1px dashed gray;margin: 0 0.4em 0.5em 0.4em;box-sizing: border-box;padding-bottom: 0.4em;background-color: white;}#sk-container-id-18 div.sk-label label {font-family: monospace;font-weight: bold;display: inline-block;line-height: 1.2em;}#sk-container-id-18 div.sk-label-container {text-align: center;}#sk-container-id-18 div.sk-container {/* jupyter's `normalize.less` sets `[hidden] { display: none; }` but bootstrap.min.css set `[hidden] { display: none !important; }` so we also need the `!important` here to be able to override the default hidden behavior on the sphinx rendered scikit-learn.org. See: https://github.com/scikit-learn/scikit-learn/issues/21755 */display: inline-block !important;position: relative;}#sk-container-id-18 div.sk-text-repr-fallback {display: none;}</style><div id=\"sk-container-id-18\" class=\"sk-top-container\"><div class=\"sk-text-repr-fallback\"><pre>LassoCV(cv=5, eps=0.1, max_iter=10000000)</pre><b>In a Jupyter environment, please rerun this cell to show the HTML representation or trust the notebook. <br />On GitHub, the HTML representation is unable to render, please try loading this page with nbviewer.org.</b></div><div class=\"sk-container\" hidden><div class=\"sk-item\"><div class=\"sk-estimator sk-toggleable\"><input class=\"sk-toggleable__control sk-hidden--visually\" id=\"sk-estimator-id-18\" type=\"checkbox\" checked><label for=\"sk-estimator-id-18\" class=\"sk-toggleable__label sk-toggleable__label-arrow\">LassoCV</label><div class=\"sk-toggleable__content\"><pre>LassoCV(cv=5, eps=0.1, max_iter=10000000)</pre></div></div></div></div></div>"
      ],
      "text/plain": [
       "LassoCV(cv=5, eps=0.1, max_iter=10000000)"
      ]
     },
     "execution_count": 131,
     "metadata": {},
     "output_type": "execute_result"
    }
   ],
   "source": [
    "lasso_cv_m.fit(sc_X_train,y_train)"
   ]
  },
  {
   "cell_type": "code",
   "execution_count": null,
   "id": "faf0d6b0",
   "metadata": {},
   "outputs": [],
   "source": []
  },
  {
   "cell_type": "code",
   "execution_count": 132,
   "id": "40594d74",
   "metadata": {},
   "outputs": [
    {
     "data": {
      "text/plain": [
       "0.5278831021815013"
      ]
     },
     "execution_count": 132,
     "metadata": {},
     "output_type": "execute_result"
    }
   ],
   "source": [
    "lasso_cv_m.alpha_"
   ]
  },
  {
   "cell_type": "code",
   "execution_count": null,
   "id": "1d87c865",
   "metadata": {},
   "outputs": [],
   "source": []
  }
 ],
 "metadata": {
  "kernelspec": {
   "display_name": "Python 3 (ipykernel)",
   "language": "python",
   "name": "python3"
  },
  "language_info": {
   "codemirror_mode": {
    "name": "ipython",
    "version": 3
   },
   "file_extension": ".py",
   "mimetype": "text/x-python",
   "name": "python",
   "nbconvert_exporter": "python",
   "pygments_lexer": "ipython3",
   "version": "3.11.5"
  }
 },
 "nbformat": 4,
 "nbformat_minor": 5
}
