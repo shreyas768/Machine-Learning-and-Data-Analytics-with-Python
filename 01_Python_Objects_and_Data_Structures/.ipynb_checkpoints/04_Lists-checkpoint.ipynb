{
 "cells": [
  {
   "cell_type": "code",
   "execution_count": 1,
   "id": "8b054aaa",
   "metadata": {},
   "outputs": [],
   "source": [
    "my_list = [1,2,3]"
   ]
  },
  {
   "cell_type": "code",
   "execution_count": 2,
   "id": "d5ffe855",
   "metadata": {},
   "outputs": [
    {
     "data": {
      "text/plain": [
       "list"
      ]
     },
     "execution_count": 2,
     "metadata": {},
     "output_type": "execute_result"
    }
   ],
   "source": [
    "type(my_list)"
   ]
  },
  {
   "cell_type": "code",
   "execution_count": 7,
   "id": "e10bf010",
   "metadata": {},
   "outputs": [],
   "source": [
    "my_list1 = [23,100.1,'A string', 'o',43,'90','Shreyas',10034]"
   ]
  },
  {
   "cell_type": "code",
   "execution_count": 8,
   "id": "2039b729",
   "metadata": {},
   "outputs": [
    {
     "data": {
      "text/plain": [
       "[23, 100.1, 'A string', 'o', 43, '90', 'Shreyas', 10034]"
      ]
     },
     "execution_count": 8,
     "metadata": {},
     "output_type": "execute_result"
    }
   ],
   "source": [
    "my_list1"
   ]
  },
  {
   "cell_type": "code",
   "execution_count": 9,
   "id": "70ae5a20",
   "metadata": {},
   "outputs": [
    {
     "data": {
      "text/plain": [
       "8"
      ]
     },
     "execution_count": 9,
     "metadata": {},
     "output_type": "execute_result"
    }
   ],
   "source": [
    "len(my_list1)"
   ]
  },
  {
   "cell_type": "markdown",
   "id": "afd08b8d",
   "metadata": {},
   "source": [
    "###### Indexing and Slicing"
   ]
  },
  {
   "cell_type": "code",
   "execution_count": 13,
   "id": "d59a2824",
   "metadata": {
    "scrolled": true
   },
   "outputs": [
    {
     "data": {
      "text/plain": [
       "[23, 100.1, 'A string', 'o', 43, '90', 'Shreyas', 10034]"
      ]
     },
     "execution_count": 13,
     "metadata": {},
     "output_type": "execute_result"
    }
   ],
   "source": [
    "my_list1"
   ]
  },
  {
   "cell_type": "code",
   "execution_count": 10,
   "id": "ab04a84c",
   "metadata": {},
   "outputs": [
    {
     "data": {
      "text/plain": [
       "23"
      ]
     },
     "execution_count": 10,
     "metadata": {},
     "output_type": "execute_result"
    }
   ],
   "source": [
    "my_list1[0]"
   ]
  },
  {
   "cell_type": "code",
   "execution_count": 12,
   "id": "a0e90fc5",
   "metadata": {},
   "outputs": [
    {
     "data": {
      "text/plain": [
       "list"
      ]
     },
     "execution_count": 12,
     "metadata": {},
     "output_type": "execute_result"
    }
   ],
   "source": [
    "type(my_list1[2:])"
   ]
  },
  {
   "cell_type": "code",
   "execution_count": 16,
   "id": "645d9c4a",
   "metadata": {},
   "outputs": [
    {
     "data": {
      "text/plain": [
       "str"
      ]
     },
     "execution_count": 16,
     "metadata": {},
     "output_type": "execute_result"
    }
   ],
   "source": [
    "type(my_list1[2:][-2])"
   ]
  },
  {
   "cell_type": "code",
   "execution_count": 18,
   "id": "d4b4f542",
   "metadata": {},
   "outputs": [
    {
     "data": {
      "text/plain": [
       "'SHREYAS'"
      ]
     },
     "execution_count": 18,
     "metadata": {},
     "output_type": "execute_result"
    }
   ],
   "source": [
    "my_list1[2:][-2].upper()"
   ]
  },
  {
   "cell_type": "code",
   "execution_count": 21,
   "id": "273f9c6a",
   "metadata": {},
   "outputs": [
    {
     "data": {
      "text/plain": [
       "[100.1, 'A string', 'o', 43, '90', 'Shreyas']"
      ]
     },
     "execution_count": 21,
     "metadata": {},
     "output_type": "execute_result"
    }
   ],
   "source": [
    "my_list1[1:-1]"
   ]
  },
  {
   "cell_type": "code",
   "execution_count": 25,
   "id": "5b737a16",
   "metadata": {},
   "outputs": [
    {
     "data": {
      "text/plain": [
       "[23, 100.1, 'A string', 'o', 43, '90', 'Shreyas', 10034, 'new list']"
      ]
     },
     "execution_count": 25,
     "metadata": {},
     "output_type": "execute_result"
    }
   ],
   "source": [
    "#concatenation\n",
    "\n",
    "my_list1 + ['new list']"
   ]
  },
  {
   "cell_type": "code",
   "execution_count": 24,
   "id": "ae0742b2",
   "metadata": {},
   "outputs": [
    {
     "data": {
      "text/plain": [
       "[23, 100.1, 'A string', 'o', 43, '90', 'Shreyas', 10034]"
      ]
     },
     "execution_count": 24,
     "metadata": {},
     "output_type": "execute_result"
    }
   ],
   "source": [
    "my_list1"
   ]
  },
  {
   "cell_type": "code",
   "execution_count": 27,
   "id": "c735ea74",
   "metadata": {},
   "outputs": [
    {
     "data": {
      "text/plain": [
       "str"
      ]
     },
     "execution_count": 27,
     "metadata": {},
     "output_type": "execute_result"
    }
   ],
   "source": [
    "type('new list')"
   ]
  },
  {
   "cell_type": "code",
   "execution_count": 28,
   "id": "4362d2f2",
   "metadata": {},
   "outputs": [],
   "source": [
    "#reassignment\n",
    "\n",
    "my_list1 = my_list1 + ['new list']"
   ]
  },
  {
   "cell_type": "code",
   "execution_count": 29,
   "id": "028ef8f5",
   "metadata": {},
   "outputs": [
    {
     "data": {
      "text/plain": [
       "[23, 100.1, 'A string', 'o', 43, '90', 'Shreyas', 10034, 'new list']"
      ]
     },
     "execution_count": 29,
     "metadata": {},
     "output_type": "execute_result"
    }
   ],
   "source": [
    "my_list1"
   ]
  },
  {
   "cell_type": "code",
   "execution_count": 30,
   "id": "617a0820",
   "metadata": {},
   "outputs": [
    {
     "data": {
      "text/plain": [
       "[23,\n",
       " 100.1,\n",
       " 'A string',\n",
       " 'o',\n",
       " 43,\n",
       " '90',\n",
       " 'Shreyas',\n",
       " 10034,\n",
       " 'new list',\n",
       " ['new list']]"
      ]
     },
     "execution_count": 30,
     "metadata": {},
     "output_type": "execute_result"
    }
   ],
   "source": [
    "my_list1 + [['new list']]"
   ]
  },
  {
   "cell_type": "markdown",
   "id": "b5f07539",
   "metadata": {},
   "source": [
    "### Basic List Methods"
   ]
  },
  {
   "cell_type": "code",
   "execution_count": 40,
   "id": "f04f1011",
   "metadata": {},
   "outputs": [
    {
     "data": {
      "text/plain": [
       "[1, 2, 3]"
      ]
     },
     "execution_count": 40,
     "metadata": {},
     "output_type": "execute_result"
    }
   ],
   "source": [
    "lst = [1,2,3]\n",
    "lst"
   ]
  },
  {
   "cell_type": "code",
   "execution_count": 41,
   "id": "47d6fcc4",
   "metadata": {},
   "outputs": [],
   "source": [
    "#append\n",
    "lst.append('append me!!')"
   ]
  },
  {
   "cell_type": "code",
   "execution_count": 42,
   "id": "15e73ab9",
   "metadata": {},
   "outputs": [
    {
     "data": {
      "text/plain": [
       "[1, 2, 3, 'append me!!']"
      ]
     },
     "execution_count": 42,
     "metadata": {},
     "output_type": "execute_result"
    }
   ],
   "source": [
    "lst"
   ]
  },
  {
   "cell_type": "code",
   "execution_count": 43,
   "id": "b7eb6e60",
   "metadata": {},
   "outputs": [],
   "source": [
    "lst.append(34.2)"
   ]
  },
  {
   "cell_type": "code",
   "execution_count": 44,
   "id": "8cf200af",
   "metadata": {},
   "outputs": [
    {
     "data": {
      "text/plain": [
       "[1, 2, 3, 'append me!!', 34.2]"
      ]
     },
     "execution_count": 44,
     "metadata": {},
     "output_type": "execute_result"
    }
   ],
   "source": [
    "lst"
   ]
  },
  {
   "cell_type": "code",
   "execution_count": 45,
   "id": "6a3e83f5",
   "metadata": {},
   "outputs": [
    {
     "data": {
      "text/plain": [
       "34.2"
      ]
     },
     "execution_count": 45,
     "metadata": {},
     "output_type": "execute_result"
    }
   ],
   "source": [
    "#pop\n",
    "lst.pop()"
   ]
  },
  {
   "cell_type": "code",
   "execution_count": 46,
   "id": "b1eeb9f9",
   "metadata": {},
   "outputs": [
    {
     "data": {
      "text/plain": [
       "[1, 2, 3, 'append me!!']"
      ]
     },
     "execution_count": 46,
     "metadata": {},
     "output_type": "execute_result"
    }
   ],
   "source": [
    "lst"
   ]
  },
  {
   "cell_type": "code",
   "execution_count": 47,
   "id": "a5cecd01",
   "metadata": {},
   "outputs": [
    {
     "data": {
      "text/plain": [
       "3"
      ]
     },
     "execution_count": 47,
     "metadata": {},
     "output_type": "execute_result"
    }
   ],
   "source": [
    "lst.pop(2)"
   ]
  },
  {
   "cell_type": "code",
   "execution_count": 48,
   "id": "7b3ef00d",
   "metadata": {},
   "outputs": [
    {
     "data": {
      "text/plain": [
       "[1, 2, 'append me!!']"
      ]
     },
     "execution_count": 48,
     "metadata": {},
     "output_type": "execute_result"
    }
   ],
   "source": [
    "lst"
   ]
  },
  {
   "cell_type": "code",
   "execution_count": 49,
   "id": "0729c965",
   "metadata": {},
   "outputs": [],
   "source": [
    "popped_item = lst.pop(2)"
   ]
  },
  {
   "cell_type": "code",
   "execution_count": 51,
   "id": "db3f45cf",
   "metadata": {},
   "outputs": [
    {
     "data": {
      "text/plain": [
       "'append me'"
      ]
     },
     "execution_count": 51,
     "metadata": {},
     "output_type": "execute_result"
    }
   ],
   "source": [
    "popped_item[:-2]"
   ]
  },
  {
   "cell_type": "code",
   "execution_count": 52,
   "id": "f28476ca",
   "metadata": {},
   "outputs": [
    {
     "data": {
      "text/plain": [
       "[1, 2]"
      ]
     },
     "execution_count": 52,
     "metadata": {},
     "output_type": "execute_result"
    }
   ],
   "source": [
    "lst"
   ]
  },
  {
   "cell_type": "code",
   "execution_count": 53,
   "id": "c894119a",
   "metadata": {},
   "outputs": [],
   "source": [
    "new_lst = [12,['32.87', 'name'],45.1, 'Shreyas', ['Machine Learning', 'RBPL', 'course'], 'instructor', [' '], 'is']"
   ]
  },
  {
   "cell_type": "markdown",
   "id": "d7cfb691",
   "metadata": {},
   "source": [
    "1. Course name is Machine Learning\n",
    "2. Instructor name is Shreyas\n",
    "3. 87/12"
   ]
  },
  {
   "cell_type": "code",
   "execution_count": 65,
   "id": "f6ca1d6a",
   "metadata": {},
   "outputs": [
    {
     "data": {
      "text/plain": [
       "'Course name is Machine Learning'"
      ]
     },
     "execution_count": 65,
     "metadata": {},
     "output_type": "execute_result"
    }
   ],
   "source": [
    "#1\n",
    "new_lst[-4][-1].title()+new_lst[-2][0]+new_lst[1][-1]+new_lst[-2][0]+new_lst[-1]+new_lst[-2][0]+new_lst[4][0]"
   ]
  },
  {
   "cell_type": "code",
   "execution_count": 59,
   "id": "00e9a96c",
   "metadata": {},
   "outputs": [],
   "source": [
    "prac_list2 = [[98,[34.8,['hello world']],'Elon',[['Musk'],'Shreyas']], 'controls', 404, 747, ' ']\n"
   ]
  },
  {
   "cell_type": "markdown",
   "id": "e9f6db36",
   "metadata": {},
   "source": [
    "1. 'HELLO Elon Musk'\n",
    "2. do a division of any two numbers from prac_list2 and mulitply it with addition the other two numbers\n",
    "3. replace 'Shreyas' with 'everyone'\n",
    "4. 'Elon Musk controls everyone'"
   ]
  },
  {
   "cell_type": "code",
   "execution_count": 60,
   "id": "df70f58b",
   "metadata": {},
   "outputs": [],
   "source": [
    "prac_list = [12.3,[45.6,['hello at IIT Roorkee']], '45', 98, 'iHUB', ['Steve Jobs'], 'works', 32, ' ']"
   ]
  },
  {
   "cell_type": "markdown",
   "id": "4db2820c",
   "metadata": {},
   "source": [
    "1. 12.3 + 98\n",
    "2. 'Steve Jobs works at iHUB'\n",
    "3. replace 32 by <your name>\n",
    "4. 'hello Shreyas'"
   ]
  },
  {
   "cell_type": "code",
   "execution_count": null,
   "id": "8bd51886",
   "metadata": {},
   "outputs": [],
   "source": []
  }
 ],
 "metadata": {
  "kernelspec": {
   "display_name": "Python 3 (ipykernel)",
   "language": "python",
   "name": "python3"
  },
  "language_info": {
   "codemirror_mode": {
    "name": "ipython",
    "version": 3
   },
   "file_extension": ".py",
   "mimetype": "text/x-python",
   "name": "python",
   "nbconvert_exporter": "python",
   "pygments_lexer": "ipython3",
   "version": "3.11.5"
  }
 },
 "nbformat": 4,
 "nbformat_minor": 5
}
