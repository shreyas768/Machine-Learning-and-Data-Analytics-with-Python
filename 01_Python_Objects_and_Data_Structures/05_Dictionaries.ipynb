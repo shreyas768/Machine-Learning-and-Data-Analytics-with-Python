{
 "cells": [
  {
   "cell_type": "markdown",
   "id": "6391e6b0",
   "metadata": {},
   "source": [
    "###### Constructing a Dictionary"
   ]
  },
  {
   "cell_type": "code",
   "execution_count": 3,
   "id": "5ede0c2f",
   "metadata": {},
   "outputs": [],
   "source": [
    "dct = {'key2':'value2','key1':'value1'}"
   ]
  },
  {
   "cell_type": "code",
   "execution_count": 4,
   "id": "3c87318a",
   "metadata": {},
   "outputs": [
    {
     "data": {
      "text/plain": [
       "'value1'"
      ]
     },
     "execution_count": 4,
     "metadata": {},
     "output_type": "execute_result"
    }
   ],
   "source": [
    "dct['key1']"
   ]
  },
  {
   "cell_type": "code",
   "execution_count": 6,
   "id": "0dded91c",
   "metadata": {},
   "outputs": [
    {
     "data": {
      "text/plain": [
       "dict"
      ]
     },
     "execution_count": 6,
     "metadata": {},
     "output_type": "execute_result"
    }
   ],
   "source": [
    "type(dct)"
   ]
  },
  {
   "cell_type": "code",
   "execution_count": 7,
   "id": "8cc0db0e",
   "metadata": {},
   "outputs": [
    {
     "data": {
      "text/plain": [
       "str"
      ]
     },
     "execution_count": 7,
     "metadata": {},
     "output_type": "execute_result"
    }
   ],
   "source": [
    "type(dct['key1'])"
   ]
  },
  {
   "cell_type": "code",
   "execution_count": 5,
   "id": "fcfb88b5",
   "metadata": {},
   "outputs": [],
   "source": [
    "dct1 = {'k1':123,'k2':[12,23,33],'k3':12.96, 'k4':{'kk1':['Shreyas'],'kk2':{'a1':34.2}}}"
   ]
  },
  {
   "cell_type": "code",
   "execution_count": 8,
   "id": "1b6210d3",
   "metadata": {},
   "outputs": [
    {
     "data": {
      "text/plain": [
       "123"
      ]
     },
     "execution_count": 8,
     "metadata": {},
     "output_type": "execute_result"
    }
   ],
   "source": [
    "dct1['k1']"
   ]
  },
  {
   "cell_type": "code",
   "execution_count": 9,
   "id": "55cd458a",
   "metadata": {},
   "outputs": [
    {
     "data": {
      "text/plain": [
       "int"
      ]
     },
     "execution_count": 9,
     "metadata": {},
     "output_type": "execute_result"
    }
   ],
   "source": [
    "type(dct1['k1'])"
   ]
  },
  {
   "cell_type": "code",
   "execution_count": 11,
   "id": "5ac83ef9",
   "metadata": {},
   "outputs": [],
   "source": [
    "dct1['k2'].append('hi')"
   ]
  },
  {
   "cell_type": "code",
   "execution_count": 12,
   "id": "f21ae27c",
   "metadata": {},
   "outputs": [
    {
     "data": {
      "text/plain": [
       "{'k1': 123,\n",
       " 'k2': [12, 23, 33, 'hi'],\n",
       " 'k3': 12.96,\n",
       " 'k4': {'kk1': ['Shreyas'], 'kk2': {'a1': 34.2}}}"
      ]
     },
     "execution_count": 12,
     "metadata": {},
     "output_type": "execute_result"
    }
   ],
   "source": [
    "dct1"
   ]
  },
  {
   "cell_type": "code",
   "execution_count": 14,
   "id": "e6e7a0d7",
   "metadata": {},
   "outputs": [
    {
     "data": {
      "text/plain": [
       "2.5462962962962963"
      ]
     },
     "execution_count": 14,
     "metadata": {},
     "output_type": "execute_result"
    }
   ],
   "source": [
    "dct1['k2'][-2]/dct1['k3']"
   ]
  },
  {
   "cell_type": "code",
   "execution_count": 16,
   "id": "396cfc0f",
   "metadata": {},
   "outputs": [
    {
     "data": {
      "text/plain": [
       "dict"
      ]
     },
     "execution_count": 16,
     "metadata": {},
     "output_type": "execute_result"
    }
   ],
   "source": [
    "type(dct1['k4'])"
   ]
  },
  {
   "cell_type": "code",
   "execution_count": 19,
   "id": "45cf7f34",
   "metadata": {},
   "outputs": [
    {
     "data": {
      "text/plain": [
       "34.2"
      ]
     },
     "execution_count": 19,
     "metadata": {},
     "output_type": "execute_result"
    }
   ],
   "source": [
    "dct1['k4']['kk2']['a1']"
   ]
  },
  {
   "cell_type": "code",
   "execution_count": 20,
   "id": "e2a35578",
   "metadata": {},
   "outputs": [],
   "source": [
    "my_d2 = {'a':123,'b':[12,32.78,{'nes_b':'Shreyas'}], 'c': {'nes_c':['iHUB DivyaSampark IIT Roorkee Machine Learning RBPL']}}"
   ]
  },
  {
   "cell_type": "markdown",
   "id": "a3bd9b2d",
   "metadata": {},
   "source": [
    "1. Grab 'Shreyas'\n",
    "2. calculate (123/12) + len of strings in value of nes_c\n",
    "3. replace 123 with 'leads'\n",
    "4. create this sentence: 'Shreyas leads iHUB DivyaSampark IIT Roorkee Machine Learning'"
   ]
  },
  {
   "cell_type": "code",
   "execution_count": 30,
   "id": "26a24d32",
   "metadata": {},
   "outputs": [
    {
     "data": {
      "text/plain": [
       "'Shreyas'"
      ]
     },
     "execution_count": 30,
     "metadata": {},
     "output_type": "execute_result"
    }
   ],
   "source": [
    "#1\n",
    "my_d2['b'][-1]['nes_b']"
   ]
  },
  {
   "cell_type": "code",
   "execution_count": 31,
   "id": "a029a0d8",
   "metadata": {},
   "outputs": [
    {
     "data": {
      "text/plain": [
       "61.25"
      ]
     },
     "execution_count": 31,
     "metadata": {},
     "output_type": "execute_result"
    }
   ],
   "source": [
    "#2\n",
    "(my_d2['a']/my_d2['b'][0])+len(my_d2['c']['nes_c'][0])"
   ]
  },
  {
   "cell_type": "code",
   "execution_count": 36,
   "id": "0cb15b5b",
   "metadata": {},
   "outputs": [],
   "source": [
    "#3\n",
    "my_d2['a'] = ' leads '"
   ]
  },
  {
   "cell_type": "code",
   "execution_count": 37,
   "id": "e45d433e",
   "metadata": {},
   "outputs": [
    {
     "data": {
      "text/plain": [
       "{'a': ' leads ',\n",
       " 'b': [12, 32.78, {'nes_b': 'Shreyas'}],\n",
       " 'c': {'nes_c': ['iHUB DivyaSampark IIT Roorkee Machine Learning RBPL']}}"
      ]
     },
     "execution_count": 37,
     "metadata": {},
     "output_type": "execute_result"
    }
   ],
   "source": [
    "my_d2"
   ]
  },
  {
   "cell_type": "code",
   "execution_count": 42,
   "id": "58acad52",
   "metadata": {},
   "outputs": [
    {
     "data": {
      "text/plain": [
       "'Shreyas leads iHUB DivyaSampark IIT Roorkee Machine Learning'"
      ]
     },
     "execution_count": 42,
     "metadata": {},
     "output_type": "execute_result"
    }
   ],
   "source": [
    "#4\n",
    "my_d2['b'][-1]['nes_b']+my_d2['a']+my_d2['c']['nes_c'][0][:-5]"
   ]
  },
  {
   "cell_type": "markdown",
   "id": "6ffba08c",
   "metadata": {},
   "source": [
    "#### Few Dictionary Methods"
   ]
  },
  {
   "cell_type": "code",
   "execution_count": 1,
   "id": "504621f1",
   "metadata": {},
   "outputs": [],
   "source": [
    "d = {'k1':1,'k2':2,'k3':3}"
   ]
  },
  {
   "cell_type": "code",
   "execution_count": 2,
   "id": "959ea64f",
   "metadata": {},
   "outputs": [
    {
     "data": {
      "text/plain": [
       "dict_keys(['k1', 'k2', 'k3'])"
      ]
     },
     "execution_count": 2,
     "metadata": {},
     "output_type": "execute_result"
    }
   ],
   "source": [
    "d.keys()"
   ]
  },
  {
   "cell_type": "code",
   "execution_count": 3,
   "id": "9c5ad4f2",
   "metadata": {},
   "outputs": [
    {
     "data": {
      "text/plain": [
       "dict_values([1, 2, 3])"
      ]
     },
     "execution_count": 3,
     "metadata": {},
     "output_type": "execute_result"
    }
   ],
   "source": [
    "d.values()"
   ]
  },
  {
   "cell_type": "code",
   "execution_count": 4,
   "id": "09b7d016",
   "metadata": {},
   "outputs": [
    {
     "data": {
      "text/plain": [
       "dict_items([('k1', 1), ('k2', 2), ('k3', 3)])"
      ]
     },
     "execution_count": 4,
     "metadata": {},
     "output_type": "execute_result"
    }
   ],
   "source": [
    "d.items()"
   ]
  },
  {
   "cell_type": "code",
   "execution_count": 5,
   "id": "74140eec",
   "metadata": {},
   "outputs": [
    {
     "data": {
      "text/plain": [
       "['k1', 'k2', 'k3']"
      ]
     },
     "execution_count": 5,
     "metadata": {},
     "output_type": "execute_result"
    }
   ],
   "source": [
    "list(d.keys())"
   ]
  },
  {
   "cell_type": "code",
   "execution_count": 6,
   "id": "7c1981e6",
   "metadata": {},
   "outputs": [
    {
     "data": {
      "text/plain": [
       "[('k1', 1), ('k2', 2), ('k3', 3)]"
      ]
     },
     "execution_count": 6,
     "metadata": {},
     "output_type": "execute_result"
    }
   ],
   "source": [
    "list(d.items())"
   ]
  },
  {
   "cell_type": "code",
   "execution_count": 8,
   "id": "b1acf26e",
   "metadata": {},
   "outputs": [
    {
     "name": "stdout",
     "output_type": "stream",
     "text": [
      "k1 RBPL\n",
      "1\n",
      "k2 RBPL\n",
      "8\n",
      "k3 RBPL\n",
      "27\n"
     ]
    }
   ],
   "source": [
    "for k,v in list(d.items()):\n",
    "    print(k+' RBPL')\n",
    "    print(v**3)"
   ]
  },
  {
   "cell_type": "code",
   "execution_count": null,
   "id": "9718a02a",
   "metadata": {},
   "outputs": [],
   "source": []
  }
 ],
 "metadata": {
  "kernelspec": {
   "display_name": "Python 3 (ipykernel)",
   "language": "python",
   "name": "python3"
  },
  "language_info": {
   "codemirror_mode": {
    "name": "ipython",
    "version": 3
   },
   "file_extension": ".py",
   "mimetype": "text/x-python",
   "name": "python",
   "nbconvert_exporter": "python",
   "pygments_lexer": "ipython3",
   "version": "3.11.5"
  }
 },
 "nbformat": 4,
 "nbformat_minor": 5
}
