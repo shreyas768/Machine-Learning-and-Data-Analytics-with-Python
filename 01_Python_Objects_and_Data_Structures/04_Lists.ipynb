{
 "cells": [
  {
   "cell_type": "code",
   "execution_count": 1,
   "id": "8b054aaa",
   "metadata": {},
   "outputs": [],
   "source": [
    "my_list = [1,2,3]"
   ]
  },
  {
   "cell_type": "code",
   "execution_count": 2,
   "id": "d5ffe855",
   "metadata": {},
   "outputs": [
    {
     "data": {
      "text/plain": [
       "list"
      ]
     },
     "execution_count": 2,
     "metadata": {},
     "output_type": "execute_result"
    }
   ],
   "source": [
    "type(my_list)"
   ]
  },
  {
   "cell_type": "code",
   "execution_count": 3,
   "id": "e10bf010",
   "metadata": {},
   "outputs": [],
   "source": [
    "my_list1 = [23,100.1,'A string', 'o',43,'90','Shreyas',10034]"
   ]
  },
  {
   "cell_type": "code",
   "execution_count": 4,
   "id": "2039b729",
   "metadata": {},
   "outputs": [
    {
     "data": {
      "text/plain": [
       "[23, 100.1, 'A string', 'o', 43, '90', 'Shreyas', 10034]"
      ]
     },
     "execution_count": 4,
     "metadata": {},
     "output_type": "execute_result"
    }
   ],
   "source": [
    "my_list1"
   ]
  },
  {
   "cell_type": "code",
   "execution_count": 5,
   "id": "70ae5a20",
   "metadata": {},
   "outputs": [
    {
     "data": {
      "text/plain": [
       "8"
      ]
     },
     "execution_count": 5,
     "metadata": {},
     "output_type": "execute_result"
    }
   ],
   "source": [
    "len(my_list1)"
   ]
  },
  {
   "cell_type": "markdown",
   "id": "afd08b8d",
   "metadata": {},
   "source": [
    "###### Indexing and Slicing"
   ]
  },
  {
   "cell_type": "code",
   "execution_count": 6,
   "id": "d59a2824",
   "metadata": {
    "scrolled": true
   },
   "outputs": [
    {
     "data": {
      "text/plain": [
       "[23, 100.1, 'A string', 'o', 43, '90', 'Shreyas', 10034]"
      ]
     },
     "execution_count": 6,
     "metadata": {},
     "output_type": "execute_result"
    }
   ],
   "source": [
    "my_list1"
   ]
  },
  {
   "cell_type": "code",
   "execution_count": 7,
   "id": "ab04a84c",
   "metadata": {},
   "outputs": [
    {
     "data": {
      "text/plain": [
       "23"
      ]
     },
     "execution_count": 7,
     "metadata": {},
     "output_type": "execute_result"
    }
   ],
   "source": [
    "my_list1[0]"
   ]
  },
  {
   "cell_type": "code",
   "execution_count": 8,
   "id": "a0e90fc5",
   "metadata": {},
   "outputs": [
    {
     "data": {
      "text/plain": [
       "list"
      ]
     },
     "execution_count": 8,
     "metadata": {},
     "output_type": "execute_result"
    }
   ],
   "source": [
    "type(my_list1[2:])"
   ]
  },
  {
   "cell_type": "code",
   "execution_count": 9,
   "id": "645d9c4a",
   "metadata": {},
   "outputs": [
    {
     "data": {
      "text/plain": [
       "str"
      ]
     },
     "execution_count": 9,
     "metadata": {},
     "output_type": "execute_result"
    }
   ],
   "source": [
    "type(my_list1[2:][-2])"
   ]
  },
  {
   "cell_type": "code",
   "execution_count": 10,
   "id": "d4b4f542",
   "metadata": {},
   "outputs": [
    {
     "data": {
      "text/plain": [
       "'SHREYAS'"
      ]
     },
     "execution_count": 10,
     "metadata": {},
     "output_type": "execute_result"
    }
   ],
   "source": [
    "my_list1[2:][-2].upper()"
   ]
  },
  {
   "cell_type": "code",
   "execution_count": 11,
   "id": "273f9c6a",
   "metadata": {},
   "outputs": [
    {
     "data": {
      "text/plain": [
       "[100.1, 'A string', 'o', 43, '90', 'Shreyas']"
      ]
     },
     "execution_count": 11,
     "metadata": {},
     "output_type": "execute_result"
    }
   ],
   "source": [
    "my_list1[1:-1]"
   ]
  },
  {
   "cell_type": "code",
   "execution_count": 12,
   "id": "5b737a16",
   "metadata": {},
   "outputs": [
    {
     "data": {
      "text/plain": [
       "[23, 100.1, 'A string', 'o', 43, '90', 'Shreyas', 10034, 'new list']"
      ]
     },
     "execution_count": 12,
     "metadata": {},
     "output_type": "execute_result"
    }
   ],
   "source": [
    "#concatenation\n",
    "\n",
    "my_list1 + ['new list']"
   ]
  },
  {
   "cell_type": "code",
   "execution_count": 13,
   "id": "ae0742b2",
   "metadata": {},
   "outputs": [
    {
     "data": {
      "text/plain": [
       "[23, 100.1, 'A string', 'o', 43, '90', 'Shreyas', 10034]"
      ]
     },
     "execution_count": 13,
     "metadata": {},
     "output_type": "execute_result"
    }
   ],
   "source": [
    "my_list1"
   ]
  },
  {
   "cell_type": "code",
   "execution_count": 14,
   "id": "c735ea74",
   "metadata": {},
   "outputs": [
    {
     "data": {
      "text/plain": [
       "str"
      ]
     },
     "execution_count": 14,
     "metadata": {},
     "output_type": "execute_result"
    }
   ],
   "source": [
    "type('new list')"
   ]
  },
  {
   "cell_type": "code",
   "execution_count": 15,
   "id": "4362d2f2",
   "metadata": {},
   "outputs": [],
   "source": [
    "#reassignment\n",
    "\n",
    "my_list1 = my_list1 + ['new list']"
   ]
  },
  {
   "cell_type": "code",
   "execution_count": 16,
   "id": "028ef8f5",
   "metadata": {},
   "outputs": [
    {
     "data": {
      "text/plain": [
       "[23, 100.1, 'A string', 'o', 43, '90', 'Shreyas', 10034, 'new list']"
      ]
     },
     "execution_count": 16,
     "metadata": {},
     "output_type": "execute_result"
    }
   ],
   "source": [
    "my_list1"
   ]
  },
  {
   "cell_type": "code",
   "execution_count": 17,
   "id": "617a0820",
   "metadata": {},
   "outputs": [
    {
     "data": {
      "text/plain": [
       "[23,\n",
       " 100.1,\n",
       " 'A string',\n",
       " 'o',\n",
       " 43,\n",
       " '90',\n",
       " 'Shreyas',\n",
       " 10034,\n",
       " 'new list',\n",
       " ['new list']]"
      ]
     },
     "execution_count": 17,
     "metadata": {},
     "output_type": "execute_result"
    }
   ],
   "source": [
    "my_list1 + [['new list']]"
   ]
  },
  {
   "cell_type": "markdown",
   "id": "b5f07539",
   "metadata": {},
   "source": [
    "### Basic List Methods"
   ]
  },
  {
   "cell_type": "code",
   "execution_count": 18,
   "id": "f04f1011",
   "metadata": {},
   "outputs": [
    {
     "data": {
      "text/plain": [
       "[1, 2, 3]"
      ]
     },
     "execution_count": 18,
     "metadata": {},
     "output_type": "execute_result"
    }
   ],
   "source": [
    "lst = [1,2,3]\n",
    "lst"
   ]
  },
  {
   "cell_type": "code",
   "execution_count": 19,
   "id": "47d6fcc4",
   "metadata": {},
   "outputs": [],
   "source": [
    "#append\n",
    "lst.append('append me!!')"
   ]
  },
  {
   "cell_type": "code",
   "execution_count": 20,
   "id": "15e73ab9",
   "metadata": {},
   "outputs": [
    {
     "data": {
      "text/plain": [
       "[1, 2, 3, 'append me!!']"
      ]
     },
     "execution_count": 20,
     "metadata": {},
     "output_type": "execute_result"
    }
   ],
   "source": [
    "lst"
   ]
  },
  {
   "cell_type": "code",
   "execution_count": 21,
   "id": "b7eb6e60",
   "metadata": {},
   "outputs": [],
   "source": [
    "lst.append(34.2)"
   ]
  },
  {
   "cell_type": "code",
   "execution_count": 22,
   "id": "8cf200af",
   "metadata": {},
   "outputs": [
    {
     "data": {
      "text/plain": [
       "[1, 2, 3, 'append me!!', 34.2]"
      ]
     },
     "execution_count": 22,
     "metadata": {},
     "output_type": "execute_result"
    }
   ],
   "source": [
    "lst"
   ]
  },
  {
   "cell_type": "code",
   "execution_count": 23,
   "id": "6a3e83f5",
   "metadata": {},
   "outputs": [
    {
     "data": {
      "text/plain": [
       "34.2"
      ]
     },
     "execution_count": 23,
     "metadata": {},
     "output_type": "execute_result"
    }
   ],
   "source": [
    "#pop\n",
    "lst.pop()"
   ]
  },
  {
   "cell_type": "code",
   "execution_count": 24,
   "id": "b1eeb9f9",
   "metadata": {},
   "outputs": [
    {
     "data": {
      "text/plain": [
       "[1, 2, 3, 'append me!!']"
      ]
     },
     "execution_count": 24,
     "metadata": {},
     "output_type": "execute_result"
    }
   ],
   "source": [
    "lst"
   ]
  },
  {
   "cell_type": "code",
   "execution_count": 25,
   "id": "a5cecd01",
   "metadata": {},
   "outputs": [
    {
     "data": {
      "text/plain": [
       "3"
      ]
     },
     "execution_count": 25,
     "metadata": {},
     "output_type": "execute_result"
    }
   ],
   "source": [
    "lst.pop(2)"
   ]
  },
  {
   "cell_type": "code",
   "execution_count": 26,
   "id": "7b3ef00d",
   "metadata": {},
   "outputs": [
    {
     "data": {
      "text/plain": [
       "[1, 2, 'append me!!']"
      ]
     },
     "execution_count": 26,
     "metadata": {},
     "output_type": "execute_result"
    }
   ],
   "source": [
    "lst"
   ]
  },
  {
   "cell_type": "code",
   "execution_count": 27,
   "id": "0729c965",
   "metadata": {},
   "outputs": [],
   "source": [
    "popped_item = lst.pop(2)"
   ]
  },
  {
   "cell_type": "code",
   "execution_count": 28,
   "id": "db3f45cf",
   "metadata": {},
   "outputs": [
    {
     "data": {
      "text/plain": [
       "'append me'"
      ]
     },
     "execution_count": 28,
     "metadata": {},
     "output_type": "execute_result"
    }
   ],
   "source": [
    "popped_item[:-2]"
   ]
  },
  {
   "cell_type": "code",
   "execution_count": 29,
   "id": "f28476ca",
   "metadata": {},
   "outputs": [
    {
     "data": {
      "text/plain": [
       "[1, 2]"
      ]
     },
     "execution_count": 29,
     "metadata": {},
     "output_type": "execute_result"
    }
   ],
   "source": [
    "lst"
   ]
  },
  {
   "cell_type": "code",
   "execution_count": 88,
   "id": "eec6a2ed",
   "metadata": {},
   "outputs": [],
   "source": [
    "new_lst = ['a','e','x','b','c']"
   ]
  },
  {
   "cell_type": "code",
   "execution_count": 89,
   "id": "a8c8881a",
   "metadata": {},
   "outputs": [],
   "source": [
    "new_lst.reverse()"
   ]
  },
  {
   "cell_type": "code",
   "execution_count": 90,
   "id": "38f5dc60",
   "metadata": {},
   "outputs": [
    {
     "data": {
      "text/plain": [
       "['c', 'b', 'x', 'e', 'a']"
      ]
     },
     "execution_count": 90,
     "metadata": {},
     "output_type": "execute_result"
    }
   ],
   "source": [
    "new_lst"
   ]
  },
  {
   "cell_type": "code",
   "execution_count": 91,
   "id": "2b245014",
   "metadata": {},
   "outputs": [],
   "source": [
    "new_lst.sort()"
   ]
  },
  {
   "cell_type": "code",
   "execution_count": 92,
   "id": "f56ffb36",
   "metadata": {},
   "outputs": [
    {
     "data": {
      "text/plain": [
       "['a', 'b', 'c', 'e', 'x']"
      ]
     },
     "execution_count": 92,
     "metadata": {},
     "output_type": "execute_result"
    }
   ],
   "source": [
    "new_lst"
   ]
  },
  {
   "cell_type": "code",
   "execution_count": 93,
   "id": "94b33485",
   "metadata": {},
   "outputs": [
    {
     "data": {
      "text/plain": [
       "[3, 1, 5, 56, 15]"
      ]
     },
     "execution_count": 93,
     "metadata": {},
     "output_type": "execute_result"
    }
   ],
   "source": [
    "num = [3,1,5,56,15]\n",
    "num"
   ]
  },
  {
   "cell_type": "code",
   "execution_count": 94,
   "id": "3fe5b581",
   "metadata": {},
   "outputs": [],
   "source": [
    "num.sort()"
   ]
  },
  {
   "cell_type": "code",
   "execution_count": 95,
   "id": "0c23855d",
   "metadata": {},
   "outputs": [
    {
     "data": {
      "text/plain": [
       "[1, 3, 5, 15, 56]"
      ]
     },
     "execution_count": 95,
     "metadata": {},
     "output_type": "execute_result"
    }
   ],
   "source": [
    "num"
   ]
  },
  {
   "cell_type": "code",
   "execution_count": 96,
   "id": "3679def1",
   "metadata": {},
   "outputs": [],
   "source": [
    "num.reverse()"
   ]
  },
  {
   "cell_type": "code",
   "execution_count": 97,
   "id": "9cc4f7c3",
   "metadata": {},
   "outputs": [
    {
     "data": {
      "text/plain": [
       "[56, 15, 5, 3, 1]"
      ]
     },
     "execution_count": 97,
     "metadata": {},
     "output_type": "execute_result"
    }
   ],
   "source": [
    "num"
   ]
  },
  {
   "cell_type": "code",
   "execution_count": 120,
   "id": "a8772abb",
   "metadata": {},
   "outputs": [
    {
     "data": {
      "text/plain": [
       "[3, 1, 5, 56, 5]"
      ]
     },
     "execution_count": 120,
     "metadata": {},
     "output_type": "execute_result"
    }
   ],
   "source": [
    "num = [3,1,5,56,5]\n",
    "num"
   ]
  },
  {
   "cell_type": "code",
   "execution_count": 121,
   "id": "a055996d",
   "metadata": {},
   "outputs": [
    {
     "data": {
      "text/plain": [
       "0"
      ]
     },
     "execution_count": 121,
     "metadata": {},
     "output_type": "execute_result"
    }
   ],
   "source": [
    "num.count(31)"
   ]
  },
  {
   "cell_type": "code",
   "execution_count": 122,
   "id": "f2122c4f",
   "metadata": {},
   "outputs": [
    {
     "data": {
      "text/plain": [
       "[3, 1, 5, 56, 5]"
      ]
     },
     "execution_count": 122,
     "metadata": {},
     "output_type": "execute_result"
    }
   ],
   "source": [
    "num"
   ]
  },
  {
   "cell_type": "code",
   "execution_count": 123,
   "id": "f2224af8",
   "metadata": {},
   "outputs": [],
   "source": [
    "num.append([5,6])"
   ]
  },
  {
   "cell_type": "code",
   "execution_count": 124,
   "id": "295deaf2",
   "metadata": {},
   "outputs": [
    {
     "data": {
      "text/plain": [
       "[3, 1, 5, 56, 5, [5, 6]]"
      ]
     },
     "execution_count": 124,
     "metadata": {},
     "output_type": "execute_result"
    }
   ],
   "source": [
    "num"
   ]
  },
  {
   "cell_type": "code",
   "execution_count": 125,
   "id": "4fe91909",
   "metadata": {},
   "outputs": [
    {
     "data": {
      "text/plain": [
       "[5, 6]"
      ]
     },
     "execution_count": 125,
     "metadata": {},
     "output_type": "execute_result"
    }
   ],
   "source": [
    "num.pop()"
   ]
  },
  {
   "cell_type": "code",
   "execution_count": 126,
   "id": "d85f9885",
   "metadata": {},
   "outputs": [
    {
     "data": {
      "text/plain": [
       "[3, 1, 5, 56, 5]"
      ]
     },
     "execution_count": 126,
     "metadata": {},
     "output_type": "execute_result"
    }
   ],
   "source": [
    "num"
   ]
  },
  {
   "cell_type": "code",
   "execution_count": 127,
   "id": "8f130692",
   "metadata": {},
   "outputs": [],
   "source": [
    "num.extend([5,6])"
   ]
  },
  {
   "cell_type": "code",
   "execution_count": 128,
   "id": "0060c3f2",
   "metadata": {},
   "outputs": [
    {
     "data": {
      "text/plain": [
       "[3, 1, 5, 56, 5, 5, 6]"
      ]
     },
     "execution_count": 128,
     "metadata": {},
     "output_type": "execute_result"
    }
   ],
   "source": [
    "num"
   ]
  },
  {
   "cell_type": "code",
   "execution_count": 129,
   "id": "5b020d58",
   "metadata": {},
   "outputs": [
    {
     "data": {
      "text/plain": [
       "3"
      ]
     },
     "execution_count": 129,
     "metadata": {},
     "output_type": "execute_result"
    }
   ],
   "source": [
    "num.index(56)"
   ]
  },
  {
   "cell_type": "code",
   "execution_count": 130,
   "id": "f88cedf3",
   "metadata": {},
   "outputs": [],
   "source": [
    "num.insert(1,'one')"
   ]
  },
  {
   "cell_type": "code",
   "execution_count": 131,
   "id": "2883c368",
   "metadata": {},
   "outputs": [
    {
     "data": {
      "text/plain": [
       "[3, 'one', 1, 5, 56, 5, 5, 6]"
      ]
     },
     "execution_count": 131,
     "metadata": {},
     "output_type": "execute_result"
    }
   ],
   "source": [
    "num"
   ]
  },
  {
   "cell_type": "code",
   "execution_count": 132,
   "id": "980a0145",
   "metadata": {},
   "outputs": [],
   "source": [
    "num.insert(5,'five') #(index,object)"
   ]
  },
  {
   "cell_type": "code",
   "execution_count": 133,
   "id": "40e07f78",
   "metadata": {},
   "outputs": [
    {
     "data": {
      "text/plain": [
       "[3, 'one', 1, 5, 56, 'five', 5, 5, 6]"
      ]
     },
     "execution_count": 133,
     "metadata": {},
     "output_type": "execute_result"
    }
   ],
   "source": [
    "num"
   ]
  },
  {
   "cell_type": "code",
   "execution_count": 134,
   "id": "154e0fc1",
   "metadata": {},
   "outputs": [],
   "source": [
    "num.insert(4,['five','hi'])"
   ]
  },
  {
   "cell_type": "code",
   "execution_count": 135,
   "id": "c14da008",
   "metadata": {},
   "outputs": [
    {
     "data": {
      "text/plain": [
       "[3, 'one', 1, 5, ['five', 'hi'], 56, 'five', 5, 5, 6]"
      ]
     },
     "execution_count": 135,
     "metadata": {},
     "output_type": "execute_result"
    }
   ],
   "source": [
    "num"
   ]
  },
  {
   "cell_type": "code",
   "execution_count": 136,
   "id": "48f9ae6f",
   "metadata": {},
   "outputs": [],
   "source": [
    "num.remove('one')"
   ]
  },
  {
   "cell_type": "code",
   "execution_count": 137,
   "id": "3b0e5cdb",
   "metadata": {},
   "outputs": [
    {
     "data": {
      "text/plain": [
       "[3, 1, 5, ['five', 'hi'], 56, 'five', 5, 5, 6]"
      ]
     },
     "execution_count": 137,
     "metadata": {},
     "output_type": "execute_result"
    }
   ],
   "source": [
    "num"
   ]
  },
  {
   "cell_type": "code",
   "execution_count": null,
   "id": "5525d6b7",
   "metadata": {},
   "outputs": [],
   "source": []
  },
  {
   "cell_type": "markdown",
   "id": "fffa10f2",
   "metadata": {},
   "source": [
    "### Exercise"
   ]
  },
  {
   "cell_type": "code",
   "execution_count": 30,
   "id": "c894119a",
   "metadata": {},
   "outputs": [],
   "source": [
    "new_lst = [12,['32.87', 'name'],45.1, 'Shreyas', ['Machine Learning', 'RBPL', 'course'], 'instructor', [' '], 'is']"
   ]
  },
  {
   "cell_type": "markdown",
   "id": "d7cfb691",
   "metadata": {},
   "source": [
    "1. Course name is Machine Learning\n",
    "2. Instructor name is Shreyas\n",
    "3. 87/12"
   ]
  },
  {
   "cell_type": "code",
   "execution_count": 31,
   "id": "f6ca1d6a",
   "metadata": {},
   "outputs": [
    {
     "data": {
      "text/plain": [
       "'Course name is Machine Learning'"
      ]
     },
     "execution_count": 31,
     "metadata": {},
     "output_type": "execute_result"
    }
   ],
   "source": [
    "#1\n",
    "new_lst[-4][-1].title()+new_lst[-2][0]+new_lst[1][-1]+new_lst[-2][0]+new_lst[-1]+new_lst[-2][0]+new_lst[4][0]"
   ]
  },
  {
   "cell_type": "code",
   "execution_count": 36,
   "id": "4a5a3b66",
   "metadata": {},
   "outputs": [
    {
     "data": {
      "text/plain": [
       "'Instructor name is Shreyas'"
      ]
     },
     "execution_count": 36,
     "metadata": {},
     "output_type": "execute_result"
    }
   ],
   "source": [
    "#2\n",
    "new_lst[-3].title()+new_lst[-2][0]+new_lst[1][1]+new_lst[-2][0]+new_lst[-1]+new_lst[-2][0]+new_lst[3]"
   ]
  },
  {
   "cell_type": "code",
   "execution_count": 44,
   "id": "e6b91747",
   "metadata": {},
   "outputs": [
    {
     "data": {
      "text/plain": [
       "7.25"
      ]
     },
     "execution_count": 44,
     "metadata": {},
     "output_type": "execute_result"
    }
   ],
   "source": [
    "#3\n",
    "int(new_lst[1][0][-2:])/new_lst[0]"
   ]
  },
  {
   "cell_type": "code",
   "execution_count": 32,
   "id": "00e9a96c",
   "metadata": {},
   "outputs": [],
   "source": [
    "prac_list2 = [[98,[34.8,['hello world']],'Elon',[['Musk'],'Shreyas']], 'controls', 404, 747, ' ']\n"
   ]
  },
  {
   "cell_type": "markdown",
   "id": "e9f6db36",
   "metadata": {},
   "source": [
    "1. 'HELLO Elon Musk'\n",
    "2. do a division of any two numbers from prac_list2 and mulitply it with addition the other two numbers\n",
    "3. replace 'Shreyas' with 'everyone'\n",
    "4. 'Elon Musk controls everyone'"
   ]
  },
  {
   "cell_type": "code",
   "execution_count": 57,
   "id": "9399cf99",
   "metadata": {},
   "outputs": [
    {
     "data": {
      "text/plain": [
       "'HELLO Elon Musk'"
      ]
     },
     "execution_count": 57,
     "metadata": {},
     "output_type": "execute_result"
    }
   ],
   "source": [
    "#1\n",
    "prac_list2[0][1][1][0][:5].upper()+prac_list2[-1]+prac_list2[0][2]+prac_list2[-1]+prac_list2[0][3][0][0]"
   ]
  },
  {
   "cell_type": "code",
   "execution_count": 63,
   "id": "0bc79a8c",
   "metadata": {},
   "outputs": [
    {
     "data": {
      "text/plain": [
       "3241.32183908046"
      ]
     },
     "execution_count": 63,
     "metadata": {},
     "output_type": "execute_result"
    }
   ],
   "source": [
    "#2\n",
    "(prac_list2[0][0]/prac_list2[0][1][0])*(prac_list2[-3]+prac_list2[-2])"
   ]
  },
  {
   "cell_type": "code",
   "execution_count": 65,
   "id": "3c7360b5",
   "metadata": {},
   "outputs": [
    {
     "data": {
      "text/plain": [
       "3241.32183908046"
      ]
     },
     "execution_count": 65,
     "metadata": {},
     "output_type": "execute_result"
    }
   ],
   "source": [
    "(98/34.8)*(404+747)"
   ]
  },
  {
   "cell_type": "code",
   "execution_count": 69,
   "id": "245fd53d",
   "metadata": {},
   "outputs": [],
   "source": [
    "#3\n",
    "prac_list2[0][3][-1] = 'everyone'"
   ]
  },
  {
   "cell_type": "code",
   "execution_count": 72,
   "id": "6da81da1",
   "metadata": {},
   "outputs": [
    {
     "data": {
      "text/plain": [
       "'Elon Musk controls everyone'"
      ]
     },
     "execution_count": 72,
     "metadata": {},
     "output_type": "execute_result"
    }
   ],
   "source": [
    "#4\n",
    "prac_list2[0][2]+prac_list2[-1]+prac_list2[0][3][0][0]+prac_list2[-1]+prac_list2[-4]+prac_list2[-1]+prac_list2[0][3][-1]"
   ]
  },
  {
   "cell_type": "code",
   "execution_count": null,
   "id": "f5709f43",
   "metadata": {},
   "outputs": [],
   "source": []
  },
  {
   "cell_type": "code",
   "execution_count": 33,
   "id": "df70f58b",
   "metadata": {},
   "outputs": [],
   "source": [
    "prac_list = [12.3,[45.6,['hello at IIT Roorkee']], '45', 98, 'iHUB', ['Steve Jobs'], 'works', 32, ' ']"
   ]
  },
  {
   "cell_type": "markdown",
   "id": "4db2820c",
   "metadata": {},
   "source": [
    "1. 12.3 + 98\n",
    "2. 'Steve Jobs works at iHUB'\n",
    "3. replace 32 by 'your name'\n",
    "4. 'hello Shreyas'"
   ]
  },
  {
   "cell_type": "code",
   "execution_count": 74,
   "id": "8bd51886",
   "metadata": {},
   "outputs": [
    {
     "data": {
      "text/plain": [
       "110.3"
      ]
     },
     "execution_count": 74,
     "metadata": {},
     "output_type": "execute_result"
    }
   ],
   "source": [
    "#1\n",
    "prac_list[0]+prac_list[3]"
   ]
  },
  {
   "cell_type": "code",
   "execution_count": 82,
   "id": "3cab340d",
   "metadata": {},
   "outputs": [
    {
     "data": {
      "text/plain": [
       "'Steve Jobs works at iHUB'"
      ]
     },
     "execution_count": 82,
     "metadata": {},
     "output_type": "execute_result"
    }
   ],
   "source": [
    "#2\n",
    "prac_list[-4][0]+prac_list[-1]+prac_list[-3]+prac_list[1][1][0][5:9]+prac_list[-5]"
   ]
  },
  {
   "cell_type": "code",
   "execution_count": 83,
   "id": "2527a090",
   "metadata": {},
   "outputs": [],
   "source": [
    "#3\n",
    "prac_list[-2] = 'Shreyas'"
   ]
  },
  {
   "cell_type": "code",
   "execution_count": 84,
   "id": "c9eff907",
   "metadata": {},
   "outputs": [
    {
     "data": {
      "text/plain": [
       "[12.3,\n",
       " [45.6, ['hello at IIT Roorkee']],\n",
       " '45',\n",
       " 98,\n",
       " 'iHUB',\n",
       " ['Steve Jobs'],\n",
       " 'works',\n",
       " 'Shreyas',\n",
       " ' ']"
      ]
     },
     "execution_count": 84,
     "metadata": {},
     "output_type": "execute_result"
    }
   ],
   "source": [
    "prac_list"
   ]
  },
  {
   "cell_type": "code",
   "execution_count": 87,
   "id": "81f2ad81",
   "metadata": {},
   "outputs": [
    {
     "data": {
      "text/plain": [
       "'hello Shreyas'"
      ]
     },
     "execution_count": 87,
     "metadata": {},
     "output_type": "execute_result"
    }
   ],
   "source": [
    "prac_list[1][1][0][0:6]+prac_list[-2]"
   ]
  },
  {
   "cell_type": "code",
   "execution_count": null,
   "id": "67b7f5f6",
   "metadata": {},
   "outputs": [],
   "source": []
  }
 ],
 "metadata": {
  "kernelspec": {
   "display_name": "Python 3 (ipykernel)",
   "language": "python",
   "name": "python3"
  },
  "language_info": {
   "codemirror_mode": {
    "name": "ipython",
    "version": 3
   },
   "file_extension": ".py",
   "mimetype": "text/x-python",
   "name": "python",
   "nbconvert_exporter": "python",
   "pygments_lexer": "ipython3",
   "version": "3.11.5"
  }
 },
 "nbformat": 4,
 "nbformat_minor": 5
}
