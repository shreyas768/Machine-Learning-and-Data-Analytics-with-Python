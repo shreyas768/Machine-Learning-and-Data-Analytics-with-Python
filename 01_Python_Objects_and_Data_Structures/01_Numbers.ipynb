{
 "cells": [
  {
   "cell_type": "markdown",
   "id": "5f79f399",
   "metadata": {},
   "source": [
    "### Basic Arithmetics"
   ]
  },
  {
   "cell_type": "code",
   "execution_count": 5,
   "id": "1ec20730",
   "metadata": {},
   "outputs": [
    {
     "data": {
      "text/plain": [
       "6"
      ]
     },
     "execution_count": 5,
     "metadata": {},
     "output_type": "execute_result"
    }
   ],
   "source": [
    "#Addition\n",
    "\n",
    "2+4"
   ]
  },
  {
   "cell_type": "code",
   "execution_count": 6,
   "id": "e267b302",
   "metadata": {},
   "outputs": [
    {
     "data": {
      "text/plain": [
       "101"
      ]
     },
     "execution_count": 6,
     "metadata": {},
     "output_type": "execute_result"
    }
   ],
   "source": [
    "#Subtraction\n",
    "103-2"
   ]
  },
  {
   "cell_type": "code",
   "execution_count": 7,
   "id": "2152fb52",
   "metadata": {},
   "outputs": [
    {
     "data": {
      "text/plain": [
       "306"
      ]
     },
     "execution_count": 7,
     "metadata": {},
     "output_type": "execute_result"
    }
   ],
   "source": [
    "#Multiplication\n",
    "34*9"
   ]
  },
  {
   "cell_type": "code",
   "execution_count": 8,
   "id": "79f41563",
   "metadata": {},
   "outputs": [
    {
     "data": {
      "text/plain": [
       "2.25"
      ]
     },
     "execution_count": 8,
     "metadata": {},
     "output_type": "execute_result"
    }
   ],
   "source": [
    "#Division\n",
    "9/4"
   ]
  },
  {
   "cell_type": "code",
   "execution_count": 12,
   "id": "a8141104",
   "metadata": {},
   "outputs": [
    {
     "data": {
      "text/plain": [
       "2"
      ]
     },
     "execution_count": 12,
     "metadata": {},
     "output_type": "execute_result"
    }
   ],
   "source": [
    "#Floor division: Truncates everything after decimal\n",
    "9//4"
   ]
  },
  {
   "cell_type": "code",
   "execution_count": 14,
   "id": "a798b523",
   "metadata": {},
   "outputs": [
    {
     "data": {
      "text/plain": [
       "3"
      ]
     },
     "execution_count": 14,
     "metadata": {},
     "output_type": "execute_result"
    }
   ],
   "source": [
    "#Modulo: gives you the remainder\n",
    "7%4"
   ]
  },
  {
   "cell_type": "code",
   "execution_count": 15,
   "id": "00b3d677",
   "metadata": {},
   "outputs": [
    {
     "data": {
      "text/plain": [
       "49"
      ]
     },
     "execution_count": 15,
     "metadata": {},
     "output_type": "execute_result"
    }
   ],
   "source": [
    "#Power\n",
    "7**2"
   ]
  },
  {
   "cell_type": "code",
   "execution_count": 16,
   "id": "329db81a",
   "metadata": {},
   "outputs": [
    {
     "data": {
      "text/plain": [
       "9.0"
      ]
     },
     "execution_count": 16,
     "metadata": {},
     "output_type": "execute_result"
    }
   ],
   "source": [
    "81**0.5"
   ]
  },
  {
   "cell_type": "code",
   "execution_count": 17,
   "id": "15792e9a",
   "metadata": {},
   "outputs": [
    {
     "data": {
      "text/plain": [
       "108"
      ]
     },
     "execution_count": 17,
     "metadata": {},
     "output_type": "execute_result"
    }
   ],
   "source": [
    "#Order of operation followed in Python\n",
    "\n",
    "2 + 10*10+6"
   ]
  },
  {
   "cell_type": "code",
   "execution_count": 18,
   "id": "f23f99f7",
   "metadata": {},
   "outputs": [
    {
     "data": {
      "text/plain": [
       "192"
      ]
     },
     "execution_count": 18,
     "metadata": {},
     "output_type": "execute_result"
    }
   ],
   "source": [
    "(2 + 10)*(10+6)"
   ]
  },
  {
   "cell_type": "code",
   "execution_count": null,
   "id": "ae35e0b1",
   "metadata": {},
   "outputs": [],
   "source": []
  }
 ],
 "metadata": {
  "kernelspec": {
   "display_name": "Python 3 (ipykernel)",
   "language": "python",
   "name": "python3"
  },
  "language_info": {
   "codemirror_mode": {
    "name": "ipython",
    "version": 3
   },
   "file_extension": ".py",
   "mimetype": "text/x-python",
   "name": "python",
   "nbconvert_exporter": "python",
   "pygments_lexer": "ipython3",
   "version": "3.11.5"
  }
 },
 "nbformat": 4,
 "nbformat_minor": 5
}
